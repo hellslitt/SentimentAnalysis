{
 "cells": [
  {
   "cell_type": "code",
   "execution_count": 14,
   "id": "c75d72c1-273d-4437-b865-33d642f36922",
   "metadata": {},
   "outputs": [],
   "source": [
    "import pandas as pd\n",
    "import os\n",
    "import numpy as np\n",
    "\n",
    "# Cleaning\n",
    "import re\n",
    "import emoji\n",
    "import string\n",
    "import nltk\n",
    "from nltk.stem import WordNetLemmatizer,PorterStemmer\n",
    "from nltk.corpus import stopwords\n",
    "stop_words = set(stopwords.words('english'))\n",
    "\n",
    "# Plots\n",
    "import matplotlib.pyplot as plt\n",
    "import seaborn as sns\n",
    "\n",
    "# Models\n",
    "from sklearn.model_selection import train_test_split\n",
    "seed_value = 42\n",
    "\n",
    "#Naive Bayes\n",
    "from sklearn.feature_extraction.text import CountVectorizer\n",
    "from sklearn.feature_extraction.text import TfidfTransformer\n",
    "from sklearn.naive_bayes import MultinomialNB\n",
    "\n",
    "#Logistic regression\n",
    "from nltk.tokenize import word_tokenize\n",
    "from sklearn.linear_model import LogisticRegression #Prediction Model\n",
    "from sklearn.metrics import accuracy_score #Comparison between real and predicted\n",
    "\n",
    "#Random Forest\n",
    "from sklearn.ensemble import RandomForestClassifier\n",
    "\n",
    "#SVM\n",
    "from sklearn.svm import SVC"
   ]
  },
  {
   "cell_type": "code",
   "execution_count": 2,
   "id": "2a4c2754-afe7-4764-b2dc-0075f9d7707a",
   "metadata": {},
   "outputs": [],
   "source": [
    "pd.set_option('display.max_colwidth', None)\n",
    "pd.set_option('display.max_rows', None)"
   ]
  },
  {
   "cell_type": "code",
   "execution_count": 3,
   "id": "cfe247ea-3c02-4c41-a2ed-560ce6425916",
   "metadata": {},
   "outputs": [
    {
     "data": {
      "text/plain": [
       "'C:\\\\Users\\\\mamai\\\\Desktop\\\\Tesi\\\\Code\\\\notebookFinaliprove'"
      ]
     },
     "execution_count": 3,
     "metadata": {},
     "output_type": "execute_result"
    }
   ],
   "source": [
    "os.getcwd()"
   ]
  },
  {
   "cell_type": "code",
   "execution_count": 6,
   "id": "68a38c2a-887e-4747-b1ee-0b1da39da585",
   "metadata": {},
   "outputs": [],
   "source": [
    "def merge_csv(input1, input2, input3, input4):\n",
    "    path = 'C:\\\\Users\\\\mamai\\\\Desktop\\\\Tesi\\\\Code\\\\twitter download\\\\'\n",
    "    path1 = path + input1\n",
    "    path2 = path + input2\n",
    "    path3 = path + input3\n",
    "    path4 = path + input4\n",
    "    data1 = pd.read_csv(path1)\n",
    "    data2 = pd.read_csv(path2)\n",
    "    data3 = pd.read_csv(path3)\n",
    "    data4 = pd.read_csv(path4)\n",
    "    output_data = pd.concat([data1,data2,data3,data4])\n",
    "    output_data.reset_index(inplace=True, drop=True)\n",
    "    return output_data"
   ]
  },
  {
   "cell_type": "code",
   "execution_count": 7,
   "id": "46c6452b-823b-45c3-a636-14251ad6619c",
   "metadata": {},
   "outputs": [
    {
     "data": {
      "text/html": [
       "<div>\n",
       "<style scoped>\n",
       "    .dataframe tbody tr th:only-of-type {\n",
       "        vertical-align: middle;\n",
       "    }\n",
       "\n",
       "    .dataframe tbody tr th {\n",
       "        vertical-align: top;\n",
       "    }\n",
       "\n",
       "    .dataframe thead th {\n",
       "        text-align: right;\n",
       "    }\n",
       "</style>\n",
       "<table border=\"1\" class=\"dataframe\">\n",
       "  <thead>\n",
       "    <tr style=\"text-align: right;\">\n",
       "      <th></th>\n",
       "      <th>ID</th>\n",
       "      <th>text</th>\n",
       "      <th>sentiment</th>\n",
       "    </tr>\n",
       "  </thead>\n",
       "  <tbody>\n",
       "    <tr>\n",
       "      <th>0</th>\n",
       "      <td>1629275091325583362</td>\n",
       "      <td>RT @PoliticalMoons2: These two recent articles discuss H5N1 \"bird flu\" in detail; the first delineating an accurate 8-month old projection…</td>\n",
       "      <td>0.18750</td>\n",
       "    </tr>\n",
       "    <tr>\n",
       "      <th>1</th>\n",
       "      <td>1629275093242351617</td>\n",
       "      <td>RT @hotpriestt: eat her pussy👀</td>\n",
       "      <td>0.00000</td>\n",
       "    </tr>\n",
       "    <tr>\n",
       "      <th>2</th>\n",
       "      <td>1629275094294884352</td>\n",
       "      <td>RT @hcasan0va: These people have lost their minds. Just bc there’s a global org with a perspective doesn’t mean we have to comply. This wil…</td>\n",
       "      <td>-0.15625</td>\n",
       "    </tr>\n",
       "    <tr>\n",
       "      <th>3</th>\n",
       "      <td>1629275094735372289</td>\n",
       "      <td>RT @VigilantFox: Shedding Concerns: \"It Looks Like the mRNA is Transferring from the Vaccinated to the Unvaccinated\"\\n\\nCould you actually ta…</td>\n",
       "      <td>0.00000</td>\n",
       "    </tr>\n",
       "    <tr>\n",
       "      <th>4</th>\n",
       "      <td>1629275094445969408</td>\n",
       "      <td>@LeslynLewis @AirCanada Wear a mask then.</td>\n",
       "      <td>0.00000</td>\n",
       "    </tr>\n",
       "  </tbody>\n",
       "</table>\n",
       "</div>"
      ],
      "text/plain": [
       "                    ID  \\\n",
       "0  1629275091325583362   \n",
       "1  1629275093242351617   \n",
       "2  1629275094294884352   \n",
       "3  1629275094735372289   \n",
       "4  1629275094445969408   \n",
       "\n",
       "                                                                                                                                             text  \\\n",
       "0     RT @PoliticalMoons2: These two recent articles discuss H5N1 \"bird flu\" in detail; the first delineating an accurate 8-month old projection…   \n",
       "1                                                                                                                  RT @hotpriestt: eat her pussy👀   \n",
       "2    RT @hcasan0va: These people have lost their minds. Just bc there’s a global org with a perspective doesn’t mean we have to comply. This wil…   \n",
       "3  RT @VigilantFox: Shedding Concerns: \"It Looks Like the mRNA is Transferring from the Vaccinated to the Unvaccinated\"\\n\\nCould you actually ta…   \n",
       "4                                                                                                       @LeslynLewis @AirCanada Wear a mask then.   \n",
       "\n",
       "   sentiment  \n",
       "0    0.18750  \n",
       "1    0.00000  \n",
       "2   -0.15625  \n",
       "3    0.00000  \n",
       "4    0.00000  "
      ]
     },
     "execution_count": 7,
     "metadata": {},
     "output_type": "execute_result"
    }
   ],
   "source": [
    "data = merge_csv('data_5000.csv', 'data_10000.csv', 'data_from_15000_to_50000.csv', 'data_from_50000_to_130000.csv')\n",
    "data = data.drop(data.columns[0], axis=1).reset_index(drop=True)\n",
    "data.head()"
   ]
  },
  {
   "cell_type": "code",
   "execution_count": 8,
   "id": "603dee74-23c8-4a79-a0b1-b85908738f46",
   "metadata": {},
   "outputs": [],
   "source": [
    "# Cleaning"
   ]
  },
  {
   "cell_type": "code",
   "execution_count": 9,
   "id": "7428c69c-d11e-4169-8b75-5f4f010ee5d7",
   "metadata": {},
   "outputs": [],
   "source": [
    "##CUSTOM DEFINED FUNCTIONS TO CLEAN THE TWEETS\n",
    "\n",
    "#Clean emojis from text\n",
    "def strip_emoji(text):\n",
    "    return re.sub(emoji.get_emoji_regexp(), r\"\", text) #remove emoji\n",
    "\n",
    "#Remove punctuations, links, stopwords, mentions and \\r\\n new line characters\n",
    "def strip_all_entities(text): \n",
    "    text = text.replace('\\r', '').replace('\\n', ' ').lower() #remove \\n and \\r and lowercase\n",
    "    text = re.sub(r\"(?:\\@|https?\\://)\\S+\", \"\", text) #remove links and mentions\n",
    "    text = re.sub(r'[^\\x00-\\x7f]',r'', text) #remove non utf8/ascii characters such as '\\x9a\\x91\\x97\\x9a\\x97'\n",
    "    banned_list= string.punctuation\n",
    "    table = str.maketrans('', '', banned_list)\n",
    "    text = text.translate(table)\n",
    "    text = [word for word in text.split() if word not in stop_words]\n",
    "    text = ' '.join(text)\n",
    "    text =' '.join(word for word in text.split() if len(word) < 14) # remove words longer than 14 characters\n",
    "    return text\n",
    "\n",
    "#remove contractions\n",
    "def decontract(text):\n",
    "    text = re.sub(r\"can\\'t\", \"can not\", text)\n",
    "    text = re.sub(r\"n\\'t\", \" not\", text)\n",
    "    text = re.sub(r\"\\'re\", \" are\", text)\n",
    "    text = re.sub(r\"\\'s\", \" is\", text)\n",
    "    text = re.sub(r\"\\'d\", \" would\", text)\n",
    "    text = re.sub(r\"\\'ll\", \" will\", text)\n",
    "    text = re.sub(r\"\\'t\", \" not\", text)\n",
    "    text = re.sub(r\"\\'ve\", \" have\", text)\n",
    "    text = re.sub(r\"\\'m\", \" am\", text)\n",
    "    return text\n",
    "\n",
    "#clean hashtags at the end of the sentence, and keep those in the middle of the sentence by removing just the \"#\" symbol\n",
    "def clean_hashtags(tweet):\n",
    "    new_tweet = \" \".join(word.strip() for word in re.split('#(?!(?:hashtag)\\b)[\\w-]+(?=(?:\\s+#[\\w-]+)*\\s*$)', tweet)) #remove last hashtags\n",
    "    new_tweet2 = \" \".join(word.strip() for word in re.split('#|_', new_tweet)) #remove hashtags symbol from words in the middle of the sentence\n",
    "    return new_tweet2\n",
    "\n",
    "#clean retweet symbol\n",
    "def clean_retweet(text):\n",
    "    text = text.replace(\"rt \", \"\")\n",
    "    return text\n",
    "\n",
    "#Filter special characters such as \"&\" and \"$\" present in some words\n",
    "def filter_chars(a):\n",
    "    sent = []\n",
    "    for word in a.split(' '):\n",
    "        if ('$' in word) | ('&' in word):\n",
    "            sent.append('')\n",
    "        else:\n",
    "            sent.append(word)\n",
    "    return ' '.join(sent)\n",
    "\n",
    "#Remove multiple sequential spaces\n",
    "def remove_mult_spaces(text):\n",
    "    return re.sub(\"\\s\\s+\" , \" \", text)\n",
    "\n",
    "#Stemming\n",
    "def stemmer(text):\n",
    "    tokenized = nltk.word_tokenize(text)\n",
    "    ps = PorterStemmer()\n",
    "    return ' '.join([ps.stem(words) for words in tokenized])\n",
    "\n",
    "#Lemmatization \n",
    "#NOTE:Stemming seems to work better for this dataset\n",
    "def lemmatize(text):\n",
    "    tokenized = nltk.word_tokenize(text)\n",
    "    lm = WordNetLemmatizer()\n",
    "    return ' '.join([lm.lemmatize(words) for words in tokenized])\n",
    "\n",
    "#Then we apply all the defined functions in the following order\n",
    "def deep_clean(text):\n",
    "    text = strip_emoji(text)\n",
    "    text = decontract(text)\n",
    "    text = strip_all_entities(text)\n",
    "    text = clean_hashtags(text)\n",
    "    text = clean_retweet(text)\n",
    "    text = filter_chars(text)\n",
    "    text = remove_mult_spaces(text)\n",
    "    text = stemmer(text)\n",
    "    return text"
   ]
  },
  {
   "cell_type": "code",
   "execution_count": 10,
   "id": "6555274f-dcb8-40f8-a0e9-076b5689791f",
   "metadata": {},
   "outputs": [
    {
     "name": "stderr",
     "output_type": "stream",
     "text": [
      "C:\\Users\\mamai\\AppData\\Local\\Temp/ipykernel_30228/4024386252.py:5: DeprecationWarning: 'emoji.get_emoji_regexp()' is deprecated and will be removed in version 2.0.0. If you want to remove emoji from a string, consider the method emoji.replace_emoji(str, replace='').\n",
      "To hide this warning, pin/downgrade the package to 'emoji~=1.6.3'\n",
      "  return re.sub(emoji.get_emoji_regexp(), r\"\", text) #remove emoji\n"
     ]
    }
   ],
   "source": [
    "texts_new = []\n",
    "for t in data.text:\n",
    "    texts_new.append(deep_clean(t))"
   ]
  },
  {
   "cell_type": "code",
   "execution_count": 11,
   "id": "af03e2df-60df-4aaf-abe2-6fe5bec85af5",
   "metadata": {
    "tags": []
   },
   "outputs": [],
   "source": [
    "data['text_cleaned'] = texts_new"
   ]
  },
  {
   "cell_type": "code",
   "execution_count": 12,
   "id": "48a6a616-2ebf-448e-af39-53a5f46b9c9d",
   "metadata": {},
   "outputs": [
    {
     "data": {
      "text/html": [
       "<div>\n",
       "<style scoped>\n",
       "    .dataframe tbody tr th:only-of-type {\n",
       "        vertical-align: middle;\n",
       "    }\n",
       "\n",
       "    .dataframe tbody tr th {\n",
       "        vertical-align: top;\n",
       "    }\n",
       "\n",
       "    .dataframe thead th {\n",
       "        text-align: right;\n",
       "    }\n",
       "</style>\n",
       "<table border=\"1\" class=\"dataframe\">\n",
       "  <thead>\n",
       "    <tr style=\"text-align: right;\">\n",
       "      <th></th>\n",
       "      <th>ID</th>\n",
       "      <th>text</th>\n",
       "      <th>sentiment</th>\n",
       "      <th>text_cleaned</th>\n",
       "    </tr>\n",
       "  </thead>\n",
       "  <tbody>\n",
       "    <tr>\n",
       "      <th>0</th>\n",
       "      <td>1629275091325583362</td>\n",
       "      <td>RT @PoliticalMoons2: These two recent articles discuss H5N1 \"bird flu\" in detail; the first delineating an accurate 8-month old projection…</td>\n",
       "      <td>0.18750</td>\n",
       "      <td>two recent articl discuss h5n1 bird flu detail first delin accur 8month old project</td>\n",
       "    </tr>\n",
       "    <tr>\n",
       "      <th>1</th>\n",
       "      <td>1629275093242351617</td>\n",
       "      <td>RT @hotpriestt: eat her pussy👀</td>\n",
       "      <td>0.00000</td>\n",
       "      <td>eat pussi</td>\n",
       "    </tr>\n",
       "    <tr>\n",
       "      <th>2</th>\n",
       "      <td>1629275094294884352</td>\n",
       "      <td>RT @hcasan0va: These people have lost their minds. Just bc there’s a global org with a perspective doesn’t mean we have to comply. This wil…</td>\n",
       "      <td>-0.15625</td>\n",
       "      <td>peopl lost mind bc there global org perspect doesnt mean compli wil</td>\n",
       "    </tr>\n",
       "    <tr>\n",
       "      <th>3</th>\n",
       "      <td>1629275094735372289</td>\n",
       "      <td>RT @VigilantFox: Shedding Concerns: \"It Looks Like the mRNA is Transferring from the Vaccinated to the Unvaccinated\"\\n\\nCould you actually ta…</td>\n",
       "      <td>0.00000</td>\n",
       "      <td>shed concern look like mrna transfer vaccin unvaccin could actual ta</td>\n",
       "    </tr>\n",
       "    <tr>\n",
       "      <th>4</th>\n",
       "      <td>1629275094445969408</td>\n",
       "      <td>@LeslynLewis @AirCanada Wear a mask then.</td>\n",
       "      <td>0.00000</td>\n",
       "      <td>wear mask</td>\n",
       "    </tr>\n",
       "  </tbody>\n",
       "</table>\n",
       "</div>"
      ],
      "text/plain": [
       "                    ID  \\\n",
       "0  1629275091325583362   \n",
       "1  1629275093242351617   \n",
       "2  1629275094294884352   \n",
       "3  1629275094735372289   \n",
       "4  1629275094445969408   \n",
       "\n",
       "                                                                                                                                             text  \\\n",
       "0     RT @PoliticalMoons2: These two recent articles discuss H5N1 \"bird flu\" in detail; the first delineating an accurate 8-month old projection…   \n",
       "1                                                                                                                  RT @hotpriestt: eat her pussy👀   \n",
       "2    RT @hcasan0va: These people have lost their minds. Just bc there’s a global org with a perspective doesn’t mean we have to comply. This wil…   \n",
       "3  RT @VigilantFox: Shedding Concerns: \"It Looks Like the mRNA is Transferring from the Vaccinated to the Unvaccinated\"\\n\\nCould you actually ta…   \n",
       "4                                                                                                       @LeslynLewis @AirCanada Wear a mask then.   \n",
       "\n",
       "   sentiment  \\\n",
       "0    0.18750   \n",
       "1    0.00000   \n",
       "2   -0.15625   \n",
       "3    0.00000   \n",
       "4    0.00000   \n",
       "\n",
       "                                                                          text_cleaned  \n",
       "0  two recent articl discuss h5n1 bird flu detail first delin accur 8month old project  \n",
       "1                                                                            eat pussi  \n",
       "2                  peopl lost mind bc there global org perspect doesnt mean compli wil  \n",
       "3                 shed concern look like mrna transfer vaccin unvaccin could actual ta  \n",
       "4                                                                            wear mask  "
      ]
     },
     "execution_count": 12,
     "metadata": {},
     "output_type": "execute_result"
    }
   ],
   "source": [
    "data.head()"
   ]
  },
  {
   "cell_type": "code",
   "execution_count": 13,
   "id": "6a8baa48-3dbd-49da-83fd-a84dc36d5c71",
   "metadata": {},
   "outputs": [],
   "source": [
    "# Text length analysis"
   ]
  },
  {
   "cell_type": "code",
   "execution_count": 14,
   "id": "f32cb4be-8a87-412c-bc75-6b36a7d8e53e",
   "metadata": {},
   "outputs": [],
   "source": []
  },
  {
   "cell_type": "code",
   "execution_count": 15,
   "id": "0177e57c-0829-4faf-bf84-a6dc8dba6597",
   "metadata": {},
   "outputs": [],
   "source": [
    "text_len = []\n",
    "for text in data.text_cleaned:\n",
    "    tweet_len = len(text.split())\n",
    "    text_len.append(tweet_len)"
   ]
  },
  {
   "cell_type": "code",
   "execution_count": 16,
   "id": "a98d74a9-f2ea-4f43-88fd-0b839e78422b",
   "metadata": {},
   "outputs": [],
   "source": [
    "data['text_len'] = text_len"
   ]
  },
  {
   "cell_type": "code",
   "execution_count": 17,
   "id": "52b6989f-3323-47a3-872e-249c7477fbf2",
   "metadata": {},
   "outputs": [
    {
     "data": {
      "text/html": [
       "<div>\n",
       "<style scoped>\n",
       "    .dataframe tbody tr th:only-of-type {\n",
       "        vertical-align: middle;\n",
       "    }\n",
       "\n",
       "    .dataframe tbody tr th {\n",
       "        vertical-align: top;\n",
       "    }\n",
       "\n",
       "    .dataframe thead th {\n",
       "        text-align: right;\n",
       "    }\n",
       "</style>\n",
       "<table border=\"1\" class=\"dataframe\">\n",
       "  <thead>\n",
       "    <tr style=\"text-align: right;\">\n",
       "      <th></th>\n",
       "      <th>ID</th>\n",
       "      <th>text</th>\n",
       "      <th>sentiment</th>\n",
       "      <th>text_cleaned</th>\n",
       "      <th>text_len</th>\n",
       "    </tr>\n",
       "  </thead>\n",
       "  <tbody>\n",
       "    <tr>\n",
       "      <th>0</th>\n",
       "      <td>1629275091325583362</td>\n",
       "      <td>RT @PoliticalMoons2: These two recent articles discuss H5N1 \"bird flu\" in detail; the first delineating an accurate 8-month old projection…</td>\n",
       "      <td>0.18750</td>\n",
       "      <td>two recent articl discuss h5n1 bird flu detail first delin accur 8month old project</td>\n",
       "      <td>14</td>\n",
       "    </tr>\n",
       "    <tr>\n",
       "      <th>1</th>\n",
       "      <td>1629275093242351617</td>\n",
       "      <td>RT @hotpriestt: eat her pussy👀</td>\n",
       "      <td>0.00000</td>\n",
       "      <td>eat pussi</td>\n",
       "      <td>2</td>\n",
       "    </tr>\n",
       "    <tr>\n",
       "      <th>2</th>\n",
       "      <td>1629275094294884352</td>\n",
       "      <td>RT @hcasan0va: These people have lost their minds. Just bc there’s a global org with a perspective doesn’t mean we have to comply. This wil…</td>\n",
       "      <td>-0.15625</td>\n",
       "      <td>peopl lost mind bc there global org perspect doesnt mean compli wil</td>\n",
       "      <td>12</td>\n",
       "    </tr>\n",
       "    <tr>\n",
       "      <th>3</th>\n",
       "      <td>1629275094735372289</td>\n",
       "      <td>RT @VigilantFox: Shedding Concerns: \"It Looks Like the mRNA is Transferring from the Vaccinated to the Unvaccinated\"\\n\\nCould you actually ta…</td>\n",
       "      <td>0.00000</td>\n",
       "      <td>shed concern look like mrna transfer vaccin unvaccin could actual ta</td>\n",
       "      <td>11</td>\n",
       "    </tr>\n",
       "    <tr>\n",
       "      <th>4</th>\n",
       "      <td>1629275094445969408</td>\n",
       "      <td>@LeslynLewis @AirCanada Wear a mask then.</td>\n",
       "      <td>0.00000</td>\n",
       "      <td>wear mask</td>\n",
       "      <td>2</td>\n",
       "    </tr>\n",
       "  </tbody>\n",
       "</table>\n",
       "</div>"
      ],
      "text/plain": [
       "                    ID  \\\n",
       "0  1629275091325583362   \n",
       "1  1629275093242351617   \n",
       "2  1629275094294884352   \n",
       "3  1629275094735372289   \n",
       "4  1629275094445969408   \n",
       "\n",
       "                                                                                                                                             text  \\\n",
       "0     RT @PoliticalMoons2: These two recent articles discuss H5N1 \"bird flu\" in detail; the first delineating an accurate 8-month old projection…   \n",
       "1                                                                                                                  RT @hotpriestt: eat her pussy👀   \n",
       "2    RT @hcasan0va: These people have lost their minds. Just bc there’s a global org with a perspective doesn’t mean we have to comply. This wil…   \n",
       "3  RT @VigilantFox: Shedding Concerns: \"It Looks Like the mRNA is Transferring from the Vaccinated to the Unvaccinated\"\\n\\nCould you actually ta…   \n",
       "4                                                                                                       @LeslynLewis @AirCanada Wear a mask then.   \n",
       "\n",
       "   sentiment  \\\n",
       "0    0.18750   \n",
       "1    0.00000   \n",
       "2   -0.15625   \n",
       "3    0.00000   \n",
       "4    0.00000   \n",
       "\n",
       "                                                                          text_cleaned  \\\n",
       "0  two recent articl discuss h5n1 bird flu detail first delin accur 8month old project   \n",
       "1                                                                            eat pussi   \n",
       "2                  peopl lost mind bc there global org perspect doesnt mean compli wil   \n",
       "3                 shed concern look like mrna transfer vaccin unvaccin could actual ta   \n",
       "4                                                                            wear mask   \n",
       "\n",
       "   text_len  \n",
       "0        14  \n",
       "1         2  \n",
       "2        12  \n",
       "3        11  \n",
       "4         2  "
      ]
     },
     "execution_count": 17,
     "metadata": {},
     "output_type": "execute_result"
    }
   ],
   "source": [
    "data.head()"
   ]
  },
  {
   "cell_type": "code",
   "execution_count": 18,
   "id": "aa2c1f93-72da-4408-b084-d80b860f21db",
   "metadata": {},
   "outputs": [
    {
     "data": {
      "image/png": "[encoded data removed]",
      "text/plain": [
       "<Figure size 504x360 with 1 Axes>"
      ]
     },
     "metadata": {
      "needs_background": "light"
     },
     "output_type": "display_data"
    }
   ],
   "source": [
    "plt.figure(figsize=(7,5))\n",
    "ax = sns.countplot(x='text_len', data=data[data['text_len']<10], palette='mako')\n",
    "plt.title('Count of tweets with less than 10 words', fontsize=20)\n",
    "plt.yticks([])\n",
    "ax.bar_label(ax.containers[0])\n",
    "plt.ylabel('count')\n",
    "plt.xlabel('')\n",
    "plt.show()"
   ]
  },
  {
   "cell_type": "code",
   "execution_count": 19,
   "id": "59714da4-27e6-44da-8a4a-bed84a5503ad",
   "metadata": {},
   "outputs": [],
   "source": [
    "data = data[data['text_len'] > 3]"
   ]
  },
  {
   "cell_type": "code",
   "execution_count": 20,
   "id": "46ea266e-5bd0-4513-9578-66d1bb686a7f",
   "metadata": {
    "tags": []
   },
   "outputs": [],
   "source": [
    "#data.sort_values(by=['text_len'], ascending=False)"
   ]
  },
  {
   "cell_type": "code",
   "execution_count": 21,
   "id": "6f940b57-df6d-4d55-a2d7-27503e3aa8a5",
   "metadata": {},
   "outputs": [
    {
     "data": {
      "image/png": "[encoded data removed]",
      "text/plain": [
       "<Figure size 1152x360 with 1 Axes>"
      ]
     },
     "metadata": {
      "needs_background": "light"
     },
     "output_type": "display_data"
    }
   ],
   "source": [
    "\n",
    "plt.figure(figsize=(16,5))\n",
    "ax = sns.countplot(x='text_len', data=data[(data['text_len']<=1000) & (data['text_len']>10)], palette='Blues_r')\n",
    "plt.title('Count of tweets with high number of words', fontsize=25)\n",
    "plt.yticks([])\n",
    "ax.bar_label(ax.containers[0])\n",
    "plt.ylabel('count')\n",
    "plt.xlabel('')\n",
    "plt.show()"
   ]
  },
  {
   "cell_type": "code",
   "execution_count": 22,
   "id": "036abe3b-c0cc-4c77-a49a-502792cbaca0",
   "metadata": {},
   "outputs": [
    {
     "data": {
      "text/plain": [
       "51"
      ]
     },
     "execution_count": 22,
     "metadata": {},
     "output_type": "execute_result"
    }
   ],
   "source": [
    "max_len = np.max(data['text_len'])\n",
    "max_len "
   ]
  },
  {
   "cell_type": "code",
   "execution_count": 23,
   "id": "b0bb986a-6bc7-4150-a2c8-5cab7675d093",
   "metadata": {},
   "outputs": [
    {
     "data": {
      "text/plain": [
       "111047"
      ]
     },
     "execution_count": 23,
     "metadata": {},
     "output_type": "execute_result"
    }
   ],
   "source": [
    "len(data)"
   ]
  },
  {
   "cell_type": "code",
   "execution_count": 24,
   "id": "4bff1759-c261-4ea6-bce6-a2d02a897c05",
   "metadata": {},
   "outputs": [],
   "source": [
    "data.to_csv('merged_len_and_cleaned_130000.csv')"
   ]
  },
  {
   "cell_type": "code",
   "execution_count": 9,
   "id": "3af6e80e-9be6-492e-a3fb-ee04779d4752",
   "metadata": {},
   "outputs": [],
   "source": [
    "labels = []\n",
    "for sent in data.sentiment:\n",
    "    if sent == 0:\n",
    "        label = '0'\n",
    "    elif sent > 0 and sent <= 1:\n",
    "        label = '1'\n",
    "    elif sent >= -1 and sent <0:\n",
    "        label = '-1'\n",
    "    labels.append(label)"
   ]
  },
  {
   "cell_type": "code",
   "execution_count": 10,
   "id": "d45e3f15-5cfe-4b3c-bb7c-6b004940a11a",
   "metadata": {},
   "outputs": [
    {
     "data": {
      "text/html": [
       "<div>\n",
       "<style scoped>\n",
       "    .dataframe tbody tr th:only-of-type {\n",
       "        vertical-align: middle;\n",
       "    }\n",
       "\n",
       "    .dataframe tbody tr th {\n",
       "        vertical-align: top;\n",
       "    }\n",
       "\n",
       "    .dataframe thead th {\n",
       "        text-align: right;\n",
       "    }\n",
       "</style>\n",
       "<table border=\"1\" class=\"dataframe\">\n",
       "  <thead>\n",
       "    <tr style=\"text-align: right;\">\n",
       "      <th></th>\n",
       "      <th>ID</th>\n",
       "      <th>text</th>\n",
       "      <th>sentiment</th>\n",
       "      <th>text_cleaned</th>\n",
       "      <th>text_len</th>\n",
       "      <th>labels</th>\n",
       "    </tr>\n",
       "  </thead>\n",
       "  <tbody>\n",
       "    <tr>\n",
       "      <th>0</th>\n",
       "      <td>1629275091325583362</td>\n",
       "      <td>RT @PoliticalMoons2: These two recent articles...</td>\n",
       "      <td>0.18750</td>\n",
       "      <td>two recent articl discuss h5n1 bird flu detail...</td>\n",
       "      <td>14</td>\n",
       "      <td>1</td>\n",
       "    </tr>\n",
       "    <tr>\n",
       "      <th>2</th>\n",
       "      <td>1629275094294884352</td>\n",
       "      <td>RT @hcasan0va: These people have lost their mi...</td>\n",
       "      <td>-0.15625</td>\n",
       "      <td>peopl lost mind bc there global org perspect d...</td>\n",
       "      <td>12</td>\n",
       "      <td>-1</td>\n",
       "    </tr>\n",
       "    <tr>\n",
       "      <th>3</th>\n",
       "      <td>1629275094735372289</td>\n",
       "      <td>RT @VigilantFox: Shedding Concerns: \"It Looks ...</td>\n",
       "      <td>0.00000</td>\n",
       "      <td>shed concern look like mrna transfer vaccin un...</td>\n",
       "      <td>11</td>\n",
       "      <td>0</td>\n",
       "    </tr>\n",
       "    <tr>\n",
       "      <th>5</th>\n",
       "      <td>1629275098308902912</td>\n",
       "      <td>RT @VigilantFox: Ed Dowd: \"This Has Been a War...</td>\n",
       "      <td>0.10000</td>\n",
       "      <td>ed dowd war peopl die covid vaccin death earli...</td>\n",
       "      <td>12</td>\n",
       "      <td>1</td>\n",
       "    </tr>\n",
       "    <tr>\n",
       "      <th>6</th>\n",
       "      <td>1629275098451509250</td>\n",
       "      <td>RT @porta_janet: @VigilantFox @DrKStillwagon T...</td>\n",
       "      <td>0.00000</td>\n",
       "      <td>vaccin brought covid covid brought vaccin</td>\n",
       "      <td>6</td>\n",
       "      <td>0</td>\n",
       "    </tr>\n",
       "  </tbody>\n",
       "</table>\n",
       "</div>"
      ],
      "text/plain": [
       "                    ID                                               text  \\\n",
       "0  1629275091325583362  RT @PoliticalMoons2: These two recent articles...   \n",
       "2  1629275094294884352  RT @hcasan0va: These people have lost their mi...   \n",
       "3  1629275094735372289  RT @VigilantFox: Shedding Concerns: \"It Looks ...   \n",
       "5  1629275098308902912  RT @VigilantFox: Ed Dowd: \"This Has Been a War...   \n",
       "6  1629275098451509250  RT @porta_janet: @VigilantFox @DrKStillwagon T...   \n",
       "\n",
       "   sentiment                                       text_cleaned  text_len  \\\n",
       "0    0.18750  two recent articl discuss h5n1 bird flu detail...        14   \n",
       "2   -0.15625  peopl lost mind bc there global org perspect d...        12   \n",
       "3    0.00000  shed concern look like mrna transfer vaccin un...        11   \n",
       "5    0.10000  ed dowd war peopl die covid vaccin death earli...        12   \n",
       "6    0.00000          vaccin brought covid covid brought vaccin         6   \n",
       "\n",
       "  labels  \n",
       "0      1  \n",
       "2     -1  \n",
       "3      0  \n",
       "5      1  \n",
       "6      0  "
      ]
     },
     "execution_count": 10,
     "metadata": {},
     "output_type": "execute_result"
    }
   ],
   "source": [
    "data['labels'] = labels\n",
    "data.head()"
   ]
  },
  {
   "cell_type": "markdown",
   "id": "af9bd6d5-1c43-40d3-900f-359af4c12d67",
   "metadata": {},
   "source": [
    "# Machine Learning models"
   ]
  },
  {
   "cell_type": "code",
   "execution_count": 15,
   "id": "d5036be6-1e64-4688-b0f1-ae623d0d3d91",
   "metadata": {},
   "outputs": [
    {
     "data": {
      "text/html": [
       "<div>\n",
       "<style scoped>\n",
       "    .dataframe tbody tr th:only-of-type {\n",
       "        vertical-align: middle;\n",
       "    }\n",
       "\n",
       "    .dataframe tbody tr th {\n",
       "        vertical-align: top;\n",
       "    }\n",
       "\n",
       "    .dataframe thead th {\n",
       "        text-align: right;\n",
       "    }\n",
       "</style>\n",
       "<table border=\"1\" class=\"dataframe\">\n",
       "  <thead>\n",
       "    <tr style=\"text-align: right;\">\n",
       "      <th></th>\n",
       "      <th>ID</th>\n",
       "      <th>text</th>\n",
       "      <th>sentiment</th>\n",
       "      <th>text_cleaned</th>\n",
       "      <th>text_len</th>\n",
       "      <th>labels</th>\n",
       "    </tr>\n",
       "  </thead>\n",
       "  <tbody>\n",
       "    <tr>\n",
       "      <th>0</th>\n",
       "      <td>1629275091325583362</td>\n",
       "      <td>RT @PoliticalMoons2: These two recent articles...</td>\n",
       "      <td>0.18750</td>\n",
       "      <td>two recent articl discuss h5n1 bird flu detail...</td>\n",
       "      <td>14</td>\n",
       "      <td>1</td>\n",
       "    </tr>\n",
       "    <tr>\n",
       "      <th>1</th>\n",
       "      <td>1629275094294884352</td>\n",
       "      <td>RT @hcasan0va: These people have lost their mi...</td>\n",
       "      <td>-0.15625</td>\n",
       "      <td>peopl lost mind bc there global org perspect d...</td>\n",
       "      <td>12</td>\n",
       "      <td>-1</td>\n",
       "    </tr>\n",
       "    <tr>\n",
       "      <th>2</th>\n",
       "      <td>1629275094735372289</td>\n",
       "      <td>RT @VigilantFox: Shedding Concerns: \"It Looks ...</td>\n",
       "      <td>0.00000</td>\n",
       "      <td>shed concern look like mrna transfer vaccin un...</td>\n",
       "      <td>11</td>\n",
       "      <td>0</td>\n",
       "    </tr>\n",
       "    <tr>\n",
       "      <th>3</th>\n",
       "      <td>1629275098308902912</td>\n",
       "      <td>RT @VigilantFox: Ed Dowd: \"This Has Been a War...</td>\n",
       "      <td>0.10000</td>\n",
       "      <td>ed dowd war peopl die covid vaccin death earli...</td>\n",
       "      <td>12</td>\n",
       "      <td>1</td>\n",
       "    </tr>\n",
       "    <tr>\n",
       "      <th>4</th>\n",
       "      <td>1629275098451509250</td>\n",
       "      <td>RT @porta_janet: @VigilantFox @DrKStillwagon T...</td>\n",
       "      <td>0.00000</td>\n",
       "      <td>vaccin brought covid covid brought vaccin</td>\n",
       "      <td>6</td>\n",
       "      <td>0</td>\n",
       "    </tr>\n",
       "  </tbody>\n",
       "</table>\n",
       "</div>"
      ],
      "text/plain": [
       "                    ID                                               text  \\\n",
       "0  1629275091325583362  RT @PoliticalMoons2: These two recent articles...   \n",
       "1  1629275094294884352  RT @hcasan0va: These people have lost their mi...   \n",
       "2  1629275094735372289  RT @VigilantFox: Shedding Concerns: \"It Looks ...   \n",
       "3  1629275098308902912  RT @VigilantFox: Ed Dowd: \"This Has Been a War...   \n",
       "4  1629275098451509250  RT @porta_janet: @VigilantFox @DrKStillwagon T...   \n",
       "\n",
       "   sentiment                                       text_cleaned  text_len  \\\n",
       "0    0.18750  two recent articl discuss h5n1 bird flu detail...        14   \n",
       "1   -0.15625  peopl lost mind bc there global org perspect d...        12   \n",
       "2    0.00000  shed concern look like mrna transfer vaccin un...        11   \n",
       "3    0.10000  ed dowd war peopl die covid vaccin death earli...        12   \n",
       "4    0.00000          vaccin brought covid covid brought vaccin         6   \n",
       "\n",
       "   labels  \n",
       "0       1  \n",
       "1      -1  \n",
       "2       0  \n",
       "3       1  \n",
       "4       0  "
      ]
     },
     "execution_count": 15,
     "metadata": {},
     "output_type": "execute_result"
    }
   ],
   "source": [
    "data = pd.read_csv('C:\\\\Users\\\\mamai\\\\Desktop\\\\Tesi\\\\Code\\\\notebookFinaliprove\\\\merged_len_sent_and_cleaned_130000.csv')\n",
    "data.head()"
   ]
  },
  {
   "cell_type": "code",
   "execution_count": 16,
   "id": "b6bfb950-3fe9-44a6-89ba-d696c0f2dc64",
   "metadata": {},
   "outputs": [
    {
     "data": {
      "text/plain": [
       "51"
      ]
     },
     "execution_count": 16,
     "metadata": {},
     "output_type": "execute_result"
    }
   ],
   "source": [
    "max_len=np.max(data.text_len)\n",
    "max_len"
   ]
  },
  {
   "cell_type": "code",
   "execution_count": 17,
   "id": "2f8d2aa5-e931-4e7c-97f6-182bda87feab",
   "metadata": {},
   "outputs": [],
   "source": [
    "X = data['text_cleaned']\n",
    "y = data['labels']"
   ]
  },
  {
   "cell_type": "code",
   "execution_count": 18,
   "id": "7f50e06f-a8ff-496a-976f-ed73b6bc8130",
   "metadata": {},
   "outputs": [],
   "source": [
    "X_train, X_test, y_train, y_test = train_test_split(X, y, test_size=0.4, stratify=y, random_state=seed_value)"
   ]
  },
  {
   "cell_type": "code",
   "execution_count": 19,
   "id": "88439a95-0a2f-428b-b40e-edc9db03f4ba",
   "metadata": {},
   "outputs": [],
   "source": [
    "X_train, X_valid, y_train, y_valid = train_test_split(X_train, y_train, test_size=0.2, stratify=y_train, random_state=seed_value)"
   ]
  },
  {
   "cell_type": "code",
   "execution_count": 20,
   "id": "d542976e-4c11-45ea-a693-017bed12399d",
   "metadata": {},
   "outputs": [
    {
     "data": {
      "text/plain": [
       "17176     dr pierr gilbewarn 1995 magnet vaccin rwanda o...\n",
       "21723     gop exsen inhof retir due long covid oppos cov...\n",
       "107595    fda cdc ever awar unpublic health risk associ ...\n",
       "30860     start tomorrow auction almost everyth everyth ...\n",
       "52207     shock 625000 increas myocard sinc vaccin rollo...\n",
       "Name: text_cleaned, dtype: object"
      ]
     },
     "execution_count": 20,
     "metadata": {},
     "output_type": "execute_result"
    }
   ],
   "source": [
    "X_train.head()"
   ]
  },
  {
   "cell_type": "code",
   "execution_count": 21,
   "id": "fda00432-16b8-451a-94e5-6a59f244068c",
   "metadata": {},
   "outputs": [],
   "source": [
    "clf = CountVectorizer()\n",
    "X_train_cv =  clf.fit_transform(X_train)\n",
    "X_test_cv = clf.transform(X_test)"
   ]
  },
  {
   "cell_type": "code",
   "execution_count": 22,
   "id": "fbba358a-3a49-49d2-9349-48f9a37abe36",
   "metadata": {},
   "outputs": [],
   "source": [
    "#sparse matrix, ogni colonna è una parola e ogni riga un tweet, nei valuea abbiamo quante volte compare la parola nl tweet"
   ]
  },
  {
   "cell_type": "code",
   "execution_count": 23,
   "id": "2e262c1a-1f4f-448f-8961-e0c4507d7cfb",
   "metadata": {},
   "outputs": [],
   "source": [
    "tf_transformer = TfidfTransformer(use_idf=True).fit(X_train_cv)\n",
    "X_train_tf = tf_transformer.transform(X_train_cv)\n",
    "X_test_tf = tf_transformer.transform(X_test_cv)"
   ]
  },
  {
   "cell_type": "code",
   "execution_count": 24,
   "id": "1f423eed-fac1-427a-abc7-72e26e607edf",
   "metadata": {},
   "outputs": [],
   "source": [
    "# sparse matrix (dovrebbe essere riaggiustata con la frequenza delle parole o boh)"
   ]
  },
  {
   "cell_type": "markdown",
   "id": "a885a1a0-30c3-46a8-98bc-d7bd1d626a1b",
   "metadata": {
    "tags": []
   },
   "source": [
    "# Naive Bayes"
   ]
  },
  {
   "cell_type": "code",
   "execution_count": 20,
   "id": "7b11faed-aef0-4e75-b71d-fdac29cbf47f",
   "metadata": {},
   "outputs": [
    {
     "data": {
      "text/html": [
       "<style>#sk-container-id-1 {color: black;background-color: white;}#sk-container-id-1 pre{padding: 0;}#sk-container-id-1 div.sk-toggleable {background-color: white;}#sk-container-id-1 label.sk-toggleable__label {cursor: pointer;display: block;width: 100%;margin-bottom: 0;padding: 0.3em;box-sizing: border-box;text-align: center;}#sk-container-id-1 label.sk-toggleable__label-arrow:before {content: \"▸\";float: left;margin-right: 0.25em;color: #696969;}#sk-container-id-1 label.sk-toggleable__label-arrow:hover:before {color: black;}#sk-container-id-1 div.sk-estimator:hover label.sk-toggleable__label-arrow:before {color: black;}#sk-container-id-1 div.sk-toggleable__content {max-height: 0;max-width: 0;overflow: hidden;text-align: left;background-color: #f0f8ff;}#sk-container-id-1 div.sk-toggleable__content pre {margin: 0.2em;color: black;border-radius: 0.25em;background-color: #f0f8ff;}#sk-container-id-1 input.sk-toggleable__control:checked~div.sk-toggleable__content {max-height: 200px;max-width: 100%;overflow: auto;}#sk-container-id-1 input.sk-toggleable__control:checked~label.sk-toggleable__label-arrow:before {content: \"▾\";}#sk-container-id-1 div.sk-estimator input.sk-toggleable__control:checked~label.sk-toggleable__label {background-color: #d4ebff;}#sk-container-id-1 div.sk-label input.sk-toggleable__control:checked~label.sk-toggleable__label {background-color: #d4ebff;}#sk-container-id-1 input.sk-hidden--visually {border: 0;clip: rect(1px 1px 1px 1px);clip: rect(1px, 1px, 1px, 1px);height: 1px;margin: -1px;overflow: hidden;padding: 0;position: absolute;width: 1px;}#sk-container-id-1 div.sk-estimator {font-family: monospace;background-color: #f0f8ff;border: 1px dotted black;border-radius: 0.25em;box-sizing: border-box;margin-bottom: 0.5em;}#sk-container-id-1 div.sk-estimator:hover {background-color: #d4ebff;}#sk-container-id-1 div.sk-parallel-item::after {content: \"\";width: 100%;border-bottom: 1px solid gray;flex-grow: 1;}#sk-container-id-1 div.sk-label:hover label.sk-toggleable__label {background-color: #d4ebff;}#sk-container-id-1 div.sk-serial::before {content: \"\";position: absolute;border-left: 1px solid gray;box-sizing: border-box;top: 0;bottom: 0;left: 50%;z-index: 0;}#sk-container-id-1 div.sk-serial {display: flex;flex-direction: column;align-items: center;background-color: white;padding-right: 0.2em;padding-left: 0.2em;position: relative;}#sk-container-id-1 div.sk-item {position: relative;z-index: 1;}#sk-container-id-1 div.sk-parallel {display: flex;align-items: stretch;justify-content: center;background-color: white;position: relative;}#sk-container-id-1 div.sk-item::before, #sk-container-id-1 div.sk-parallel-item::before {content: \"\";position: absolute;border-left: 1px solid gray;box-sizing: border-box;top: 0;bottom: 0;left: 50%;z-index: -1;}#sk-container-id-1 div.sk-parallel-item {display: flex;flex-direction: column;z-index: 1;position: relative;background-color: white;}#sk-container-id-1 div.sk-parallel-item:first-child::after {align-self: flex-end;width: 50%;}#sk-container-id-1 div.sk-parallel-item:last-child::after {align-self: flex-start;width: 50%;}#sk-container-id-1 div.sk-parallel-item:only-child::after {width: 0;}#sk-container-id-1 div.sk-dashed-wrapped {border: 1px dashed gray;margin: 0 0.4em 0.5em 0.4em;box-sizing: border-box;padding-bottom: 0.4em;background-color: white;}#sk-container-id-1 div.sk-label label {font-family: monospace;font-weight: bold;display: inline-block;line-height: 1.2em;}#sk-container-id-1 div.sk-label-container {text-align: center;}#sk-container-id-1 div.sk-container {/* jupyter's `normalize.less` sets `[hidden] { display: none; }` but bootstrap.min.css set `[hidden] { display: none !important; }` so we also need the `!important` here to be able to override the default hidden behavior on the sphinx rendered scikit-learn.org. See: https://github.com/scikit-learn/scikit-learn/issues/21755 */display: inline-block !important;position: relative;}#sk-container-id-1 div.sk-text-repr-fallback {display: none;}</style><div id=\"sk-container-id-1\" class=\"sk-top-container\"><div class=\"sk-text-repr-fallback\"><pre>MultinomialNB()</pre><b>In a Jupyter environment, please rerun this cell to show the HTML representation or trust the notebook. <br />On GitHub, the HTML representation is unable to render, please try loading this page with nbviewer.org.</b></div><div class=\"sk-container\" hidden><div class=\"sk-item\"><div class=\"sk-estimator sk-toggleable\"><input class=\"sk-toggleable__control sk-hidden--visually\" id=\"sk-estimator-id-1\" type=\"checkbox\" checked><label for=\"sk-estimator-id-1\" class=\"sk-toggleable__label sk-toggleable__label-arrow\">MultinomialNB</label><div class=\"sk-toggleable__content\"><pre>MultinomialNB()</pre></div></div></div></div></div>"
      ],
      "text/plain": [
       "MultinomialNB()"
      ]
     },
     "execution_count": 20,
     "metadata": {},
     "output_type": "execute_result"
    }
   ],
   "source": [
    "nb_clf = MultinomialNB()\n",
    "nb_clf.fit(X_train_tf, y_train)"
   ]
  },
  {
   "cell_type": "code",
   "execution_count": 21,
   "id": "1045d205-4704-44fd-a751-1c49486871c7",
   "metadata": {},
   "outputs": [
    {
     "data": {
      "text/plain": [
       "array([ 1,  1,  0, ...,  1, -1,  0], dtype=int64)"
      ]
     },
     "execution_count": 21,
     "metadata": {},
     "output_type": "execute_result"
    }
   ],
   "source": [
    "nb_pred = nb_clf.predict(X_test_tf)\n",
    "nb_pred"
   ]
  },
  {
   "cell_type": "code",
   "execution_count": 22,
   "id": "ceab485a-c23f-4a9f-af89-f88b087269ef",
   "metadata": {},
   "outputs": [
    {
     "name": "stdout",
     "output_type": "stream",
     "text": [
      "Classification Report for Naive Bayes:\n",
      "               precision    recall  f1-score   support\n",
      "\n",
      "          -1       0.90      0.73      0.80     12894\n",
      "           0       0.89      0.76      0.82     14411\n",
      "           1       0.74      0.94      0.82     17114\n",
      "\n",
      "    accuracy                           0.82     44419\n",
      "   macro avg       0.84      0.81      0.82     44419\n",
      "weighted avg       0.83      0.82      0.82     44419\n",
      "\n"
     ]
    }
   ],
   "source": [
    "from sklearn.metrics import classification_report, confusion_matrix\n",
    "print('Classification Report for Naive Bayes:\\n',classification_report(y_test, nb_pred))"
   ]
  },
  {
   "cell_type": "code",
   "execution_count": 23,
   "id": "980a5bb7-ddde-4f06-9108-a72b5fd8ed56",
   "metadata": {},
   "outputs": [
    {
     "name": "stdout",
     "output_type": "stream",
     "text": [
      "[[ 9366   690  2838]\n",
      " [  592 10908  2911]\n",
      " [  481   631 16002]]\n"
     ]
    }
   ],
   "source": [
    "conf = confusion_matrix(y_test,nb_pred)\n",
    "print(conf)"
   ]
  },
  {
   "cell_type": "code",
   "execution_count": 24,
   "id": "5393ddb1-cdc6-4216-943c-bb1378042da1",
   "metadata": {},
   "outputs": [],
   "source": [
    "conf_df = pd.DataFrame(data=conf, columns=['Actual Negative:-1', 'Actual Neutral:0', 'Actual Positive:1'], \n",
    "                                 index=['Predict Negative:-1', 'Predict Neutral:0', 'Predict Positive:1'])"
   ]
  },
  {
   "cell_type": "code",
   "execution_count": 25,
   "id": "f3f28973-5bd3-47d2-a084-1fe62cbeb788",
   "metadata": {},
   "outputs": [
    {
     "data": {
      "text/plain": [
       "<AxesSubplot:>"
      ]
     },
     "execution_count": 25,
     "metadata": {},
     "output_type": "execute_result"
    },
    {
     "data": {
      "image/png": "[encoded data removed]",
      "text/plain": [
       "<Figure size 432x288 with 2 Axes>"
      ]
     },
     "metadata": {
      "needs_background": "light"
     },
     "output_type": "display_data"
    }
   ],
   "source": [
    "sns.heatmap(conf_df, annot = True, fmt = '', cmap = 'Blues')"
   ]
  },
  {
   "cell_type": "code",
   "execution_count": 26,
   "id": "9289d1e3-7dfc-481e-961c-399246844705",
   "metadata": {
    "tags": []
   },
   "outputs": [],
   "source": [
    "#y_test"
   ]
  },
  {
   "cell_type": "code",
   "execution_count": 27,
   "id": "f94747eb-6935-4f9d-9a83-2f8e682e1c1f",
   "metadata": {},
   "outputs": [
    {
     "name": "stdout",
     "output_type": "stream",
     "text": [
      "Counter({1: 17114, 0: 14411, -1: 12894})\n"
     ]
    }
   ],
   "source": [
    "import collections\n",
    "c = collections.Counter(y_test)\n",
    "print(c)"
   ]
  },
  {
   "cell_type": "markdown",
   "id": "6c158015-cfd0-403c-9a75-55383f89b0c3",
   "metadata": {
    "tags": []
   },
   "source": [
    "# Logistic regression"
   ]
  },
  {
   "cell_type": "code",
   "execution_count": 28,
   "id": "a4301eb9-93c8-49fb-a569-46b7ca63cd01",
   "metadata": {},
   "outputs": [],
   "source": [
    "#Initial Bag of Words\n",
    "bow_counts = CountVectorizer(\n",
    "    tokenizer=word_tokenize\n",
    ")\n",
    "X_train_bow =  bow_counts.fit_transform(X_train)\n",
    "X_test_bow = bow_counts.transform(X_test)"
   ]
  },
  {
   "cell_type": "code",
   "execution_count": 29,
   "id": "39a34a2f-6527-4ae4-8dd9-84b8f5c635b9",
   "metadata": {},
   "outputs": [],
   "source": [
    "y_train_bow = y_train\n",
    "y_test_bow = y_test"
   ]
  },
  {
   "cell_type": "code",
   "execution_count": 30,
   "id": "c349dbeb-52f9-4b80-bfa0-5e7aafc491c9",
   "metadata": {},
   "outputs": [
    {
     "name": "stdout",
     "output_type": "stream",
     "text": [
      "Accuracy:  92.24656115626196\n"
     ]
    }
   ],
   "source": [
    "# Logistic regression\n",
    "model1 = LogisticRegression(C=1, solver=\"liblinear\",max_iter=200)\n",
    "model1.fit(X_train_bow, y_train_bow)\n",
    "# Prediction\n",
    "test_pred = model1.predict(X_test_bow)\n",
    "print(\"Accuracy: \", accuracy_score(y_test_bow, test_pred) * 100)"
   ]
  },
  {
   "cell_type": "code",
   "execution_count": 31,
   "id": "d84178d1-dc84-4eb1-b9f7-b2f248bedb33",
   "metadata": {},
   "outputs": [
    {
     "name": "stdout",
     "output_type": "stream",
     "text": [
      "Classification Report for Logistic Regression:\n",
      "               precision    recall  f1-score   support\n",
      "\n",
      "          -1       0.93      0.89      0.91     12894\n",
      "           0       0.91      0.95      0.93     14411\n",
      "           1       0.93      0.92      0.93     17114\n",
      "\n",
      "    accuracy                           0.92     44419\n",
      "   macro avg       0.92      0.92      0.92     44419\n",
      "weighted avg       0.92      0.92      0.92     44419\n",
      "\n"
     ]
    }
   ],
   "source": [
    "print('Classification Report for Logistic Regression:\\n',classification_report(y_test, test_pred))"
   ]
  },
  {
   "cell_type": "code",
   "execution_count": 32,
   "id": "59a7cf75-7f22-4ad7-bd21-d2a307686a13",
   "metadata": {},
   "outputs": [
    {
     "name": "stdout",
     "output_type": "stream",
     "text": [
      "[[11536   610   748]\n",
      " [  320 13679   412]\n",
      " [  611   743 15760]]\n"
     ]
    }
   ],
   "source": [
    "conf_log = confusion_matrix(y_test,test_pred)\n",
    "print(conf_log)"
   ]
  },
  {
   "cell_type": "code",
   "execution_count": 33,
   "id": "dd378af4-e17a-4a5b-bfb4-5d484fe85f60",
   "metadata": {},
   "outputs": [],
   "source": [
    "conf_df_log = pd.DataFrame(data=conf_log, columns=['Actual Negative:-1', 'Actual Neutral:0', 'Actual Positive:1'], \n",
    "                                 index=['Predict Negative:-1', 'Predict Neutral:0', 'Predict Positive:1'])"
   ]
  },
  {
   "cell_type": "code",
   "execution_count": 34,
   "id": "a4c59ad9-73ec-4855-9c9f-252406e93788",
   "metadata": {},
   "outputs": [
    {
     "data": {
      "text/plain": [
       "<AxesSubplot:>"
      ]
     },
     "execution_count": 34,
     "metadata": {},
     "output_type": "execute_result"
    },
    {
     "data": {
      "image/png": "[encoded data removed]",
      "text/plain": [
       "<Figure size 432x288 with 2 Axes>"
      ]
     },
     "metadata": {
      "needs_background": "light"
     },
     "output_type": "display_data"
    }
   ],
   "source": [
    "sns.heatmap(conf_df_log, annot = True, fmt = '', cmap = 'Blues')"
   ]
  },
  {
   "cell_type": "markdown",
   "id": "a4b96490-8496-4c3e-81f8-8c8e95b24631",
   "metadata": {
    "tags": []
   },
   "source": [
    "# Random Forest"
   ]
  },
  {
   "cell_type": "code",
   "execution_count": 31,
   "id": "7f6ec9fa-8e32-49d0-bdff-f118da08e45a",
   "metadata": {},
   "outputs": [
    {
     "data": {
      "text/html": [
       "<style>#sk-container-id-2 {color: black;background-color: white;}#sk-container-id-2 pre{padding: 0;}#sk-container-id-2 div.sk-toggleable {background-color: white;}#sk-container-id-2 label.sk-toggleable__label {cursor: pointer;display: block;width: 100%;margin-bottom: 0;padding: 0.3em;box-sizing: border-box;text-align: center;}#sk-container-id-2 label.sk-toggleable__label-arrow:before {content: \"▸\";float: left;margin-right: 0.25em;color: #696969;}#sk-container-id-2 label.sk-toggleable__label-arrow:hover:before {color: black;}#sk-container-id-2 div.sk-estimator:hover label.sk-toggleable__label-arrow:before {color: black;}#sk-container-id-2 div.sk-toggleable__content {max-height: 0;max-width: 0;overflow: hidden;text-align: left;background-color: #f0f8ff;}#sk-container-id-2 div.sk-toggleable__content pre {margin: 0.2em;color: black;border-radius: 0.25em;background-color: #f0f8ff;}#sk-container-id-2 input.sk-toggleable__control:checked~div.sk-toggleable__content {max-height: 200px;max-width: 100%;overflow: auto;}#sk-container-id-2 input.sk-toggleable__control:checked~label.sk-toggleable__label-arrow:before {content: \"▾\";}#sk-container-id-2 div.sk-estimator input.sk-toggleable__control:checked~label.sk-toggleable__label {background-color: #d4ebff;}#sk-container-id-2 div.sk-label input.sk-toggleable__control:checked~label.sk-toggleable__label {background-color: #d4ebff;}#sk-container-id-2 input.sk-hidden--visually {border: 0;clip: rect(1px 1px 1px 1px);clip: rect(1px, 1px, 1px, 1px);height: 1px;margin: -1px;overflow: hidden;padding: 0;position: absolute;width: 1px;}#sk-container-id-2 div.sk-estimator {font-family: monospace;background-color: #f0f8ff;border: 1px dotted black;border-radius: 0.25em;box-sizing: border-box;margin-bottom: 0.5em;}#sk-container-id-2 div.sk-estimator:hover {background-color: #d4ebff;}#sk-container-id-2 div.sk-parallel-item::after {content: \"\";width: 100%;border-bottom: 1px solid gray;flex-grow: 1;}#sk-container-id-2 div.sk-label:hover label.sk-toggleable__label {background-color: #d4ebff;}#sk-container-id-2 div.sk-serial::before {content: \"\";position: absolute;border-left: 1px solid gray;box-sizing: border-box;top: 0;bottom: 0;left: 50%;z-index: 0;}#sk-container-id-2 div.sk-serial {display: flex;flex-direction: column;align-items: center;background-color: white;padding-right: 0.2em;padding-left: 0.2em;position: relative;}#sk-container-id-2 div.sk-item {position: relative;z-index: 1;}#sk-container-id-2 div.sk-parallel {display: flex;align-items: stretch;justify-content: center;background-color: white;position: relative;}#sk-container-id-2 div.sk-item::before, #sk-container-id-2 div.sk-parallel-item::before {content: \"\";position: absolute;border-left: 1px solid gray;box-sizing: border-box;top: 0;bottom: 0;left: 50%;z-index: -1;}#sk-container-id-2 div.sk-parallel-item {display: flex;flex-direction: column;z-index: 1;position: relative;background-color: white;}#sk-container-id-2 div.sk-parallel-item:first-child::after {align-self: flex-end;width: 50%;}#sk-container-id-2 div.sk-parallel-item:last-child::after {align-self: flex-start;width: 50%;}#sk-container-id-2 div.sk-parallel-item:only-child::after {width: 0;}#sk-container-id-2 div.sk-dashed-wrapped {border: 1px dashed gray;margin: 0 0.4em 0.5em 0.4em;box-sizing: border-box;padding-bottom: 0.4em;background-color: white;}#sk-container-id-2 div.sk-label label {font-family: monospace;font-weight: bold;display: inline-block;line-height: 1.2em;}#sk-container-id-2 div.sk-label-container {text-align: center;}#sk-container-id-2 div.sk-container {/* jupyter's `normalize.less` sets `[hidden] { display: none; }` but bootstrap.min.css set `[hidden] { display: none !important; }` so we also need the `!important` here to be able to override the default hidden behavior on the sphinx rendered scikit-learn.org. See: https://github.com/scikit-learn/scikit-learn/issues/21755 */display: inline-block !important;position: relative;}#sk-container-id-2 div.sk-text-repr-fallback {display: none;}</style><div id=\"sk-container-id-2\" class=\"sk-top-container\"><div class=\"sk-text-repr-fallback\"><pre>RandomForestClassifier()</pre><b>In a Jupyter environment, please rerun this cell to show the HTML representation or trust the notebook. <br />On GitHub, the HTML representation is unable to render, please try loading this page with nbviewer.org.</b></div><div class=\"sk-container\" hidden><div class=\"sk-item\"><div class=\"sk-estimator sk-toggleable\"><input class=\"sk-toggleable__control sk-hidden--visually\" id=\"sk-estimator-id-2\" type=\"checkbox\" checked><label for=\"sk-estimator-id-2\" class=\"sk-toggleable__label sk-toggleable__label-arrow\">RandomForestClassifier</label><div class=\"sk-toggleable__content\"><pre>RandomForestClassifier()</pre></div></div></div></div></div>"
      ],
      "text/plain": [
       "RandomForestClassifier()"
      ]
     },
     "execution_count": 31,
     "metadata": {},
     "output_type": "execute_result"
    }
   ],
   "source": [
    "rf_clf = RandomForestClassifier()\n",
    "rf_clf.fit(X_train_tf,y_train)"
   ]
  },
  {
   "cell_type": "code",
   "execution_count": 32,
   "id": "951a1866-ae3a-4803-9342-a9e2e48b550f",
   "metadata": {},
   "outputs": [
    {
     "data": {
      "text/plain": [
       "array([ 1,  1,  0, ..., -1, -1, -1], dtype=int64)"
      ]
     },
     "execution_count": 32,
     "metadata": {},
     "output_type": "execute_result"
    }
   ],
   "source": [
    "rf_pred = rf_clf.predict(X_test_tf)\n",
    "rf_pred"
   ]
  },
  {
   "cell_type": "code",
   "execution_count": 33,
   "id": "5eacf15f-f405-491b-ab32-2a0408ea107c",
   "metadata": {},
   "outputs": [
    {
     "name": "stdout",
     "output_type": "stream",
     "text": [
      "Classification Report for Random Forest:\n",
      "               precision    recall  f1-score   support\n",
      "\n",
      "          -1       0.96      0.87      0.91      9671\n",
      "           0       0.90      0.97      0.94     10808\n",
      "           1       0.93      0.93      0.93     12836\n",
      "\n",
      "    accuracy                           0.93     33315\n",
      "   macro avg       0.93      0.93      0.93     33315\n",
      "weighted avg       0.93      0.93      0.93     33315\n",
      "\n"
     ]
    }
   ],
   "source": [
    "print('Classification Report for Random Forest:\\n',classification_report(y_test, rf_pred))"
   ]
  },
  {
   "cell_type": "code",
   "execution_count": 34,
   "id": "1241250f-3fe7-4b81-9a88-e8346070d771",
   "metadata": {},
   "outputs": [
    {
     "name": "stdout",
     "output_type": "stream",
     "text": [
      "[[ 8435   531   705]\n",
      " [   57 10525   226]\n",
      " [  290   576 11970]]\n"
     ]
    }
   ],
   "source": [
    "conf_rf = confusion_matrix(y_test,rf_pred)\n",
    "print(conf_rf)"
   ]
  },
  {
   "cell_type": "code",
   "execution_count": 35,
   "id": "29e091b1-8a48-4e48-85ef-399c568bef1d",
   "metadata": {},
   "outputs": [],
   "source": [
    "conf_df_rf = pd.DataFrame(data=conf_rf, columns=['Actual Negative:-1', 'Actual Neutral:0', 'Actual Positive:1'], \n",
    "                                 index=['Predict Negative:-1', 'Predict Neutral:0', 'Predict Positive:1'])"
   ]
  },
  {
   "cell_type": "code",
   "execution_count": 36,
   "id": "107717c0-9909-4e74-8752-2c96c5eec431",
   "metadata": {},
   "outputs": [
    {
     "data": {
      "text/plain": [
       "<AxesSubplot:>"
      ]
     },
     "execution_count": 36,
     "metadata": {},
     "output_type": "execute_result"
    },
    {
     "data": {
      "image/png": "[encoded data removed]",
      "text/plain": [
       "<Figure size 432x288 with 2 Axes>"
      ]
     },
     "metadata": {
      "needs_background": "light"
     },
     "output_type": "display_data"
    }
   ],
   "source": [
    "sns.heatmap(conf_df_rf, annot = True, fmt = '', cmap = 'Blues')"
   ]
  },
  {
   "cell_type": "markdown",
   "id": "a69d8ede-4bf2-45f9-978d-c7ae351d4588",
   "metadata": {
    "tags": []
   },
   "source": [
    "# SVM"
   ]
  },
  {
   "cell_type": "code",
   "execution_count": 37,
   "id": "055ef2ee-0925-4904-bf19-0588e13c870e",
   "metadata": {},
   "outputs": [],
   "source": [
    "#long time to train!"
   ]
  },
  {
   "cell_type": "code",
   "execution_count": 38,
   "id": "d810aab3-d4ef-44d9-8342-70b5ed15f050",
   "metadata": {},
   "outputs": [
    {
     "data": {
      "text/html": [
       "<style>#sk-container-id-3 {color: black;background-color: white;}#sk-container-id-3 pre{padding: 0;}#sk-container-id-3 div.sk-toggleable {background-color: white;}#sk-container-id-3 label.sk-toggleable__label {cursor: pointer;display: block;width: 100%;margin-bottom: 0;padding: 0.3em;box-sizing: border-box;text-align: center;}#sk-container-id-3 label.sk-toggleable__label-arrow:before {content: \"▸\";float: left;margin-right: 0.25em;color: #696969;}#sk-container-id-3 label.sk-toggleable__label-arrow:hover:before {color: black;}#sk-container-id-3 div.sk-estimator:hover label.sk-toggleable__label-arrow:before {color: black;}#sk-container-id-3 div.sk-toggleable__content {max-height: 0;max-width: 0;overflow: hidden;text-align: left;background-color: #f0f8ff;}#sk-container-id-3 div.sk-toggleable__content pre {margin: 0.2em;color: black;border-radius: 0.25em;background-color: #f0f8ff;}#sk-container-id-3 input.sk-toggleable__control:checked~div.sk-toggleable__content {max-height: 200px;max-width: 100%;overflow: auto;}#sk-container-id-3 input.sk-toggleable__control:checked~label.sk-toggleable__label-arrow:before {content: \"▾\";}#sk-container-id-3 div.sk-estimator input.sk-toggleable__control:checked~label.sk-toggleable__label {background-color: #d4ebff;}#sk-container-id-3 div.sk-label input.sk-toggleable__control:checked~label.sk-toggleable__label {background-color: #d4ebff;}#sk-container-id-3 input.sk-hidden--visually {border: 0;clip: rect(1px 1px 1px 1px);clip: rect(1px, 1px, 1px, 1px);height: 1px;margin: -1px;overflow: hidden;padding: 0;position: absolute;width: 1px;}#sk-container-id-3 div.sk-estimator {font-family: monospace;background-color: #f0f8ff;border: 1px dotted black;border-radius: 0.25em;box-sizing: border-box;margin-bottom: 0.5em;}#sk-container-id-3 div.sk-estimator:hover {background-color: #d4ebff;}#sk-container-id-3 div.sk-parallel-item::after {content: \"\";width: 100%;border-bottom: 1px solid gray;flex-grow: 1;}#sk-container-id-3 div.sk-label:hover label.sk-toggleable__label {background-color: #d4ebff;}#sk-container-id-3 div.sk-serial::before {content: \"\";position: absolute;border-left: 1px solid gray;box-sizing: border-box;top: 0;bottom: 0;left: 50%;z-index: 0;}#sk-container-id-3 div.sk-serial {display: flex;flex-direction: column;align-items: center;background-color: white;padding-right: 0.2em;padding-left: 0.2em;position: relative;}#sk-container-id-3 div.sk-item {position: relative;z-index: 1;}#sk-container-id-3 div.sk-parallel {display: flex;align-items: stretch;justify-content: center;background-color: white;position: relative;}#sk-container-id-3 div.sk-item::before, #sk-container-id-3 div.sk-parallel-item::before {content: \"\";position: absolute;border-left: 1px solid gray;box-sizing: border-box;top: 0;bottom: 0;left: 50%;z-index: -1;}#sk-container-id-3 div.sk-parallel-item {display: flex;flex-direction: column;z-index: 1;position: relative;background-color: white;}#sk-container-id-3 div.sk-parallel-item:first-child::after {align-self: flex-end;width: 50%;}#sk-container-id-3 div.sk-parallel-item:last-child::after {align-self: flex-start;width: 50%;}#sk-container-id-3 div.sk-parallel-item:only-child::after {width: 0;}#sk-container-id-3 div.sk-dashed-wrapped {border: 1px dashed gray;margin: 0 0.4em 0.5em 0.4em;box-sizing: border-box;padding-bottom: 0.4em;background-color: white;}#sk-container-id-3 div.sk-label label {font-family: monospace;font-weight: bold;display: inline-block;line-height: 1.2em;}#sk-container-id-3 div.sk-label-container {text-align: center;}#sk-container-id-3 div.sk-container {/* jupyter's `normalize.less` sets `[hidden] { display: none; }` but bootstrap.min.css set `[hidden] { display: none !important; }` so we also need the `!important` here to be able to override the default hidden behavior on the sphinx rendered scikit-learn.org. See: https://github.com/scikit-learn/scikit-learn/issues/21755 */display: inline-block !important;position: relative;}#sk-container-id-3 div.sk-text-repr-fallback {display: none;}</style><div id=\"sk-container-id-3\" class=\"sk-top-container\"><div class=\"sk-text-repr-fallback\"><pre>SVC()</pre><b>In a Jupyter environment, please rerun this cell to show the HTML representation or trust the notebook. <br />On GitHub, the HTML representation is unable to render, please try loading this page with nbviewer.org.</b></div><div class=\"sk-container\" hidden><div class=\"sk-item\"><div class=\"sk-estimator sk-toggleable\"><input class=\"sk-toggleable__control sk-hidden--visually\" id=\"sk-estimator-id-3\" type=\"checkbox\" checked><label for=\"sk-estimator-id-3\" class=\"sk-toggleable__label sk-toggleable__label-arrow\">SVC</label><div class=\"sk-toggleable__content\"><pre>SVC()</pre></div></div></div></div></div>"
      ],
      "text/plain": [
       "SVC()"
      ]
     },
     "execution_count": 38,
     "metadata": {},
     "output_type": "execute_result"
    }
   ],
   "source": [
    "svm_clf=SVC()\n",
    "svm_clf.fit(X_train_tf,y_train)"
   ]
  },
  {
   "cell_type": "code",
   "execution_count": 39,
   "id": "b45043b3-5263-419c-978f-ebb1a6bf9a48",
   "metadata": {},
   "outputs": [
    {
     "data": {
      "text/plain": [
       "array([ 1,  1,  0, ...,  1, -1, -1], dtype=int64)"
      ]
     },
     "execution_count": 39,
     "metadata": {},
     "output_type": "execute_result"
    }
   ],
   "source": [
    "svm_pred=svm_clf.predict(X_test_tf)\n",
    "svm_pred"
   ]
  },
  {
   "cell_type": "code",
   "execution_count": 40,
   "id": "0f3756e4-44fc-469f-aa6e-bbb01d28eb43",
   "metadata": {},
   "outputs": [
    {
     "name": "stdout",
     "output_type": "stream",
     "text": [
      "Classification Report for SVM:\n",
      "               precision    recall  f1-score   support\n",
      "\n",
      "          -1       0.95      0.89      0.92      9671\n",
      "           0       0.92      0.96      0.94     10808\n",
      "           1       0.93      0.94      0.94     12836\n",
      "\n",
      "    accuracy                           0.93     33315\n",
      "   macro avg       0.93      0.93      0.93     33315\n",
      "weighted avg       0.93      0.93      0.93     33315\n",
      "\n"
     ]
    }
   ],
   "source": [
    "print('Classification Report for SVM:\\n',classification_report(y_test, svm_pred))"
   ]
  },
  {
   "cell_type": "code",
   "execution_count": 41,
   "id": "7a70d852-bc2e-46ff-8baf-b78eb426144f",
   "metadata": {},
   "outputs": [
    {
     "name": "stdout",
     "output_type": "stream",
     "text": [
      "[[ 8642   464   565]\n",
      " [  114 10403   291]\n",
      " [  313   472 12051]]\n"
     ]
    }
   ],
   "source": [
    "conf_svm = confusion_matrix(y_test,svm_pred)\n",
    "print(conf_svm)"
   ]
  },
  {
   "cell_type": "code",
   "execution_count": 42,
   "id": "51e25bf3-3ec8-4326-8807-36cdcb7f670f",
   "metadata": {},
   "outputs": [],
   "source": [
    "conf_df_svm = pd.DataFrame(data=conf_svm, columns=['Actual Negative:-1', 'Actual Neutral:0', 'Actual Positive:1'], \n",
    "                                 index=['Predict Negative:-1', 'Predict Neutral:0', 'Predict Positive:1'])"
   ]
  },
  {
   "cell_type": "code",
   "execution_count": 43,
   "id": "430dd483-f028-47e4-b58a-4e78a07b0543",
   "metadata": {},
   "outputs": [
    {
     "data": {
      "text/plain": [
       "<AxesSubplot:>"
      ]
     },
     "execution_count": 43,
     "metadata": {},
     "output_type": "execute_result"
    },
    {
     "data": {
      "image/png": "[encoded data removed]",
      "text/plain": [
       "<Figure size 432x288 with 2 Axes>"
      ]
     },
     "metadata": {
      "needs_background": "light"
     },
     "output_type": "display_data"
    }
   ],
   "source": [
    "sns.heatmap(conf_df_svm, annot = True, fmt = '', cmap = 'Blues')"
   ]
  },
  {
   "cell_type": "markdown",
   "id": "f815f820-47d8-4035-9811-7cf1cd01cb1d",
   "metadata": {},
   "source": [
    "# Conclusion ML models"
   ]
  },
  {
   "cell_type": "markdown",
   "id": "87c09308-df59-4ec8-abbb-71d457ed8275",
   "metadata": {},
   "source": [
    "As expected, Naive Bayes was the model with the worst performances.\n",
    "Regarding the other metrics, precision, recall and f1-score, SVM and Random Forest performed better than LR."
   ]
  },
  {
   "cell_type": "markdown",
   "id": "629ffd3e-a76b-432e-8043-2f36662a9675",
   "metadata": {},
   "source": [
    "# Deep learning"
   ]
  },
  {
   "cell_type": "markdown",
   "id": "2acdab78-214f-47b2-8bee-34d907237793",
   "metadata": {},
   "source": [
    "Partiamo dall' inizio, prendiamo i dati e rifacciamo lo splitting del dataset dopo averli tokenizzati.\n",
    "Per semplicità (dobbiamo creare un vocabolario quindi dobbiamo tokenizzare train e test insieme)"
   ]
  },
  {
   "cell_type": "code",
   "execution_count": 25,
   "id": "4ef1de3b-0ce9-4ee3-b7e8-34e70a01a0d8",
   "metadata": {},
   "outputs": [],
   "source": [
    "X = data['text_cleaned']\n",
    "y = data['labels'].values"
   ]
  },
  {
   "cell_type": "code",
   "execution_count": 26,
   "id": "a799e849-7194-4934-9f9a-f01502249916",
   "metadata": {},
   "outputs": [
    {
     "name": "stdout",
     "output_type": "stream",
     "text": [
      "two recent articl discuss h5n1 bird flu detail first delin accur 8month old project\n",
      "1\n",
      "[ 1 -1  0 ...  1 -1  1]\n"
     ]
    }
   ],
   "source": [
    "print(X[0])\n",
    "print(y[0])\n",
    "print(y)"
   ]
  },
  {
   "cell_type": "code",
   "execution_count": 27,
   "id": "f3ac7b29-6f4d-4d72-ace0-f44ea340bf06",
   "metadata": {},
   "outputs": [],
   "source": [
    "from collections import Counter\n",
    "\n",
    "def Tokenize(column, seq_len):\n",
    "    \n",
    "    ##Create vocabulary of words from column\n",
    "    corpus = [word for text in column for word in text.split()]\n",
    "    count_words = Counter(corpus) #Counter method counts all the words in the corpus, dictionary with word and number of times \n",
    "    sorted_words = count_words.most_common()  #list\n",
    "    vocab_to_int = {w:i+1 for i, (w,c) in enumerate(sorted_words)}  #Transform the words into numbers enumerating: first word is the one that occurs most time. \n",
    "\n",
    "    ##Tokenize the columns text using the vocabulary\n",
    "    text_int = []\n",
    "    for text in column:\n",
    "        r = [vocab_to_int[word] for word in text.split()]\n",
    "        text_int.append(r)\n",
    "        \n",
    "    ##Add padding to tokens\n",
    "    features = np.zeros((len(text_int), seq_len), dtype = int)\n",
    "    for i, review in enumerate(text_int):\n",
    "        if len(review) <= seq_len:\n",
    "            zeros = list(np.zeros(seq_len - len(review)))\n",
    "            new = zeros + review\n",
    "        else:\n",
    "            new = review[: seq_len]\n",
    "        features[i, :] = np.array(new)\n",
    "\n",
    "    return sorted_words, features"
   ]
  },
  {
   "cell_type": "code",
   "execution_count": 28,
   "id": "fbd3ad22-1dde-4e66-b22b-44ad8b3811d8",
   "metadata": {},
   "outputs": [],
   "source": [
    "vocabulary, tokenized_column = Tokenize(X, max_len)"
   ]
  },
  {
   "cell_type": "code",
   "execution_count": 29,
   "id": "7c40ec6a-e7ae-4b84-9c28-6c12bc56d0de",
   "metadata": {},
   "outputs": [
    {
     "data": {
      "text/plain": [
       "[('covid', 35279),\n",
       " ('vaccin', 28336),\n",
       " ('pandem', 12706),\n",
       " ('amp', 12463),\n",
       " ('peopl', 11250),\n",
       " ('new', 9653),\n",
       " ('covid19', 8928),\n",
       " ('death', 8115),\n",
       " ('increas', 6896),\n",
       " ('like', 6517),\n",
       " ('still', 6280),\n",
       " ('work', 6220),\n",
       " ('get', 6205),\n",
       " ('biden', 5662),\n",
       " ('caus', 5480)]"
      ]
     },
     "execution_count": 29,
     "metadata": {},
     "output_type": "execute_result"
    }
   ],
   "source": [
    "vocabulary[:15]"
   ]
  },
  {
   "cell_type": "code",
   "execution_count": 30,
   "id": "d1f2740a-14d9-4902-88c0-a6a26e4665a3",
   "metadata": {},
   "outputs": [
    {
     "name": "stdout",
     "output_type": "stream",
     "text": [
      "two recent articl discuss h5n1 bird flu detail first delin accur 8month old project\n",
      "[   0    0    0    0    0    0    0    0    0    0    0    0    0    0\n",
      "    0    0    0    0    0    0    0    0    0    0    0    0    0    0\n",
      "    0    0    0    0    0    0    0    0    0  160  694  632  460 1065\n",
      "  787  154  674  106 9741 2240 8868  329 1025]\n",
      "1\n"
     ]
    }
   ],
   "source": [
    "print(X[0])\n",
    "print(tokenized_column[0])\n",
    "print(y[0])"
   ]
  },
  {
   "cell_type": "code",
   "execution_count": 31,
   "id": "99d316d0-4952-4dd4-b7ce-4b6dc2987643",
   "metadata": {},
   "outputs": [
    {
     "name": "stdout",
     "output_type": "stream",
     "text": [
      "[[0. 1. 0.]\n",
      " [0. 0. 1.]\n",
      " [1. 0. 0.]\n",
      " [0. 1. 0.]\n",
      " [1. 0. 0.]\n",
      " [0. 1. 0.]\n",
      " [0. 0. 1.]\n",
      " [1. 0. 0.]\n",
      " [1. 0. 0.]\n",
      " [0. 0. 1.]]\n"
     ]
    }
   ],
   "source": [
    "# https://tomaxent.com/2017/11/21/A-Simple-Multi-Class-Classification-Task-Keras-and-Scikit-Learn/\n",
    "# \n",
    "\n",
    "from keras.utils import to_categorical\n",
    "one_hot_encode_y = to_categorical(y, num_classes = 3)\n",
    "print(one_hot_encode_y[:10])\n",
    "#print(y[:10])"
   ]
  },
  {
   "cell_type": "code",
   "execution_count": 32,
   "id": "0661eff3-814d-4ee5-9188-570214b16605",
   "metadata": {},
   "outputs": [],
   "source": [
    "X_train_dl, X_test_dl, y_train_dl, y_test_dl = train_test_split(tokenized_column, one_hot_encode_y, test_size=0.4, stratify=one_hot_encode_y, random_state=seed_value)\n",
    "X_train_dl, X_valid_dl, y_train_dl, y_valid_dl = train_test_split(X_train_dl, y_train_dl, test_size=0.2, stratify=y_train_dl, random_state=seed_value)"
   ]
  },
  {
   "cell_type": "code",
   "execution_count": 33,
   "id": "2a3513cf-c691-414f-b05b-0ebba5e0d8cb",
   "metadata": {},
   "outputs": [
    {
     "data": {
      "text/plain": [
       "array([[0., 0., 1.],\n",
       "       [0., 1., 0.],\n",
       "       [1., 0., 0.],\n",
       "       ...,\n",
       "       [0., 1., 0.],\n",
       "       [0., 1., 0.],\n",
       "       [0., 1., 0.]], dtype=float32)"
      ]
     },
     "execution_count": 33,
     "metadata": {},
     "output_type": "execute_result"
    }
   ],
   "source": [
    "y_train_dl"
   ]
  },
  {
   "cell_type": "code",
   "execution_count": 34,
   "id": "81fd8bc5-d69d-4a13-94d9-2adff80cd96f",
   "metadata": {},
   "outputs": [
    {
     "data": {
      "text/plain": [
       "array([[0., 1., 0.],\n",
       "       [1., 0., 0.],\n",
       "       [0., 1., 0.],\n",
       "       ...,\n",
       "       [1., 0., 0.],\n",
       "       [1., 0., 0.],\n",
       "       [1., 0., 0.]], dtype=float32)"
      ]
     },
     "execution_count": 34,
     "metadata": {},
     "output_type": "execute_result"
    }
   ],
   "source": [
    "y_test_dl"
   ]
  },
  {
   "cell_type": "code",
   "execution_count": 35,
   "id": "20e39d47-bf4b-4f82-a059-d1a0ff29ec4c",
   "metadata": {},
   "outputs": [
    {
     "data": {
      "text/plain": [
       "array([[1., 0., 0.],\n",
       "       [0., 1., 0.],\n",
       "       [0., 0., 1.],\n",
       "       ...,\n",
       "       [0., 1., 0.],\n",
       "       [0., 0., 1.],\n",
       "       [0., 0., 1.]], dtype=float32)"
      ]
     },
     "execution_count": 35,
     "metadata": {},
     "output_type": "execute_result"
    }
   ],
   "source": [
    "y_valid_dl"
   ]
  },
  {
   "cell_type": "code",
   "execution_count": 36,
   "id": "c8e21da6-783c-4465-8a73-1ee9915d1602",
   "metadata": {},
   "outputs": [],
   "source": [
    "# Parameters\n",
    "\n",
    "input_dim = len(vocabulary)+1 # +1 is for the padding\n",
    "\n",
    "# Hyperparameters\n",
    "\n",
    "embedding_dim = 64\n",
    "hidden_dim = 32\n",
    "drop_prob = 0.3\n",
    "lr = 0.05\n",
    "clipnorm_value = 1."
   ]
  },
  {
   "cell_type": "markdown",
   "id": "79bc5b97-d7f4-4d98-9337-2154d0a3cf6c",
   "metadata": {},
   "source": [
    "## RNN"
   ]
  },
  {
   "cell_type": "code",
   "execution_count": 41,
   "id": "70b42bdc-6e2a-438a-a687-caf490103f32",
   "metadata": {},
   "outputs": [],
   "source": [
    "# Keras Model\n",
    "\n",
    "from tensorflow.keras.layers import SimpleRNN, Dense, Embedding, Dropout\n",
    "from tensorflow.keras.models import Sequential\n",
    "from tensorflow.keras.optimizers import SGD\n",
    "\n",
    "import tensorflow.keras.metrics\n",
    "\n",
    "from tensorflow.keras.callbacks import ModelCheckpoint\n"
   ]
  },
  {
   "cell_type": "code",
   "execution_count": 67,
   "id": "149388a3-fd81-48a2-93dd-21e981c30036",
   "metadata": {},
   "outputs": [
    {
     "name": "stdout",
     "output_type": "stream",
     "text": [
      "Model: \"sequential_2\"\n",
      "_________________________________________________________________\n",
      " Layer (type)                Output Shape              Param #   \n",
      "=================================================================\n",
      " embedding_2 (Embedding)     (None, None, 64)          2169600   \n",
      "                                                                 \n",
      " simple_rnn_3 (SimpleRNN)    (None, 32)                3104      \n",
      "                                                                 \n",
      " dropout_2 (Dropout)         (None, 32)                0         \n",
      "                                                                 \n",
      " dense_2 (Dense)             (None, 3)                 99        \n",
      "                                                                 \n",
      "=================================================================\n",
      "Total params: 2,172,803\n",
      "Trainable params: 2,172,803\n",
      "Non-trainable params: 0\n",
      "_________________________________________________________________\n"
     ]
    }
   ],
   "source": [
    "\n",
    "model_keras_rnn = Sequential([\n",
    "  Embedding(input_dim, embedding_dim),\n",
    "  SimpleRNN(hidden_dim, recurrent_dropout = 0.2, dropout = 0.2),\n",
    "  Dropout(drop_prob),\n",
    "  Dense(3, activation=\"sigmoid\")  # 3 outputs, since we have 3 categories\n",
    "])\n",
    "\n",
    "#opt_adam = Adam(clipnorm=1, learning_rate = 0.05)\n",
    "\n",
    "opt_sgd = SGD(learning_rate=lr, clipnorm=clipnorm_value)\n",
    "\n",
    "model_keras_rnn.compile(optimizer=opt_sgd, loss='categorical_crossentropy', metrics=[\"accuracy\", \"Precision\", \"Recall\"])  #categorical (not binary)\n",
    "model_keras_rnn.summary()"
   ]
  },
  {
   "cell_type": "markdown",
   "id": "e18c5a1b-6c54-466d-9393-bd3067c9aace",
   "metadata": {},
   "source": [
    "### Training"
   ]
  },
  {
   "cell_type": "code",
   "execution_count": 68,
   "id": "cf38166f-d3a6-4a88-8da4-874b277d9f58",
   "metadata": {},
   "outputs": [],
   "source": [
    "epochs = 60\n",
    "batch_size = 32"
   ]
  },
  {
   "cell_type": "code",
   "execution_count": 69,
   "id": "1cdfbe43-cefc-443f-b0d4-68f39243937d",
   "metadata": {
    "tags": []
   },
   "outputs": [
    {
     "name": "stdout",
     "output_type": "stream",
     "text": [
      "Epoch 1/60\n",
      "1666/1666 [==============================] - 36s 19ms/step - loss: 0.8480 - accuracy: 0.5909 - precision: 0.5050 - recall: 0.7095 - val_loss: 0.6184 - val_accuracy: 0.7340 - val_precision: 0.6257 - val_recall: 0.8281\n",
      "Epoch 2/60\n",
      "1666/1666 [==============================] - 43s 26ms/step - loss: 0.5747 - accuracy: 0.7574 - precision: 0.6467 - recall: 0.8449 - val_loss: 0.4723 - val_accuracy: 0.8053 - val_precision: 0.7165 - val_recall: 0.8706\n",
      "Epoch 3/60\n",
      "1666/1666 [==============================] - 39s 23ms/step - loss: 0.4671 - accuracy: 0.8126 - precision: 0.6911 - recall: 0.8905 - val_loss: 0.3962 - val_accuracy: 0.8411 - val_precision: 0.7317 - val_recall: 0.9090\n",
      "Epoch 4/60\n",
      "1666/1666 [==============================] - 32s 19ms/step - loss: 0.3998 - accuracy: 0.8439 - precision: 0.7151 - recall: 0.9176 - val_loss: 0.3565 - val_accuracy: 0.8592 - val_precision: 0.7730 - val_recall: 0.9196\n",
      "Epoch 5/60\n",
      "1666/1666 [==============================] - 35s 21ms/step - loss: 0.3467 - accuracy: 0.8679 - precision: 0.7363 - recall: 0.9342 - val_loss: 0.3510 - val_accuracy: 0.8620 - val_precision: 0.7463 - val_recall: 0.9337\n",
      "Epoch 6/60\n",
      "1666/1666 [==============================] - 44s 27ms/step - loss: 0.3136 - accuracy: 0.8842 - precision: 0.7459 - recall: 0.9454 - val_loss: 0.4574 - val_accuracy: 0.8372 - val_precision: 0.7624 - val_recall: 0.9054\n",
      "Epoch 7/60\n",
      "1666/1666 [==============================] - 43s 26ms/step - loss: 0.2816 - accuracy: 0.8966 - precision: 0.7628 - recall: 0.9545 - val_loss: 0.3735 - val_accuracy: 0.8693 - val_precision: 0.7889 - val_recall: 0.9236\n",
      "Epoch 8/60\n",
      "1666/1666 [==============================] - 33s 20ms/step - loss: 0.2595 - accuracy: 0.9075 - precision: 0.7752 - recall: 0.9574 - val_loss: 0.2872 - val_accuracy: 0.8968 - val_precision: 0.8094 - val_recall: 0.9445\n",
      "Epoch 9/60\n",
      "1666/1666 [==============================] - 33s 20ms/step - loss: 0.2394 - accuracy: 0.9152 - precision: 0.7816 - recall: 0.9629 - val_loss: 0.2830 - val_accuracy: 0.9048 - val_precision: 0.8120 - val_recall: 0.9490\n",
      "Epoch 10/60\n",
      "1666/1666 [==============================] - 39s 23ms/step - loss: 0.2215 - accuracy: 0.9232 - precision: 0.7895 - recall: 0.9670 - val_loss: 0.2931 - val_accuracy: 0.9023 - val_precision: 0.8170 - val_recall: 0.9451\n",
      "Epoch 11/60\n",
      "1666/1666 [==============================] - 43s 26ms/step - loss: 0.2057 - accuracy: 0.9297 - precision: 0.7995 - recall: 0.9704 - val_loss: 0.3084 - val_accuracy: 0.8949 - val_precision: 0.8004 - val_recall: 0.9464\n",
      "Epoch 12/60\n",
      "1666/1666 [==============================] - 39s 24ms/step - loss: 0.1924 - accuracy: 0.9341 - precision: 0.8060 - recall: 0.9726 - val_loss: 0.2763 - val_accuracy: 0.9111 - val_precision: 0.8340 - val_recall: 0.9481\n",
      "Epoch 13/60\n",
      "1666/1666 [==============================] - 33s 20ms/step - loss: 0.1848 - accuracy: 0.9355 - precision: 0.8077 - recall: 0.9739 - val_loss: 0.2725 - val_accuracy: 0.9161 - val_precision: 0.8291 - val_recall: 0.9544\n",
      "Epoch 14/60\n",
      "1666/1666 [==============================] - 37s 22ms/step - loss: 0.1774 - accuracy: 0.9399 - precision: 0.8136 - recall: 0.9751 - val_loss: 0.2879 - val_accuracy: 0.9043 - val_precision: 0.8265 - val_recall: 0.9467\n",
      "Epoch 15/60\n",
      "1666/1666 [==============================] - 46s 28ms/step - loss: 0.1631 - accuracy: 0.9445 - precision: 0.8203 - recall: 0.9784 - val_loss: 0.2789 - val_accuracy: 0.9137 - val_precision: 0.8283 - val_recall: 0.9502\n",
      "Epoch 16/60\n",
      "1666/1666 [==============================] - 40s 24ms/step - loss: 0.1591 - accuracy: 0.9441 - precision: 0.8168 - recall: 0.9801 - val_loss: 0.2944 - val_accuracy: 0.9078 - val_precision: 0.8204 - val_recall: 0.9489\n",
      "Epoch 17/60\n",
      "1666/1666 [==============================] - 33s 20ms/step - loss: 0.1497 - accuracy: 0.9490 - precision: 0.8214 - recall: 0.9810 - val_loss: 0.3002 - val_accuracy: 0.9132 - val_precision: 0.8292 - val_recall: 0.9499\n",
      "Epoch 18/60\n",
      "1666/1666 [==============================] - 37s 22ms/step - loss: 0.1435 - accuracy: 0.9518 - precision: 0.8265 - recall: 0.9828 - val_loss: 0.4577 - val_accuracy: 0.8721 - val_precision: 0.7715 - val_recall: 0.9206\n",
      "Epoch 19/60\n",
      "1666/1666 [==============================] - 49s 29ms/step - loss: 0.1402 - accuracy: 0.9526 - precision: 0.8281 - recall: 0.9829 - val_loss: 0.3365 - val_accuracy: 0.9044 - val_precision: 0.8146 - val_recall: 0.9449\n",
      "Epoch 20/60\n",
      "1666/1666 [==============================] - 46s 27ms/step - loss: 0.1308 - accuracy: 0.9554 - precision: 0.8324 - recall: 0.9847 - val_loss: 0.2938 - val_accuracy: 0.9136 - val_precision: 0.8341 - val_recall: 0.9523\n",
      "Epoch 21/60\n",
      "1666/1666 [==============================] - 35s 21ms/step - loss: 0.1272 - accuracy: 0.9576 - precision: 0.8361 - recall: 0.9846 - val_loss: 0.3174 - val_accuracy: 0.9106 - val_precision: 0.8307 - val_recall: 0.9463\n",
      "Epoch 22/60\n",
      "1666/1666 [==============================] - 35s 21ms/step - loss: 0.1231 - accuracy: 0.9592 - precision: 0.8395 - recall: 0.9855 - val_loss: 0.3037 - val_accuracy: 0.9170 - val_precision: 0.8394 - val_recall: 0.9523\n",
      "Epoch 23/60\n",
      "1666/1666 [==============================] - 47s 28ms/step - loss: 0.1198 - accuracy: 0.9602 - precision: 0.8363 - recall: 0.9862 - val_loss: 0.3650 - val_accuracy: 0.8997 - val_precision: 0.8080 - val_recall: 0.9432\n",
      "Epoch 24/60\n",
      "1666/1666 [==============================] - 46s 28ms/step - loss: 0.1139 - accuracy: 0.9622 - precision: 0.8415 - recall: 0.9868 - val_loss: 0.3052 - val_accuracy: 0.9166 - val_precision: 0.8429 - val_recall: 0.9511\n",
      "Epoch 25/60\n",
      "1666/1666 [==============================] - 35s 21ms/step - loss: 0.1113 - accuracy: 0.9634 - precision: 0.8438 - recall: 0.9877 - val_loss: 0.3113 - val_accuracy: 0.9160 - val_precision: 0.8382 - val_recall: 0.9490\n",
      "Epoch 26/60\n",
      "1666/1666 [==============================] - 36s 22ms/step - loss: 0.1088 - accuracy: 0.9653 - precision: 0.8420 - recall: 0.9877 - val_loss: 0.3123 - val_accuracy: 0.9199 - val_precision: 0.8485 - val_recall: 0.9528\n",
      "Epoch 27/60\n",
      "1666/1666 [==============================] - 51s 30ms/step - loss: 0.1054 - accuracy: 0.9650 - precision: 0.8482 - recall: 0.9882 - val_loss: 0.3474 - val_accuracy: 0.9075 - val_precision: 0.8188 - val_recall: 0.9461\n",
      "Epoch 28/60\n",
      "1666/1666 [==============================] - 47s 28ms/step - loss: 0.1023 - accuracy: 0.9660 - precision: 0.8485 - recall: 0.9885 - val_loss: 0.3520 - val_accuracy: 0.9151 - val_precision: 0.8552 - val_recall: 0.9474\n",
      "Epoch 29/60\n",
      "1666/1666 [==============================] - 36s 22ms/step - loss: 0.0987 - accuracy: 0.9679 - precision: 0.8503 - recall: 0.9892 - val_loss: 0.3611 - val_accuracy: 0.9150 - val_precision: 0.8525 - val_recall: 0.9479\n",
      "Epoch 30/60\n",
      "1666/1666 [==============================] - 35s 21ms/step - loss: 0.0974 - accuracy: 0.9678 - precision: 0.8514 - recall: 0.9891 - val_loss: 0.3310 - val_accuracy: 0.9141 - val_precision: 0.8380 - val_recall: 0.9490\n",
      "Epoch 31/60\n",
      "1666/1666 [==============================] - 46s 28ms/step - loss: 0.0959 - accuracy: 0.9687 - precision: 0.8548 - recall: 0.9891 - val_loss: 0.3319 - val_accuracy: 0.9207 - val_precision: 0.8517 - val_recall: 0.9490\n",
      "Epoch 32/60\n",
      "1666/1666 [==============================] - 49s 30ms/step - loss: 0.0919 - accuracy: 0.9702 - precision: 0.8535 - recall: 0.9901 - val_loss: 0.3251 - val_accuracy: 0.9188 - val_precision: 0.8453 - val_recall: 0.9507\n",
      "Epoch 33/60\n",
      "1666/1666 [==============================] - 39s 23ms/step - loss: 0.0884 - accuracy: 0.9709 - precision: 0.8573 - recall: 0.9909 - val_loss: 0.3238 - val_accuracy: 0.9181 - val_precision: 0.8449 - val_recall: 0.9518\n",
      "Epoch 34/60\n",
      "1666/1666 [==============================] - 36s 22ms/step - loss: 0.0866 - accuracy: 0.9718 - precision: 0.8570 - recall: 0.9903 - val_loss: 0.3550 - val_accuracy: 0.9100 - val_precision: 0.8272 - val_recall: 0.9457\n",
      "Epoch 35/60\n",
      "1666/1666 [==============================] - 40s 24ms/step - loss: 0.0881 - accuracy: 0.9720 - precision: 0.8557 - recall: 0.9904 - val_loss: 0.3629 - val_accuracy: 0.9150 - val_precision: 0.8470 - val_recall: 0.9468\n",
      "Epoch 36/60\n",
      "1666/1666 [==============================] - 42s 25ms/step - loss: 0.0865 - accuracy: 0.9720 - precision: 0.8603 - recall: 0.9906 - val_loss: 0.3312 - val_accuracy: 0.9172 - val_precision: 0.8395 - val_recall: 0.9491\n",
      "Epoch 37/60\n",
      "1666/1666 [==============================] - 36s 22ms/step - loss: 0.0832 - accuracy: 0.9737 - precision: 0.8580 - recall: 0.9920 - val_loss: 0.3319 - val_accuracy: 0.9199 - val_precision: 0.8458 - val_recall: 0.9510\n",
      "Epoch 38/60\n",
      "1666/1666 [==============================] - 33s 20ms/step - loss: 0.0797 - accuracy: 0.9744 - precision: 0.8588 - recall: 0.9919 - val_loss: 0.3320 - val_accuracy: 0.9205 - val_precision: 0.8426 - val_recall: 0.9528\n",
      "Epoch 39/60\n",
      "1666/1666 [==============================] - 44s 26ms/step - loss: 0.0799 - accuracy: 0.9736 - precision: 0.8620 - recall: 0.9916 - val_loss: 0.3345 - val_accuracy: 0.9178 - val_precision: 0.8439 - val_recall: 0.9505\n",
      "Epoch 40/60\n",
      "1666/1666 [==============================] - 43s 26ms/step - loss: 0.0785 - accuracy: 0.9752 - precision: 0.8613 - recall: 0.9918 - val_loss: 0.3485 - val_accuracy: 0.9228 - val_precision: 0.8563 - val_recall: 0.9515\n",
      "Epoch 41/60\n",
      "1666/1666 [==============================] - 43s 26ms/step - loss: 0.0777 - accuracy: 0.9744 - precision: 0.8651 - recall: 0.9919 - val_loss: 0.4002 - val_accuracy: 0.9118 - val_precision: 0.8437 - val_recall: 0.9424\n",
      "Epoch 42/60\n",
      "1666/1666 [==============================] - 33s 20ms/step - loss: 0.0749 - accuracy: 0.9762 - precision: 0.8623 - recall: 0.9928 - val_loss: 0.3672 - val_accuracy: 0.9223 - val_precision: 0.8591 - val_recall: 0.9479\n",
      "Epoch 43/60\n",
      "1666/1666 [==============================] - 57s 34ms/step - loss: 0.0763 - accuracy: 0.9761 - precision: 0.8660 - recall: 0.9922 - val_loss: 0.3621 - val_accuracy: 0.9191 - val_precision: 0.8535 - val_recall: 0.9496\n",
      "Epoch 44/60\n",
      "1666/1666 [==============================] - 45s 27ms/step - loss: 0.0723 - accuracy: 0.9771 - precision: 0.8647 - recall: 0.9928 - val_loss: 0.3643 - val_accuracy: 0.9197 - val_precision: 0.8440 - val_recall: 0.9503\n",
      "Epoch 45/60\n",
      "1666/1666 [==============================] - 41s 25ms/step - loss: 0.0733 - accuracy: 0.9764 - precision: 0.8652 - recall: 0.9925 - val_loss: 0.3786 - val_accuracy: 0.9151 - val_precision: 0.8451 - val_recall: 0.9469\n",
      "Epoch 46/60\n",
      "1666/1666 [==============================] - 42s 25ms/step - loss: 0.0681 - accuracy: 0.9783 - precision: 0.8665 - recall: 0.9935 - val_loss: 0.3589 - val_accuracy: 0.9215 - val_precision: 0.8513 - val_recall: 0.9501\n",
      "Epoch 47/60\n",
      "1666/1666 [==============================] - 43s 26ms/step - loss: 0.0702 - accuracy: 0.9772 - precision: 0.8647 - recall: 0.9930 - val_loss: 0.3575 - val_accuracy: 0.9217 - val_precision: 0.8536 - val_recall: 0.9502\n",
      "Epoch 48/60\n",
      "1666/1666 [==============================] - 43s 26ms/step - loss: 0.0693 - accuracy: 0.9778 - precision: 0.8704 - recall: 0.9930 - val_loss: 0.3672 - val_accuracy: 0.9182 - val_precision: 0.8543 - val_recall: 0.9493\n",
      "Epoch 49/60\n",
      "1666/1666 [==============================] - 47s 28ms/step - loss: 0.0688 - accuracy: 0.9787 - precision: 0.8706 - recall: 0.9932 - val_loss: 0.3588 - val_accuracy: 0.9182 - val_precision: 0.8452 - val_recall: 0.9496\n",
      "Epoch 50/60\n",
      "1666/1666 [==============================] - 44s 26ms/step - loss: 0.0663 - accuracy: 0.9790 - precision: 0.8693 - recall: 0.9940 - val_loss: 0.3745 - val_accuracy: 0.9193 - val_precision: 0.8583 - val_recall: 0.9491\n",
      "Epoch 51/60\n",
      "1666/1666 [==============================] - 42s 25ms/step - loss: 0.0643 - accuracy: 0.9791 - precision: 0.8711 - recall: 0.9936 - val_loss: 0.3523 - val_accuracy: 0.9208 - val_precision: 0.8559 - val_recall: 0.9513\n",
      "Epoch 52/60\n",
      "1666/1666 [==============================] - 48s 29ms/step - loss: 0.0656 - accuracy: 0.9789 - precision: 0.8690 - recall: 0.9937 - val_loss: 0.3745 - val_accuracy: 0.9219 - val_precision: 0.8590 - val_recall: 0.9517\n",
      "Epoch 53/60\n",
      "1666/1666 [==============================] - 55s 33ms/step - loss: 0.0636 - accuracy: 0.9800 - precision: 0.8696 - recall: 0.9939 - val_loss: 0.3700 - val_accuracy: 0.9195 - val_precision: 0.8554 - val_recall: 0.9508\n",
      "Epoch 54/60\n",
      "1666/1666 [==============================] - 57s 34ms/step - loss: 0.0616 - accuracy: 0.9808 - precision: 0.8742 - recall: 0.9941 - val_loss: 0.3713 - val_accuracy: 0.9160 - val_precision: 0.8494 - val_recall: 0.9477\n",
      "Epoch 55/60\n",
      "1666/1666 [==============================] - 57s 34ms/step - loss: 0.0619 - accuracy: 0.9804 - precision: 0.8722 - recall: 0.9946 - val_loss: 0.3947 - val_accuracy: 0.9187 - val_precision: 0.8550 - val_recall: 0.9475\n",
      "Epoch 56/60\n",
      "1666/1666 [==============================] - 56s 34ms/step - loss: 0.0614 - accuracy: 0.9806 - precision: 0.8743 - recall: 0.9942 - val_loss: 0.3910 - val_accuracy: 0.9209 - val_precision: 0.8650 - val_recall: 0.9498\n",
      "Epoch 57/60\n",
      "1666/1666 [==============================] - 57s 34ms/step - loss: 0.0587 - accuracy: 0.9817 - precision: 0.8724 - recall: 0.9947 - val_loss: 0.3899 - val_accuracy: 0.9158 - val_precision: 0.8453 - val_recall: 0.9484\n",
      "Epoch 58/60\n",
      "1666/1666 [==============================] - 56s 34ms/step - loss: 0.0631 - accuracy: 0.9806 - precision: 0.8739 - recall: 0.9940 - val_loss: 0.4085 - val_accuracy: 0.9158 - val_precision: 0.8490 - val_recall: 0.9462\n",
      "Epoch 59/60\n",
      "1666/1666 [==============================] - 57s 34ms/step - loss: 0.0614 - accuracy: 0.9810 - precision: 0.8757 - recall: 0.9939 - val_loss: 0.3980 - val_accuracy: 0.9184 - val_precision: 0.8612 - val_recall: 0.9460\n",
      "Epoch 60/60\n",
      "1666/1666 [==============================] - 57s 34ms/step - loss: 0.0580 - accuracy: 0.9825 - precision: 0.8813 - recall: 0.9945 - val_loss: 0.3814 - val_accuracy: 0.9222 - val_precision: 0.8652 - val_recall: 0.9501\n"
     ]
    },
    {
     "data": {
      "text/plain": [
       "<keras.callbacks.History at 0x221287858e0>"
      ]
     },
     "execution_count": 69,
     "metadata": {},
     "output_type": "execute_result"
    }
   ],
   "source": [
    "\n",
    "PATH_KERAS_RNN = 'C:\\\\Users\\\\mamai\\\\Desktop\\\\Tesi\\\\Code\\\\Models\\\\Keras\\\\RNN\\\\Simplified_Train60Test40Valid20\\\\'\n",
    "\n",
    "# Model weights are saved at the end of every epoch, if it's the best seen so far.\n",
    "model_checkpoint_callback = ModelCheckpoint(\n",
    "    filepath=PATH_KERAS_RNN,\n",
    "    save_weights_only=True,\n",
    "    monitor='val_accuracy',\n",
    "    mode='max',\n",
    "    save_best_only=True)\n",
    "\n",
    "history = model_keras_rnn.fit(x=X_train_dl, y=y_train_dl,\n",
    "        batch_size=batch_size, epochs=epochs,\n",
    "        validation_data=(X_valid_dl, y_valid_dl),\n",
    "        callbacks=[model_checkpoint_callback])\n",
    "\n",
    "history"
   ]
  },
  {
   "cell_type": "code",
   "execution_count": 70,
   "id": "ca38ead6-796e-425c-8d73-411626fceb02",
   "metadata": {},
   "outputs": [
    {
     "data": {
      "text/plain": [
       "<tensorflow.python.checkpoint.checkpoint.CheckpointLoadStatus at 0x22132846ca0>"
      ]
     },
     "execution_count": 70,
     "metadata": {},
     "output_type": "execute_result"
    }
   ],
   "source": [
    "# The model weights (that are considered the best) are loaded into the model.\n",
    "model_keras_rnn.load_weights(PATH_KERAS_RNN)"
   ]
  },
  {
   "cell_type": "code",
   "execution_count": 71,
   "id": "dcae8779-3146-4b60-9af4-73c70a9352c7",
   "metadata": {},
   "outputs": [
    {
     "data": {
      "image/png": "[encoded data removed]",
      "text/plain": [
       "<Figure size 1440x432 with 2 Axes>"
      ]
     },
     "metadata": {
      "needs_background": "light"
     },
     "output_type": "display_data"
    }
   ],
   "source": [
    "# Visualize results of Keras model\n",
    "\n",
    "fig = plt.figure(figsize = (20, 6))\n",
    "plt.subplot(1, 2, 1)\n",
    "plt.plot(history.history['accuracy'], label='Train Keras')\n",
    "plt.plot(history.history['val_accuracy'], label='Validation Keras')\n",
    "plt.title(\"Accuracy\")\n",
    "plt.ylabel('accuracy')\n",
    "plt.xlabel('epoch')\n",
    "plt.legend()\n",
    "plt.grid()\n",
    "    \n",
    "plt.subplot(1, 2, 2)\n",
    "plt.plot(history.history['loss'], label='Train Keras')\n",
    "plt.plot(history.history['val_loss'], label='Validation Keras')\n",
    "plt.title(\"Loss\")\n",
    "plt.ylabel('loss')\n",
    "plt.xlabel('epoch')\n",
    "plt.legend()\n",
    "plt.grid()\n",
    "\n",
    "plt.show()"
   ]
  },
  {
   "cell_type": "code",
   "execution_count": 72,
   "id": "85e14c6c-8396-44fe-b313-8f6e8b4883eb",
   "metadata": {},
   "outputs": [
    {
     "name": "stdout",
     "output_type": "stream",
     "text": [
      "1389/1389 - 12s - loss: 0.3520 - accuracy: 0.9212 - precision: 0.8563 - recall: 0.9505 - 12s/epoch - 9ms/step\n"
     ]
    },
    {
     "data": {
      "text/plain": [
       "[0.3519522547721863, 0.92118239402771, 0.8563084602355957, 0.9505391716957092]"
      ]
     },
     "execution_count": 72,
     "metadata": {},
     "output_type": "execute_result"
    }
   ],
   "source": [
    "model_keras_rnn.evaluate(X_test_dl, y_test_dl, verbose=2)"
   ]
  },
  {
   "cell_type": "markdown",
   "id": "f72b40ef-88e5-4bd5-a3ea-63c73c83b47d",
   "metadata": {},
   "source": [
    "## LSTM"
   ]
  },
  {
   "cell_type": "code",
   "execution_count": 46,
   "id": "fc2d9f54-7e27-4821-ab0c-514f20b26889",
   "metadata": {},
   "outputs": [],
   "source": [
    "# Hyperparameters\n",
    "batch_size=32\n",
    "epochs=60\n",
    "\n",
    "embedding_dim = 64\n",
    "hidden_dim = 32\n",
    "drop_prob = 0.3\n",
    "lr = 0.05\n",
    "clipnorm_value = 1."
   ]
  },
  {
   "cell_type": "code",
   "execution_count": 39,
   "id": "8fac5b16-146b-4b7d-b433-38c3e8affcef",
   "metadata": {},
   "outputs": [
    {
     "name": "stdout",
     "output_type": "stream",
     "text": [
      "Model: \"sequential\"\n",
      "_________________________________________________________________\n",
      " Layer (type)                Output Shape              Param #   \n",
      "=================================================================\n",
      " embedding (Embedding)       (None, None, 64)          2169600   \n",
      "                                                                 \n",
      " lstm (LSTM)                 (None, 32)                12416     \n",
      "                                                                 \n",
      " dropout (Dropout)           (None, 32)                0         \n",
      "                                                                 \n",
      " dense (Dense)               (None, 3)                 99        \n",
      "                                                                 \n",
      "=================================================================\n",
      "Total params: 2,182,115\n",
      "Trainable params: 2,182,115\n",
      "Non-trainable params: 0\n",
      "_________________________________________________________________\n"
     ]
    }
   ],
   "source": [
    "from tensorflow.keras.layers import Bidirectional, LSTM\n",
    "\n",
    "model_keras_lstm = Sequential([\n",
    "  Embedding(input_dim, embedding_dim),\n",
    "  LSTM(hidden_dim, recurrent_dropout = 0.2, dropout = 0.2),   \n",
    "  Dropout(drop_prob),\n",
    "  Dense(3, activation=\"sigmoid\")\n",
    "])\n",
    "\n",
    "#opt_adam = Adam(clipnorm=1, learning_rate = 0.05)\n",
    "\n",
    "opt_sgd = SGD(learning_rate=lr, clipnorm=clipnorm_value)\n",
    "\n",
    "model_keras_lstm.compile(optimizer=opt_sgd, loss='categorical_crossentropy', metrics=[\"accuracy\", \"Precision\", \"Recall\" ])\n",
    "model_keras_lstm.summary()"
   ]
  },
  {
   "cell_type": "code",
   "execution_count": null,
   "id": "d0c640fc-1b4d-4a03-8034-54092118d903",
   "metadata": {
    "tags": []
   },
   "outputs": [
    {
     "name": "stdout",
     "output_type": "stream",
     "text": [
      "Epoch 1/60\n",
      "1666/1666 [==============================] - 58s 33ms/step - loss: 1.0087 - accuracy: 0.4859 - precision: 0.4453 - recall: 0.6301 - val_loss: 0.7966 - val_accuracy: 0.6500 - val_precision: 0.5291 - val_recall: 0.8176\n",
      "Epoch 2/60\n",
      "1666/1666 [==============================] - 60s 36ms/step - loss: 0.5968 - accuracy: 0.7528 - precision: 0.6202 - recall: 0.8679 - val_loss: 0.4942 - val_accuracy: 0.7939 - val_precision: 0.6967 - val_recall: 0.8775\n",
      "Epoch 3/60\n",
      "1666/1666 [==============================] - 60s 36ms/step - loss: 0.4078 - accuracy: 0.8438 - precision: 0.7096 - recall: 0.9206 - val_loss: 0.3828 - val_accuracy: 0.8517 - val_precision: 0.7451 - val_recall: 0.9175\n",
      "Epoch 4/60\n",
      "1666/1666 [==============================] - 60s 36ms/step - loss: 0.3262 - accuracy: 0.8813 - precision: 0.7541 - recall: 0.9416 - val_loss: 0.3201 - val_accuracy: 0.8820 - val_precision: 0.7727 - val_recall: 0.9388\n",
      "Epoch 5/60\n",
      "1666/1666 [==============================] - 61s 36ms/step - loss: 0.2766 - accuracy: 0.9016 - precision: 0.7760 - recall: 0.9540 - val_loss: 0.2872 - val_accuracy: 0.8955 - val_precision: 0.8012 - val_recall: 0.9439\n",
      "Epoch 6/60\n",
      "1666/1666 [==============================] - 60s 36ms/step - loss: 0.2476 - accuracy: 0.9149 - precision: 0.7913 - recall: 0.9614 - val_loss: 0.2668 - val_accuracy: 0.9052 - val_precision: 0.8156 - val_recall: 0.9500\n",
      "Epoch 7/60\n",
      "1666/1666 [==============================] - 66s 39ms/step - loss: 0.2209 - accuracy: 0.9260 - precision: 0.8031 - recall: 0.9671 - val_loss: 0.2692 - val_accuracy: 0.9036 - val_precision: 0.7884 - val_recall: 0.9535\n",
      "Epoch 8/60\n",
      "1666/1666 [==============================] - 61s 36ms/step - loss: 0.2020 - accuracy: 0.9338 - precision: 0.8176 - recall: 0.9694 - val_loss: 0.2618 - val_accuracy: 0.9127 - val_precision: 0.8332 - val_recall: 0.9511\n",
      "Epoch 9/60\n",
      "1666/1666 [==============================] - 63s 38ms/step - loss: 0.1858 - accuracy: 0.9396 - precision: 0.8270 - recall: 0.9733 - val_loss: 0.2497 - val_accuracy: 0.9160 - val_precision: 0.8257 - val_recall: 0.9540\n",
      "Epoch 10/60\n",
      "1666/1666 [==============================] - 74s 44ms/step - loss: 0.1735 - accuracy: 0.9440 - precision: 0.8370 - recall: 0.9751 - val_loss: 0.2865 - val_accuracy: 0.9104 - val_precision: 0.8308 - val_recall: 0.9490\n",
      "Epoch 11/60\n",
      "1666/1666 [==============================] - 61s 36ms/step - loss: 0.1606 - accuracy: 0.9492 - precision: 0.8435 - recall: 0.9778 - val_loss: 0.2846 - val_accuracy: 0.9060 - val_precision: 0.7990 - val_recall: 0.9538\n",
      "Epoch 12/60\n",
      "1666/1666 [==============================] - 65s 39ms/step - loss: 0.1503 - accuracy: 0.9525 - precision: 0.8486 - recall: 0.9795 - val_loss: 0.2546 - val_accuracy: 0.9211 - val_precision: 0.8486 - val_recall: 0.9538\n",
      "Epoch 13/60\n",
      "1666/1666 [==============================] - 68s 41ms/step - loss: 0.1438 - accuracy: 0.9547 - precision: 0.8545 - recall: 0.9810 - val_loss: 0.2516 - val_accuracy: 0.9199 - val_precision: 0.8392 - val_recall: 0.9548\n",
      "Epoch 14/60\n",
      "1666/1666 [==============================] - 63s 38ms/step - loss: 0.1349 - accuracy: 0.9574 - precision: 0.8561 - recall: 0.9823 - val_loss: 0.2599 - val_accuracy: 0.9219 - val_precision: 0.8373 - val_recall: 0.9548\n",
      "Epoch 15/60\n",
      "1666/1666 [==============================] - 71s 42ms/step - loss: 0.1283 - accuracy: 0.9608 - precision: 0.8626 - recall: 0.9832 - val_loss: 0.2777 - val_accuracy: 0.9229 - val_precision: 0.8556 - val_recall: 0.9538\n",
      "Epoch 16/60\n",
      "1666/1666 [==============================] - 61s 37ms/step - loss: 0.1211 - accuracy: 0.9635 - precision: 0.8685 - recall: 0.9844 - val_loss: 0.2895 - val_accuracy: 0.9237 - val_precision: 0.8613 - val_recall: 0.9550\n",
      "Epoch 17/60\n",
      "1666/1666 [==============================] - 75s 45ms/step - loss: 0.1161 - accuracy: 0.9646 - precision: 0.8748 - recall: 0.9857 - val_loss: 0.2915 - val_accuracy: 0.9229 - val_precision: 0.8628 - val_recall: 0.9515\n",
      "Epoch 18/60\n",
      "1666/1666 [==============================] - 62s 37ms/step - loss: 0.1106 - accuracy: 0.9665 - precision: 0.8725 - recall: 0.9864 - val_loss: 0.2779 - val_accuracy: 0.9213 - val_precision: 0.8555 - val_recall: 0.9536\n",
      "Epoch 19/60\n",
      "1666/1666 [==============================] - 70s 42ms/step - loss: 0.1037 - accuracy: 0.9685 - precision: 0.8820 - recall: 0.9874 - val_loss: 0.2850 - val_accuracy: 0.9253 - val_precision: 0.8625 - val_recall: 0.9551\n",
      "Epoch 20/60\n",
      "1666/1666 [==============================] - 67s 40ms/step - loss: 0.1002 - accuracy: 0.9701 - precision: 0.8849 - recall: 0.9875 - val_loss: 0.2954 - val_accuracy: 0.9181 - val_precision: 0.8490 - val_recall: 0.9494\n",
      "Epoch 21/60\n",
      "1666/1666 [==============================] - 64s 38ms/step - loss: 0.0991 - accuracy: 0.9704 - precision: 0.8865 - recall: 0.9881 - val_loss: 0.3496 - val_accuracy: 0.9181 - val_precision: 0.8508 - val_recall: 0.9480\n",
      "Epoch 22/60\n",
      "1666/1666 [==============================] - 73s 44ms/step - loss: 0.0950 - accuracy: 0.9715 - precision: 0.8881 - recall: 0.9886 - val_loss: 0.3306 - val_accuracy: 0.9222 - val_precision: 0.8578 - val_recall: 0.9513\n",
      "Epoch 23/60\n",
      "1666/1666 [==============================] - 61s 37ms/step - loss: 0.0913 - accuracy: 0.9737 - precision: 0.8927 - recall: 0.9889 - val_loss: 0.2906 - val_accuracy: 0.9259 - val_precision: 0.8632 - val_recall: 0.9535\n",
      "Epoch 24/60\n",
      "1666/1666 [==============================] - 77s 46ms/step - loss: 0.0876 - accuracy: 0.9741 - precision: 0.8963 - recall: 0.9895 - val_loss: 0.3123 - val_accuracy: 0.9204 - val_precision: 0.8537 - val_recall: 0.9512\n",
      "Epoch 25/60\n",
      "1666/1666 [==============================] - 64s 38ms/step - loss: 0.0882 - accuracy: 0.9743 - precision: 0.8958 - recall: 0.9891 - val_loss: 0.2935 - val_accuracy: 0.9238 - val_precision: 0.8593 - val_recall: 0.9538\n",
      "Epoch 26/60\n",
      "1666/1666 [==============================] - 94s 56ms/step - loss: 0.0839 - accuracy: 0.9751 - precision: 0.8988 - recall: 0.9904 - val_loss: 0.2999 - val_accuracy: 0.9210 - val_precision: 0.8559 - val_recall: 0.9506\n",
      "Epoch 27/60\n",
      "1666/1666 [==============================] - 104s 63ms/step - loss: 0.0791 - accuracy: 0.9773 - precision: 0.9022 - recall: 0.9909 - val_loss: 0.3043 - val_accuracy: 0.9227 - val_precision: 0.8634 - val_recall: 0.9514\n",
      "Epoch 28/60\n",
      "1666/1666 [==============================] - 101s 61ms/step - loss: 0.0776 - accuracy: 0.9785 - precision: 0.9046 - recall: 0.9915 - val_loss: 0.3247 - val_accuracy: 0.9254 - val_precision: 0.8681 - val_recall: 0.9505\n",
      "Epoch 29/60\n",
      "1666/1666 [==============================] - 103s 62ms/step - loss: 0.0758 - accuracy: 0.9782 - precision: 0.9060 - recall: 0.9912 - val_loss: 0.3063 - val_accuracy: 0.9247 - val_precision: 0.8660 - val_recall: 0.9502\n",
      "Epoch 30/60\n",
      " 758/1666 [============>.................] - ETA: 52s - loss: 0.0659 - accuracy: 0.9814 - precision: 0.9116 - recall: 0.9931"
     ]
    }
   ],
   "source": [
    "PATH_KERAS_LSTM = 'C:\\\\Users\\\\mamai\\\\Desktop\\\\Tesi\\\\Code\\\\Models\\\\Keras\\\\LSTM\\\\Simplified_Train60Test40Valid20\\\\'\n",
    "\n",
    "# Model weights are saved at the end of every epoch, if it's the best seen so far.\n",
    "model_checkpoint_callback = ModelCheckpoint(\n",
    "    filepath=PATH_KERAS_LSTM,\n",
    "    save_weights_only=True,\n",
    "    monitor='val_accuracy',\n",
    "    mode='max',\n",
    "    save_best_only=True)\n",
    "\n",
    "history = model_keras_lstm.fit(x=X_train_dl, y=y_train_dl,\n",
    "        batch_size=batch_size, epochs=epochs,\n",
    "        validation_data=(X_valid_dl, y_valid_dl),\n",
    "        callbacks=[model_checkpoint_callback])\n",
    "\n",
    "history"
   ]
  },
  {
   "cell_type": "code",
   "execution_count": 77,
   "id": "5c2e621a-fcbc-46da-98a0-27fbe1cbd7b5",
   "metadata": {},
   "outputs": [
    {
     "data": {
      "text/plain": [
       "<tensorflow.python.checkpoint.checkpoint.CheckpointLoadStatus at 0x22135ea8cd0>"
      ]
     },
     "execution_count": 77,
     "metadata": {},
     "output_type": "execute_result"
    }
   ],
   "source": [
    "# The model weights (that are considered the best) are loaded into the model.\n",
    "# The best model is the one that achieves the smaller loss on the validation set.\n",
    "model_keras_lstm.load_weights(PATH_KERAS_LSTM)"
   ]
  },
  {
   "cell_type": "code",
   "execution_count": 78,
   "id": "17b2f2f4-165d-4c07-b390-53f8026b5696",
   "metadata": {},
   "outputs": [
    {
     "data": {
      "image/png": "[encoded data removed]",
      "text/plain": [
       "<Figure size 1440x432 with 2 Axes>"
      ]
     },
     "metadata": {
      "needs_background": "light"
     },
     "output_type": "display_data"
    }
   ],
   "source": [
    "# Visualize results of Keras model\n",
    "\n",
    "fig = plt.figure(figsize = (20, 6))\n",
    "plt.subplot(1, 2, 1)\n",
    "plt.plot(history.history['accuracy'], label='Train Keras')\n",
    "plt.plot(history.history['val_accuracy'], label='Validation Keras')\n",
    "plt.title(\"Accuracy\")\n",
    "plt.ylabel('accuracy')\n",
    "plt.xlabel('epoch')\n",
    "plt.legend()\n",
    "plt.grid()\n",
    "    \n",
    "plt.subplot(1, 2, 2)\n",
    "plt.plot(history.history['loss'], label='Train Keras')\n",
    "plt.plot(history.history['val_loss'], label='Validation Keras')\n",
    "plt.title(\"Loss\")\n",
    "plt.ylabel('loss')\n",
    "plt.xlabel('epoch')\n",
    "plt.legend()\n",
    "plt.grid()\n",
    "\n",
    "plt.show()"
   ]
  },
  {
   "cell_type": "code",
   "execution_count": 79,
   "id": "21e834d8-c085-41ad-8947-1f0a9dc80857",
   "metadata": {},
   "outputs": [
    {
     "name": "stdout",
     "output_type": "stream",
     "text": [
      "1389/1389 - 9s - loss: 0.3048 - accuracy: 0.9231 - 9s/epoch - 6ms/step\n"
     ]
    },
    {
     "data": {
      "text/plain": [
       "[0.3048495948314667, 0.9230509400367737]"
      ]
     },
     "execution_count": 79,
     "metadata": {},
     "output_type": "execute_result"
    }
   ],
   "source": [
    "model_keras_lstm.evaluate(X_test_dl, y_test_dl, verbose=2)"
   ]
  },
  {
   "cell_type": "markdown",
   "id": "237f1870-d6b0-4ddc-ace3-ae9d6706ad71",
   "metadata": {},
   "source": [
    "# Conclusion Neural Networks"
   ]
  },
  {
   "cell_type": "markdown",
   "id": "4c588dea-9b9d-4a21-a44e-9635e3596409",
   "metadata": {},
   "source": [
    "\n",
    "0.3519522547721863, 0.92118239402771, 0.8563084602355957, 0.9505391716957092"
   ]
  },
  {
   "cell_type": "code",
   "execution_count": 31,
   "id": "539bf02a-d593-42e1-aaf6-c049f004462a",
   "metadata": {},
   "outputs": [],
   "source": [
    "epochs = 80"
   ]
  },
  {
   "cell_type": "code",
   "execution_count": 34,
   "id": "38947251-a04a-4205-8bd6-a7060a448141",
   "metadata": {},
   "outputs": [
    {
     "name": "stdout",
     "output_type": "stream",
     "text": [
      "Model: \"sequential\"\n",
      "_________________________________________________________________\n",
      " Layer (type)                Output Shape              Param #   \n",
      "=================================================================\n",
      " embedding (Embedding)       (None, None, 64)          1296640   \n",
      "                                                                 \n",
      " lstm (LSTM)                 (None, 32)                12416     \n",
      "                                                                 \n",
      " dropout (Dropout)           (None, 32)                0         \n",
      "                                                                 \n",
      " dense (Dense)               (None, 3)                 99        \n",
      "                                                                 \n",
      "=================================================================\n",
      "Total params: 1,309,155\n",
      "Trainable params: 1,309,155\n",
      "Non-trainable params: 0\n",
      "_________________________________________________________________\n"
     ]
    }
   ],
   "source": [
    "from tensorflow.keras.layers import Bidirectional, LSTM\n",
    "from tensorflow.keras.layers import SimpleRNN, Dense, Embedding, Dropout\n",
    "from tensorflow.keras.models import Sequential\n",
    "from tensorflow.keras.optimizers import SGD\n",
    "\n",
    "embedding_dim = 64\n",
    "hidden_dim = 32\n",
    "drop_prob = 0.3\n",
    "lr = 0.05\n",
    "clipnorm_value = 1.\n",
    "input_dim = len(vocabulary)+1 # +1 is for the padding\n",
    "\n",
    "\n",
    "model_keras_lstm_1 = Sequential([\n",
    "  Embedding(input_dim, embedding_dim),\n",
    "  LSTM(hidden_dim, dropout = drop_prob, recurrent_dropout= drop_prob),#, dropout = 0.2)),  \n",
    "  Dropout(drop_prob),\n",
    "  Dense(3, activation=\"sigmoid\")\n",
    "])\n",
    "\n",
    "#opt_adam = Adam(clipnorm=1, learning_rate = 0.05)\n",
    "\n",
    "opt_sgd = SGD(learning_rate=lr, clipnorm=clipnorm_value)\n",
    "\n",
    "model_keras_lstm_1.compile(optimizer=opt_sgd, loss='categorical_crossentropy', metrics=[\"accuracy\"])\n",
    "model_keras_lstm_1.summary()"
   ]
  },
  {
   "cell_type": "code",
   "execution_count": 37,
   "id": "bae97164-26d5-449e-880d-fd06d3ac7fbd",
   "metadata": {
    "tags": []
   },
   "outputs": [
    {
     "name": "stdout",
     "output_type": "stream",
     "text": [
      "Epoch 1/80\n",
      "963/963 [==============================] - 59s 55ms/step - loss: 1.0699 - accuracy: 0.4209 - val_loss: 1.0088 - val_accuracy: 0.5004\n",
      "Epoch 2/80\n",
      "963/963 [==============================] - 51s 53ms/step - loss: 0.8811 - accuracy: 0.5868 - val_loss: 0.7305 - val_accuracy: 0.6767\n",
      "Epoch 3/80\n",
      "963/963 [==============================] - 51s 53ms/step - loss: 0.6009 - accuracy: 0.7493 - val_loss: 0.5186 - val_accuracy: 0.7843\n",
      "Epoch 4/80\n",
      "963/963 [==============================] - 52s 53ms/step - loss: 0.4674 - accuracy: 0.8159 - val_loss: 0.4258 - val_accuracy: 0.8305\n",
      "Epoch 5/80\n",
      "963/963 [==============================] - 51s 53ms/step - loss: 0.3842 - accuracy: 0.8561 - val_loss: 0.3968 - val_accuracy: 0.8460\n",
      "Epoch 6/80\n",
      "963/963 [==============================] - 1237s 1s/step - loss: 0.3280 - accuracy: 0.8791 - val_loss: 0.3520 - val_accuracy: 0.8720\n",
      "Epoch 7/80\n",
      "963/963 [==============================] - 52s 54ms/step - loss: 0.2878 - accuracy: 0.8963 - val_loss: 0.3341 - val_accuracy: 0.8740\n",
      "Epoch 8/80\n",
      "963/963 [==============================] - 52s 54ms/step - loss: 0.2596 - accuracy: 0.9082 - val_loss: 0.3114 - val_accuracy: 0.8895\n",
      "Epoch 9/80\n",
      "963/963 [==============================] - 52s 54ms/step - loss: 0.2338 - accuracy: 0.9176 - val_loss: 0.3494 - val_accuracy: 0.8802\n",
      "Epoch 10/80\n",
      "963/963 [==============================] - 51s 53ms/step - loss: 0.2127 - accuracy: 0.9273 - val_loss: 0.2981 - val_accuracy: 0.8924\n",
      "Epoch 11/80\n",
      "963/963 [==============================] - 604s 628ms/step - loss: 0.1990 - accuracy: 0.9329 - val_loss: 0.2971 - val_accuracy: 0.8994\n",
      "Epoch 12/80\n",
      "963/963 [==============================] - 53s 55ms/step - loss: 0.1887 - accuracy: 0.9374 - val_loss: 0.3088 - val_accuracy: 0.8916\n",
      "Epoch 13/80\n",
      "963/963 [==============================] - 52s 54ms/step - loss: 0.1714 - accuracy: 0.9428 - val_loss: 0.3093 - val_accuracy: 0.8986\n",
      "Epoch 14/80\n",
      "963/963 [==============================] - 51s 53ms/step - loss: 0.1619 - accuracy: 0.9476 - val_loss: 0.4216 - val_accuracy: 0.8764\n",
      "Epoch 15/80\n",
      "963/963 [==============================] - 51s 53ms/step - loss: 0.1494 - accuracy: 0.9520 - val_loss: 0.3483 - val_accuracy: 0.8921\n",
      "Epoch 16/80\n",
      "963/963 [==============================] - 52s 54ms/step - loss: 0.1431 - accuracy: 0.9533 - val_loss: 0.2917 - val_accuracy: 0.9053\n",
      "Epoch 17/80\n",
      "963/963 [==============================] - 68s 70ms/step - loss: 0.1344 - accuracy: 0.9574 - val_loss: 0.2973 - val_accuracy: 0.9073\n",
      "Epoch 18/80\n",
      "963/963 [==============================] - 52s 54ms/step - loss: 0.1256 - accuracy: 0.9595 - val_loss: 0.3535 - val_accuracy: 0.8948\n",
      "Epoch 19/80\n",
      "963/963 [==============================] - 52s 54ms/step - loss: 0.1193 - accuracy: 0.9611 - val_loss: 0.3598 - val_accuracy: 0.9003\n",
      "Epoch 20/80\n",
      "963/963 [==============================] - 52s 54ms/step - loss: 0.1143 - accuracy: 0.9642 - val_loss: 0.3066 - val_accuracy: 0.9059\n",
      "Epoch 21/80\n",
      "963/963 [==============================] - 40136s 42s/step - loss: 0.1101 - accuracy: 0.9649 - val_loss: 0.3588 - val_accuracy: 0.9079\n",
      "Epoch 22/80\n",
      "963/963 [==============================] - 44056s 46s/step - loss: 0.0965 - accuracy: 0.9696 - val_loss: 0.3380 - val_accuracy: 0.8992\n",
      "Epoch 24/80\n",
      "963/963 [==============================] - 41s 42ms/step - loss: 0.0946 - accuracy: 0.9711 - val_loss: 0.4183 - val_accuracy: 0.8822\n",
      "Epoch 25/80\n",
      "963/963 [==============================] - 39s 40ms/step - loss: 0.0912 - accuracy: 0.9720 - val_loss: 0.3429 - val_accuracy: 0.9114\n",
      "Epoch 26/80\n",
      "963/963 [==============================] - 39s 40ms/step - loss: 0.0863 - accuracy: 0.9738 - val_loss: 0.3460 - val_accuracy: 0.9144\n",
      "Epoch 27/80\n",
      "963/963 [==============================] - 41s 43ms/step - loss: 0.0834 - accuracy: 0.9742 - val_loss: 0.3944 - val_accuracy: 0.8986\n",
      "Epoch 28/80\n",
      "963/963 [==============================] - 41s 42ms/step - loss: 0.0788 - accuracy: 0.9765 - val_loss: 0.3712 - val_accuracy: 0.9085\n",
      "Epoch 29/80\n",
      "963/963 [==============================] - 41s 42ms/step - loss: 0.0773 - accuracy: 0.9753 - val_loss: 0.3666 - val_accuracy: 0.9097\n",
      "Epoch 30/80\n",
      "963/963 [==============================] - 39s 41ms/step - loss: 0.0716 - accuracy: 0.9789 - val_loss: 0.3901 - val_accuracy: 0.9009\n",
      "Epoch 31/80\n",
      "963/963 [==============================] - 38s 39ms/step - loss: 0.0716 - accuracy: 0.9780 - val_loss: 0.3738 - val_accuracy: 0.9088\n",
      "Epoch 32/80\n",
      "963/963 [==============================] - 41s 43ms/step - loss: 0.0708 - accuracy: 0.9793 - val_loss: 0.3801 - val_accuracy: 0.9103\n",
      "Epoch 33/80\n",
      "963/963 [==============================] - 40s 41ms/step - loss: 0.0667 - accuracy: 0.9799 - val_loss: 0.3815 - val_accuracy: 0.9097\n",
      "Epoch 34/80\n",
      "963/963 [==============================] - 36s 38ms/step - loss: 0.0638 - accuracy: 0.9809 - val_loss: 0.4107 - val_accuracy: 0.9053\n",
      "Epoch 35/80\n",
      "963/963 [==============================] - 37s 38ms/step - loss: 0.0628 - accuracy: 0.9813 - val_loss: 0.4153 - val_accuracy: 0.9053\n",
      "Epoch 36/80\n",
      "963/963 [==============================] - 42s 44ms/step - loss: 0.0586 - accuracy: 0.9830 - val_loss: 0.4073 - val_accuracy: 0.9059\n",
      "Epoch 37/80\n",
      "963/963 [==============================] - 38s 39ms/step - loss: 0.0577 - accuracy: 0.9831 - val_loss: 0.4051 - val_accuracy: 0.9088\n",
      "Epoch 38/80\n",
      "963/963 [==============================] - 32s 34ms/step - loss: 0.0530 - accuracy: 0.9847 - val_loss: 0.4244 - val_accuracy: 0.9027\n",
      "Epoch 39/80\n",
      "963/963 [==============================] - 31s 32ms/step - loss: 0.0538 - accuracy: 0.9844 - val_loss: 0.4076 - val_accuracy: 0.9068\n",
      "Epoch 40/80\n",
      "963/963 [==============================] - 32s 33ms/step - loss: 0.0511 - accuracy: 0.9848 - val_loss: 0.4128 - val_accuracy: 0.9082\n",
      "Epoch 41/80\n",
      "963/963 [==============================] - 43s 45ms/step - loss: 0.0500 - accuracy: 0.9853 - val_loss: 0.4548 - val_accuracy: 0.9018\n",
      "Epoch 42/80\n",
      "963/963 [==============================] - 40s 42ms/step - loss: 0.0467 - accuracy: 0.9861 - val_loss: 0.4229 - val_accuracy: 0.9062\n",
      "Epoch 43/80\n",
      "963/963 [==============================] - 31s 32ms/step - loss: 0.0483 - accuracy: 0.9854 - val_loss: 0.4480 - val_accuracy: 0.9123\n",
      "Epoch 44/80\n",
      "963/963 [==============================] - 31s 32ms/step - loss: 0.0447 - accuracy: 0.9873 - val_loss: 0.4273 - val_accuracy: 0.9076\n",
      "Epoch 45/80\n",
      "963/963 [==============================] - 32s 33ms/step - loss: 0.0424 - accuracy: 0.9875 - val_loss: 0.4669 - val_accuracy: 0.9062\n",
      "Epoch 46/80\n",
      "963/963 [==============================] - 33s 34ms/step - loss: 0.0418 - accuracy: 0.9882 - val_loss: 0.4387 - val_accuracy: 0.9068\n",
      "Epoch 47/80\n",
      "963/963 [==============================] - 40s 42ms/step - loss: 0.0409 - accuracy: 0.9884 - val_loss: 0.4617 - val_accuracy: 0.9056\n",
      "Epoch 48/80\n",
      "963/963 [==============================] - 40s 41ms/step - loss: 0.0415 - accuracy: 0.9881 - val_loss: 0.4630 - val_accuracy: 0.9076\n",
      "Epoch 49/80\n",
      "963/963 [==============================] - 30s 31ms/step - loss: 0.0417 - accuracy: 0.9875 - val_loss: 0.4976 - val_accuracy: 0.9021\n",
      "Epoch 50/80\n",
      "963/963 [==============================] - 30s 31ms/step - loss: 0.0404 - accuracy: 0.9879 - val_loss: 0.4736 - val_accuracy: 0.9032\n",
      "Epoch 51/80\n",
      "963/963 [==============================] - 34s 36ms/step - loss: 0.0374 - accuracy: 0.9888 - val_loss: 0.4684 - val_accuracy: 0.9070\n",
      "Epoch 52/80\n",
      "963/963 [==============================] - 43s 45ms/step - loss: 0.0369 - accuracy: 0.9892 - val_loss: 0.5501 - val_accuracy: 0.8971\n",
      "Epoch 53/80\n",
      "963/963 [==============================] - 36s 37ms/step - loss: 0.0334 - accuracy: 0.9905 - val_loss: 0.5131 - val_accuracy: 0.9050\n",
      "Epoch 54/80\n",
      "963/963 [==============================] - 32s 34ms/step - loss: 0.0346 - accuracy: 0.9900 - val_loss: 0.4796 - val_accuracy: 0.9088\n",
      "Epoch 55/80\n",
      "963/963 [==============================] - 32s 33ms/step - loss: 0.0371 - accuracy: 0.9887 - val_loss: 0.5034 - val_accuracy: 0.9068\n",
      "Epoch 56/80\n",
      "963/963 [==============================] - 40s 42ms/step - loss: 0.0336 - accuracy: 0.9900 - val_loss: 0.5135 - val_accuracy: 0.9085\n",
      "Epoch 57/80\n",
      "963/963 [==============================] - 37s 39ms/step - loss: 0.0326 - accuracy: 0.9906 - val_loss: 0.4961 - val_accuracy: 0.9050\n",
      "Epoch 58/80\n",
      "963/963 [==============================] - 35s 37ms/step - loss: 0.0316 - accuracy: 0.9910 - val_loss: 0.5012 - val_accuracy: 0.9094\n",
      "Epoch 59/80\n",
      "963/963 [==============================] - 38s 39ms/step - loss: 0.0330 - accuracy: 0.9907 - val_loss: 0.5992 - val_accuracy: 0.8918\n",
      "Epoch 60/80\n",
      "963/963 [==============================] - 49s 51ms/step - loss: 0.0313 - accuracy: 0.9910 - val_loss: 0.5195 - val_accuracy: 0.9030\n",
      "Epoch 61/80\n",
      "963/963 [==============================] - 40s 41ms/step - loss: 0.0289 - accuracy: 0.9915 - val_loss: 0.5337 - val_accuracy: 0.9050\n",
      "Epoch 62/80\n",
      "963/963 [==============================] - 33s 34ms/step - loss: 0.0283 - accuracy: 0.9916 - val_loss: 0.5368 - val_accuracy: 0.9085\n",
      "Epoch 63/80\n",
      "963/963 [==============================] - 31s 32ms/step - loss: 0.0286 - accuracy: 0.9910 - val_loss: 0.5448 - val_accuracy: 0.9076\n",
      "Epoch 64/80\n",
      "963/963 [==============================] - 32s 33ms/step - loss: 0.0286 - accuracy: 0.9915 - val_loss: 0.5250 - val_accuracy: 0.9056\n",
      "Epoch 65/80\n",
      "963/963 [==============================] - 38s 39ms/step - loss: 0.0271 - accuracy: 0.9923 - val_loss: 0.5396 - val_accuracy: 0.9085\n",
      "Epoch 66/80\n",
      "963/963 [==============================] - 41s 43ms/step - loss: 0.0244 - accuracy: 0.9930 - val_loss: 0.5440 - val_accuracy: 0.9059\n",
      "Epoch 67/80\n",
      "963/963 [==============================] - 36s 37ms/step - loss: 0.0259 - accuracy: 0.9930 - val_loss: 0.5810 - val_accuracy: 0.9006\n",
      "Epoch 68/80\n",
      "963/963 [==============================] - 31s 32ms/step - loss: 0.0236 - accuracy: 0.9932 - val_loss: 0.5464 - val_accuracy: 0.9050\n",
      "Epoch 69/80\n",
      "963/963 [==============================] - 32s 33ms/step - loss: 0.0246 - accuracy: 0.9929 - val_loss: 0.5602 - val_accuracy: 0.9041\n",
      "Epoch 70/80\n",
      "963/963 [==============================] - 39s 40ms/step - loss: 0.0234 - accuracy: 0.9930 - val_loss: 0.5787 - val_accuracy: 0.9035\n",
      "Epoch 71/80\n",
      "963/963 [==============================] - 47s 49ms/step - loss: 0.0255 - accuracy: 0.9926 - val_loss: 0.5561 - val_accuracy: 0.9047\n",
      "Epoch 72/80\n",
      "963/963 [==============================] - 45s 47ms/step - loss: 0.0238 - accuracy: 0.9927 - val_loss: 0.5861 - val_accuracy: 0.9032\n",
      "Epoch 73/80\n",
      "963/963 [==============================] - 32s 33ms/step - loss: 0.0231 - accuracy: 0.9932 - val_loss: 0.5513 - val_accuracy: 0.9012\n",
      "Epoch 74/80\n",
      "963/963 [==============================] - 44s 46ms/step - loss: 0.0210 - accuracy: 0.9942 - val_loss: 0.5563 - val_accuracy: 0.9065\n",
      "Epoch 75/80\n",
      "963/963 [==============================] - 46s 48ms/step - loss: 0.0233 - accuracy: 0.9936 - val_loss: 0.5597 - val_accuracy: 0.9111\n",
      "Epoch 76/80\n",
      "963/963 [==============================] - 39s 40ms/step - loss: 0.0226 - accuracy: 0.9935 - val_loss: 0.5704 - val_accuracy: 0.9006\n",
      "Epoch 77/80\n",
      "963/963 [==============================] - 32s 33ms/step - loss: 0.0194 - accuracy: 0.9944 - val_loss: 0.5758 - val_accuracy: 0.9059\n",
      "Epoch 78/80\n",
      "963/963 [==============================] - 32s 34ms/step - loss: 0.0205 - accuracy: 0.9941 - val_loss: 0.6057 - val_accuracy: 0.9018\n",
      "Epoch 79/80\n",
      "963/963 [==============================] - 39s 40ms/step - loss: 0.0204 - accuracy: 0.9942 - val_loss: 0.5980 - val_accuracy: 0.8994\n",
      "Epoch 80/80\n",
      "963/963 [==============================] - 39s 40ms/step - loss: 0.0199 - accuracy: 0.9939 - val_loss: 0.5870 - val_accuracy: 0.9006\n"
     ]
    },
    {
     "data": {
      "text/plain": [
       "<keras.callbacks.History at 0x2a926ae39d0>"
      ]
     },
     "execution_count": 37,
     "metadata": {},
     "output_type": "execute_result"
    }
   ],
   "source": [
    "PATH_KERAS_LSTM = 'C:\\\\Users\\\\mamai\\\\Desktop\\\\Tesi\\\\Code\\\\Models\\\\Keras\\\\LSTM\\\\'\n",
    "\n",
    "from tensorflow.keras.callbacks import ModelCheckpoint\n",
    "batch_size=32\n",
    "\n",
    "# Model weights are saved at the end of every epoch, if it's the best seen so far.\n",
    "model_checkpoint_callback = ModelCheckpoint(\n",
    "    filepath=PATH_KERAS_LSTM,\n",
    "    save_weights_only=True,\n",
    "    monitor='loss',\n",
    "    mode='min',\n",
    "    save_best_only=True)\n",
    "\n",
    "history = model_keras_lstm_1.fit(x=X_train_dl, y=y_train_dl,\n",
    "        batch_size=batch_size, epochs=epochs,\n",
    "        validation_data=(X_valid_dl, y_valid_dl),\n",
    "        callbacks=[model_checkpoint_callback])\n",
    "\n",
    "history"
   ]
  },
  {
   "cell_type": "code",
   "execution_count": 38,
   "id": "98e562cd-760f-4534-8b3d-a23d83f20f45",
   "metadata": {},
   "outputs": [
    {
     "data": {
      "text/plain": [
       "<tensorflow.python.checkpoint.checkpoint.CheckpointLoadStatus at 0x2a928506400>"
      ]
     },
     "execution_count": 38,
     "metadata": {},
     "output_type": "execute_result"
    }
   ],
   "source": [
    "# The model weights (that are considered the best) are loaded into the model.\n",
    "# The best model is the one that achieves the smaller loss on the validation set.\n",
    "model_keras_lstm_1.load_weights(PATH_KERAS_LSTM)"
   ]
  },
  {
   "cell_type": "code",
   "execution_count": 39,
   "id": "1974999b-bc31-4e8a-b8df-f48257e56b40",
   "metadata": {},
   "outputs": [
    {
     "data": {
      "image/png": "[encoded data removed]",
      "text/plain": [
       "<Figure size 1440x432 with 2 Axes>"
      ]
     },
     "metadata": {
      "needs_background": "light"
     },
     "output_type": "display_data"
    }
   ],
   "source": [
    "# Visualize results of Keras model\n",
    "\n",
    "fig = plt.figure(figsize = (20, 6))\n",
    "plt.subplot(1, 2, 1)\n",
    "plt.plot(history.history['accuracy'], label='Train Keras')\n",
    "plt.plot(history.history['val_accuracy'], label='Validation Keras')\n",
    "plt.title(\"Accuracy\")\n",
    "plt.ylabel('accuracy')\n",
    "plt.xlabel('epoch')\n",
    "plt.legend()\n",
    "plt.grid()\n",
    "    \n",
    "plt.subplot(1, 2, 2)\n",
    "plt.plot(history.history['loss'], label='Train Keras')\n",
    "plt.plot(history.history['val_loss'], label='Validation Keras')\n",
    "plt.title(\"Loss\")\n",
    "plt.ylabel('loss')\n",
    "plt.xlabel('epoch')\n",
    "plt.legend()\n",
    "plt.grid()\n",
    "\n",
    "plt.show()"
   ]
  },
  {
   "cell_type": "code",
   "execution_count": 40,
   "id": "ca77ae1c-666e-4197-9795-e3f884f87939",
   "metadata": {},
   "outputs": [
    {
     "name": "stdout",
     "output_type": "stream",
     "text": [
      "268/268 - 1s - loss: 0.5983 - accuracy: 0.9051 - 1s/epoch - 5ms/step\n"
     ]
    },
    {
     "data": {
      "text/plain": [
       "[0.5982987284660339, 0.9050625562667847]"
      ]
     },
     "execution_count": 40,
     "metadata": {},
     "output_type": "execute_result"
    }
   ],
   "source": [
    "model_keras_lstm_1.evaluate(X_test_dl, y_test_dl, verbose=2)"
   ]
  },
  {
   "cell_type": "code",
   "execution_count": null,
   "id": "fec4bfcc-38c7-4a2d-8650-350cffa05ffd",
   "metadata": {},
   "outputs": [],
   "source": []
  }
 ],
 "metadata": {
  "kernelspec": {
   "display_name": "Python 3 (ipykernel)",
   "language": "python",
   "name": "python3"
  },
  "language_info": {
   "codemirror_mode": {
    "name": "ipython",
    "version": 3
   },
   "file_extension": ".py",
   "mimetype": "text/x-python",
   "name": "python",
   "nbconvert_exporter": "python",
   "pygments_lexer": "ipython3",
   "version": "3.9.6"
  }
 },
 "nbformat": 4,
 "nbformat_minor": 5
}
