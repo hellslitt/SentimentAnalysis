{
 "cells": [
  {
   "cell_type": "code",
   "execution_count": 1,
   "id": "c75d72c1-273d-4437-b865-33d642f36922",
   "metadata": {},
   "outputs": [],
   "source": [
    "import pandas as pd\n",
    "import os\n",
    "import numpy as np\n",
    "\n",
    "# Cleaning\n",
    "import re\n",
    "import emoji\n",
    "import string\n",
    "import nltk\n",
    "from nltk.stem import WordNetLemmatizer,PorterStemmer\n",
    "from nltk.corpus import stopwords\n",
    "stop_words = set(stopwords.words('english'))\n",
    "\n",
    "# Plots\n",
    "import matplotlib.pyplot as plt\n",
    "import seaborn as sns\n",
    "\n",
    "# Models\n",
    "from sklearn.model_selection import train_test_split\n",
    "seed_value = 42\n",
    "\n",
    "#Naive Bayes\n",
    "from sklearn.feature_extraction.text import CountVectorizer\n",
    "from sklearn.feature_extraction.text import TfidfTransformer\n",
    "from sklearn.naive_bayes import MultinomialNB\n",
    "\n",
    "#Logistic regression\n",
    "from nltk.tokenize import word_tokenize\n",
    "from sklearn.linear_model import LogisticRegression #Prediction Model\n",
    "from sklearn.metrics import accuracy_score #Comparison between real and predicted\n",
    "\n",
    "#Random Forest\n",
    "from sklearn.ensemble import RandomForestClassifier\n",
    "\n",
    "#SVM\n",
    "from sklearn.svm import SVC"
   ]
  },
  {
   "cell_type": "markdown",
   "id": "1de148e7-8d8a-48e6-b66e-592bd34df095",
   "metadata": {
    "jp-MarkdownHeadingCollapsed": true,
    "tags": []
   },
   "source": [
    "# Skip, data merging"
   ]
  },
  {
   "cell_type": "code",
   "execution_count": 2,
   "id": "2a4c2754-afe7-4764-b2dc-0075f9d7707a",
   "metadata": {},
   "outputs": [],
   "source": [
    "pd.set_option('display.max_colwidth', None)\n",
    "pd.set_option('display.max_rows', None)"
   ]
  },
  {
   "cell_type": "code",
   "execution_count": 3,
   "id": "cfe247ea-3c02-4c41-a2ed-560ce6425916",
   "metadata": {},
   "outputs": [
    {
     "data": {
      "text/plain": [
       "'C:\\\\Users\\\\mamai\\\\Desktop\\\\Tesi\\\\Code\\\\notebookFinaliprove'"
      ]
     },
     "execution_count": 3,
     "metadata": {},
     "output_type": "execute_result"
    }
   ],
   "source": [
    "os.getcwd()"
   ]
  },
  {
   "cell_type": "code",
   "execution_count": 6,
   "id": "68a38c2a-887e-4747-b1ee-0b1da39da585",
   "metadata": {},
   "outputs": [],
   "source": [
    "def merge_csv(input1, input2, input3, input4):\n",
    "    path = 'C:\\\\Users\\\\mamai\\\\Desktop\\\\Tesi\\\\Code\\\\twitter download\\\\'\n",
    "    path1 = path + input1\n",
    "    path2 = path + input2\n",
    "    path3 = path + input3\n",
    "    path4 = path + input4\n",
    "    data1 = pd.read_csv(path1)\n",
    "    data2 = pd.read_csv(path2)\n",
    "    data3 = pd.read_csv(path3)\n",
    "    data4 = pd.read_csv(path4)\n",
    "    output_data = pd.concat([data1,data2,data3,data4])\n",
    "    output_data.reset_index(inplace=True, drop=True)\n",
    "    return output_data"
   ]
  },
  {
   "cell_type": "code",
   "execution_count": 7,
   "id": "46c6452b-823b-45c3-a636-14251ad6619c",
   "metadata": {},
   "outputs": [
    {
     "data": {
      "text/html": [
       "<div>\n",
       "<style scoped>\n",
       "    .dataframe tbody tr th:only-of-type {\n",
       "        vertical-align: middle;\n",
       "    }\n",
       "\n",
       "    .dataframe tbody tr th {\n",
       "        vertical-align: top;\n",
       "    }\n",
       "\n",
       "    .dataframe thead th {\n",
       "        text-align: right;\n",
       "    }\n",
       "</style>\n",
       "<table border=\"1\" class=\"dataframe\">\n",
       "  <thead>\n",
       "    <tr style=\"text-align: right;\">\n",
       "      <th></th>\n",
       "      <th>ID</th>\n",
       "      <th>text</th>\n",
       "      <th>sentiment</th>\n",
       "    </tr>\n",
       "  </thead>\n",
       "  <tbody>\n",
       "    <tr>\n",
       "      <th>0</th>\n",
       "      <td>1629275091325583362</td>\n",
       "      <td>RT @PoliticalMoons2: These two recent articles discuss H5N1 \"bird flu\" in detail; the first delineating an accurate 8-month old projection…</td>\n",
       "      <td>0.18750</td>\n",
       "    </tr>\n",
       "    <tr>\n",
       "      <th>1</th>\n",
       "      <td>1629275093242351617</td>\n",
       "      <td>RT @hotpriestt: eat her pussy👀</td>\n",
       "      <td>0.00000</td>\n",
       "    </tr>\n",
       "    <tr>\n",
       "      <th>2</th>\n",
       "      <td>1629275094294884352</td>\n",
       "      <td>RT @hcasan0va: These people have lost their minds. Just bc there’s a global org with a perspective doesn’t mean we have to comply. This wil…</td>\n",
       "      <td>-0.15625</td>\n",
       "    </tr>\n",
       "    <tr>\n",
       "      <th>3</th>\n",
       "      <td>1629275094735372289</td>\n",
       "      <td>RT @VigilantFox: Shedding Concerns: \"It Looks Like the mRNA is Transferring from the Vaccinated to the Unvaccinated\"\\n\\nCould you actually ta…</td>\n",
       "      <td>0.00000</td>\n",
       "    </tr>\n",
       "    <tr>\n",
       "      <th>4</th>\n",
       "      <td>1629275094445969408</td>\n",
       "      <td>@LeslynLewis @AirCanada Wear a mask then.</td>\n",
       "      <td>0.00000</td>\n",
       "    </tr>\n",
       "  </tbody>\n",
       "</table>\n",
       "</div>"
      ],
      "text/plain": [
       "                    ID  \\\n",
       "0  1629275091325583362   \n",
       "1  1629275093242351617   \n",
       "2  1629275094294884352   \n",
       "3  1629275094735372289   \n",
       "4  1629275094445969408   \n",
       "\n",
       "                                                                                                                                             text  \\\n",
       "0     RT @PoliticalMoons2: These two recent articles discuss H5N1 \"bird flu\" in detail; the first delineating an accurate 8-month old projection…   \n",
       "1                                                                                                                  RT @hotpriestt: eat her pussy👀   \n",
       "2    RT @hcasan0va: These people have lost their minds. Just bc there’s a global org with a perspective doesn’t mean we have to comply. This wil…   \n",
       "3  RT @VigilantFox: Shedding Concerns: \"It Looks Like the mRNA is Transferring from the Vaccinated to the Unvaccinated\"\\n\\nCould you actually ta…   \n",
       "4                                                                                                       @LeslynLewis @AirCanada Wear a mask then.   \n",
       "\n",
       "   sentiment  \n",
       "0    0.18750  \n",
       "1    0.00000  \n",
       "2   -0.15625  \n",
       "3    0.00000  \n",
       "4    0.00000  "
      ]
     },
     "execution_count": 7,
     "metadata": {},
     "output_type": "execute_result"
    }
   ],
   "source": [
    "data = merge_csv('data_5000.csv', 'data_10000.csv', 'data_from_15000_to_50000.csv', 'data_from_50000_to_130000.csv')\n",
    "data = data.drop(data.columns[0], axis=1).reset_index(drop=True)\n",
    "data.head()"
   ]
  },
  {
   "cell_type": "code",
   "execution_count": 8,
   "id": "603dee74-23c8-4a79-a0b1-b85908738f46",
   "metadata": {},
   "outputs": [],
   "source": [
    "# Cleaning"
   ]
  },
  {
   "cell_type": "code",
   "execution_count": 9,
   "id": "7428c69c-d11e-4169-8b75-5f4f010ee5d7",
   "metadata": {},
   "outputs": [],
   "source": [
    "##CUSTOM DEFINED FUNCTIONS TO CLEAN THE TWEETS\n",
    "\n",
    "#Clean emojis from text\n",
    "def strip_emoji(text):\n",
    "    return re.sub(emoji.get_emoji_regexp(), r\"\", text) #remove emoji\n",
    "\n",
    "#Remove punctuations, links, stopwords, mentions and \\r\\n new line characters\n",
    "def strip_all_entities(text): \n",
    "    text = text.replace('\\r', '').replace('\\n', ' ').lower() #remove \\n and \\r and lowercase\n",
    "    text = re.sub(r\"(?:\\@|https?\\://)\\S+\", \"\", text) #remove links and mentions\n",
    "    text = re.sub(r'[^\\x00-\\x7f]',r'', text) #remove non utf8/ascii characters such as '\\x9a\\x91\\x97\\x9a\\x97'\n",
    "    banned_list= string.punctuation\n",
    "    table = str.maketrans('', '', banned_list)\n",
    "    text = text.translate(table)\n",
    "    text = [word for word in text.split() if word not in stop_words]\n",
    "    text = ' '.join(text)\n",
    "    text =' '.join(word for word in text.split() if len(word) < 14) # remove words longer than 14 characters\n",
    "    return text\n",
    "\n",
    "#remove contractions\n",
    "def decontract(text):\n",
    "    text = re.sub(r\"can\\'t\", \"can not\", text)\n",
    "    text = re.sub(r\"n\\'t\", \" not\", text)\n",
    "    text = re.sub(r\"\\'re\", \" are\", text)\n",
    "    text = re.sub(r\"\\'s\", \" is\", text)\n",
    "    text = re.sub(r\"\\'d\", \" would\", text)\n",
    "    text = re.sub(r\"\\'ll\", \" will\", text)\n",
    "    text = re.sub(r\"\\'t\", \" not\", text)\n",
    "    text = re.sub(r\"\\'ve\", \" have\", text)\n",
    "    text = re.sub(r\"\\'m\", \" am\", text)\n",
    "    return text\n",
    "\n",
    "#clean hashtags at the end of the sentence, and keep those in the middle of the sentence by removing just the \"#\" symbol\n",
    "def clean_hashtags(tweet):\n",
    "    new_tweet = \" \".join(word.strip() for word in re.split('#(?!(?:hashtag)\\b)[\\w-]+(?=(?:\\s+#[\\w-]+)*\\s*$)', tweet)) #remove last hashtags\n",
    "    new_tweet2 = \" \".join(word.strip() for word in re.split('#|_', new_tweet)) #remove hashtags symbol from words in the middle of the sentence\n",
    "    return new_tweet2\n",
    "\n",
    "#clean retweet symbol\n",
    "def clean_retweet(text):\n",
    "    text = text.replace(\"rt \", \"\")\n",
    "    return text\n",
    "\n",
    "#Filter special characters such as \"&\" and \"$\" present in some words\n",
    "def filter_chars(a):\n",
    "    sent = []\n",
    "    for word in a.split(' '):\n",
    "        if ('$' in word) | ('&' in word):\n",
    "            sent.append('')\n",
    "        else:\n",
    "            sent.append(word)\n",
    "    return ' '.join(sent)\n",
    "\n",
    "#Remove multiple sequential spaces\n",
    "def remove_mult_spaces(text):\n",
    "    return re.sub(\"\\s\\s+\" , \" \", text)\n",
    "\n",
    "#Stemming\n",
    "def stemmer(text):\n",
    "    tokenized = nltk.word_tokenize(text)\n",
    "    ps = PorterStemmer()\n",
    "    return ' '.join([ps.stem(words) for words in tokenized])\n",
    "\n",
    "#Lemmatization \n",
    "#NOTE:Stemming seems to work better for this dataset\n",
    "def lemmatize(text):\n",
    "    tokenized = nltk.word_tokenize(text)\n",
    "    lm = WordNetLemmatizer()\n",
    "    return ' '.join([lm.lemmatize(words) for words in tokenized])\n",
    "\n",
    "#Then we apply all the defined functions in the following order\n",
    "def deep_clean(text):\n",
    "    text = strip_emoji(text)\n",
    "    text = decontract(text)\n",
    "    text = strip_all_entities(text)\n",
    "    text = clean_hashtags(text)\n",
    "    text = clean_retweet(text)\n",
    "    text = filter_chars(text)\n",
    "    text = remove_mult_spaces(text)\n",
    "    text = stemmer(text)\n",
    "    return text"
   ]
  },
  {
   "cell_type": "code",
   "execution_count": 10,
   "id": "6555274f-dcb8-40f8-a0e9-076b5689791f",
   "metadata": {},
   "outputs": [
    {
     "name": "stderr",
     "output_type": "stream",
     "text": [
      "C:\\Users\\mamai\\AppData\\Local\\Temp/ipykernel_30228/4024386252.py:5: DeprecationWarning: 'emoji.get_emoji_regexp()' is deprecated and will be removed in version 2.0.0. If you want to remove emoji from a string, consider the method emoji.replace_emoji(str, replace='').\n",
      "To hide this warning, pin/downgrade the package to 'emoji~=1.6.3'\n",
      "  return re.sub(emoji.get_emoji_regexp(), r\"\", text) #remove emoji\n"
     ]
    }
   ],
   "source": [
    "texts_new = []\n",
    "for t in data.text:\n",
    "    texts_new.append(deep_clean(t))"
   ]
  },
  {
   "cell_type": "code",
   "execution_count": 11,
   "id": "af03e2df-60df-4aaf-abe2-6fe5bec85af5",
   "metadata": {
    "tags": []
   },
   "outputs": [],
   "source": [
    "data['text_cleaned'] = texts_new"
   ]
  },
  {
   "cell_type": "code",
   "execution_count": 12,
   "id": "48a6a616-2ebf-448e-af39-53a5f46b9c9d",
   "metadata": {},
   "outputs": [
    {
     "data": {
      "text/html": [
       "<div>\n",
       "<style scoped>\n",
       "    .dataframe tbody tr th:only-of-type {\n",
       "        vertical-align: middle;\n",
       "    }\n",
       "\n",
       "    .dataframe tbody tr th {\n",
       "        vertical-align: top;\n",
       "    }\n",
       "\n",
       "    .dataframe thead th {\n",
       "        text-align: right;\n",
       "    }\n",
       "</style>\n",
       "<table border=\"1\" class=\"dataframe\">\n",
       "  <thead>\n",
       "    <tr style=\"text-align: right;\">\n",
       "      <th></th>\n",
       "      <th>ID</th>\n",
       "      <th>text</th>\n",
       "      <th>sentiment</th>\n",
       "      <th>text_cleaned</th>\n",
       "    </tr>\n",
       "  </thead>\n",
       "  <tbody>\n",
       "    <tr>\n",
       "      <th>0</th>\n",
       "      <td>1629275091325583362</td>\n",
       "      <td>RT @PoliticalMoons2: These two recent articles discuss H5N1 \"bird flu\" in detail; the first delineating an accurate 8-month old projection…</td>\n",
       "      <td>0.18750</td>\n",
       "      <td>two recent articl discuss h5n1 bird flu detail first delin accur 8month old project</td>\n",
       "    </tr>\n",
       "    <tr>\n",
       "      <th>1</th>\n",
       "      <td>1629275093242351617</td>\n",
       "      <td>RT @hotpriestt: eat her pussy👀</td>\n",
       "      <td>0.00000</td>\n",
       "      <td>eat pussi</td>\n",
       "    </tr>\n",
       "    <tr>\n",
       "      <th>2</th>\n",
       "      <td>1629275094294884352</td>\n",
       "      <td>RT @hcasan0va: These people have lost their minds. Just bc there’s a global org with a perspective doesn’t mean we have to comply. This wil…</td>\n",
       "      <td>-0.15625</td>\n",
       "      <td>peopl lost mind bc there global org perspect doesnt mean compli wil</td>\n",
       "    </tr>\n",
       "    <tr>\n",
       "      <th>3</th>\n",
       "      <td>1629275094735372289</td>\n",
       "      <td>RT @VigilantFox: Shedding Concerns: \"It Looks Like the mRNA is Transferring from the Vaccinated to the Unvaccinated\"\\n\\nCould you actually ta…</td>\n",
       "      <td>0.00000</td>\n",
       "      <td>shed concern look like mrna transfer vaccin unvaccin could actual ta</td>\n",
       "    </tr>\n",
       "    <tr>\n",
       "      <th>4</th>\n",
       "      <td>1629275094445969408</td>\n",
       "      <td>@LeslynLewis @AirCanada Wear a mask then.</td>\n",
       "      <td>0.00000</td>\n",
       "      <td>wear mask</td>\n",
       "    </tr>\n",
       "  </tbody>\n",
       "</table>\n",
       "</div>"
      ],
      "text/plain": [
       "                    ID  \\\n",
       "0  1629275091325583362   \n",
       "1  1629275093242351617   \n",
       "2  1629275094294884352   \n",
       "3  1629275094735372289   \n",
       "4  1629275094445969408   \n",
       "\n",
       "                                                                                                                                             text  \\\n",
       "0     RT @PoliticalMoons2: These two recent articles discuss H5N1 \"bird flu\" in detail; the first delineating an accurate 8-month old projection…   \n",
       "1                                                                                                                  RT @hotpriestt: eat her pussy👀   \n",
       "2    RT @hcasan0va: These people have lost their minds. Just bc there’s a global org with a perspective doesn’t mean we have to comply. This wil…   \n",
       "3  RT @VigilantFox: Shedding Concerns: \"It Looks Like the mRNA is Transferring from the Vaccinated to the Unvaccinated\"\\n\\nCould you actually ta…   \n",
       "4                                                                                                       @LeslynLewis @AirCanada Wear a mask then.   \n",
       "\n",
       "   sentiment  \\\n",
       "0    0.18750   \n",
       "1    0.00000   \n",
       "2   -0.15625   \n",
       "3    0.00000   \n",
       "4    0.00000   \n",
       "\n",
       "                                                                          text_cleaned  \n",
       "0  two recent articl discuss h5n1 bird flu detail first delin accur 8month old project  \n",
       "1                                                                            eat pussi  \n",
       "2                  peopl lost mind bc there global org perspect doesnt mean compli wil  \n",
       "3                 shed concern look like mrna transfer vaccin unvaccin could actual ta  \n",
       "4                                                                            wear mask  "
      ]
     },
     "execution_count": 12,
     "metadata": {},
     "output_type": "execute_result"
    }
   ],
   "source": [
    "data.head()"
   ]
  },
  {
   "cell_type": "code",
   "execution_count": 13,
   "id": "6a8baa48-3dbd-49da-83fd-a84dc36d5c71",
   "metadata": {},
   "outputs": [],
   "source": [
    "# Text length analysis"
   ]
  },
  {
   "cell_type": "code",
   "execution_count": 14,
   "id": "f32cb4be-8a87-412c-bc75-6b36a7d8e53e",
   "metadata": {},
   "outputs": [],
   "source": []
  },
  {
   "cell_type": "code",
   "execution_count": 15,
   "id": "0177e57c-0829-4faf-bf84-a6dc8dba6597",
   "metadata": {},
   "outputs": [],
   "source": [
    "text_len = []\n",
    "for text in data.text_cleaned:\n",
    "    tweet_len = len(text.split())\n",
    "    text_len.append(tweet_len)"
   ]
  },
  {
   "cell_type": "code",
   "execution_count": 16,
   "id": "a98d74a9-f2ea-4f43-88fd-0b839e78422b",
   "metadata": {},
   "outputs": [],
   "source": [
    "data['text_len'] = text_len"
   ]
  },
  {
   "cell_type": "code",
   "execution_count": 17,
   "id": "52b6989f-3323-47a3-872e-249c7477fbf2",
   "metadata": {},
   "outputs": [
    {
     "data": {
      "text/html": [
       "<div>\n",
       "<style scoped>\n",
       "    .dataframe tbody tr th:only-of-type {\n",
       "        vertical-align: middle;\n",
       "    }\n",
       "\n",
       "    .dataframe tbody tr th {\n",
       "        vertical-align: top;\n",
       "    }\n",
       "\n",
       "    .dataframe thead th {\n",
       "        text-align: right;\n",
       "    }\n",
       "</style>\n",
       "<table border=\"1\" class=\"dataframe\">\n",
       "  <thead>\n",
       "    <tr style=\"text-align: right;\">\n",
       "      <th></th>\n",
       "      <th>ID</th>\n",
       "      <th>text</th>\n",
       "      <th>sentiment</th>\n",
       "      <th>text_cleaned</th>\n",
       "      <th>text_len</th>\n",
       "    </tr>\n",
       "  </thead>\n",
       "  <tbody>\n",
       "    <tr>\n",
       "      <th>0</th>\n",
       "      <td>1629275091325583362</td>\n",
       "      <td>RT @PoliticalMoons2: These two recent articles discuss H5N1 \"bird flu\" in detail; the first delineating an accurate 8-month old projection…</td>\n",
       "      <td>0.18750</td>\n",
       "      <td>two recent articl discuss h5n1 bird flu detail first delin accur 8month old project</td>\n",
       "      <td>14</td>\n",
       "    </tr>\n",
       "    <tr>\n",
       "      <th>1</th>\n",
       "      <td>1629275093242351617</td>\n",
       "      <td>RT @hotpriestt: eat her pussy👀</td>\n",
       "      <td>0.00000</td>\n",
       "      <td>eat pussi</td>\n",
       "      <td>2</td>\n",
       "    </tr>\n",
       "    <tr>\n",
       "      <th>2</th>\n",
       "      <td>1629275094294884352</td>\n",
       "      <td>RT @hcasan0va: These people have lost their minds. Just bc there’s a global org with a perspective doesn’t mean we have to comply. This wil…</td>\n",
       "      <td>-0.15625</td>\n",
       "      <td>peopl lost mind bc there global org perspect doesnt mean compli wil</td>\n",
       "      <td>12</td>\n",
       "    </tr>\n",
       "    <tr>\n",
       "      <th>3</th>\n",
       "      <td>1629275094735372289</td>\n",
       "      <td>RT @VigilantFox: Shedding Concerns: \"It Looks Like the mRNA is Transferring from the Vaccinated to the Unvaccinated\"\\n\\nCould you actually ta…</td>\n",
       "      <td>0.00000</td>\n",
       "      <td>shed concern look like mrna transfer vaccin unvaccin could actual ta</td>\n",
       "      <td>11</td>\n",
       "    </tr>\n",
       "    <tr>\n",
       "      <th>4</th>\n",
       "      <td>1629275094445969408</td>\n",
       "      <td>@LeslynLewis @AirCanada Wear a mask then.</td>\n",
       "      <td>0.00000</td>\n",
       "      <td>wear mask</td>\n",
       "      <td>2</td>\n",
       "    </tr>\n",
       "  </tbody>\n",
       "</table>\n",
       "</div>"
      ],
      "text/plain": [
       "                    ID  \\\n",
       "0  1629275091325583362   \n",
       "1  1629275093242351617   \n",
       "2  1629275094294884352   \n",
       "3  1629275094735372289   \n",
       "4  1629275094445969408   \n",
       "\n",
       "                                                                                                                                             text  \\\n",
       "0     RT @PoliticalMoons2: These two recent articles discuss H5N1 \"bird flu\" in detail; the first delineating an accurate 8-month old projection…   \n",
       "1                                                                                                                  RT @hotpriestt: eat her pussy👀   \n",
       "2    RT @hcasan0va: These people have lost their minds. Just bc there’s a global org with a perspective doesn’t mean we have to comply. This wil…   \n",
       "3  RT @VigilantFox: Shedding Concerns: \"It Looks Like the mRNA is Transferring from the Vaccinated to the Unvaccinated\"\\n\\nCould you actually ta…   \n",
       "4                                                                                                       @LeslynLewis @AirCanada Wear a mask then.   \n",
       "\n",
       "   sentiment  \\\n",
       "0    0.18750   \n",
       "1    0.00000   \n",
       "2   -0.15625   \n",
       "3    0.00000   \n",
       "4    0.00000   \n",
       "\n",
       "                                                                          text_cleaned  \\\n",
       "0  two recent articl discuss h5n1 bird flu detail first delin accur 8month old project   \n",
       "1                                                                            eat pussi   \n",
       "2                  peopl lost mind bc there global org perspect doesnt mean compli wil   \n",
       "3                 shed concern look like mrna transfer vaccin unvaccin could actual ta   \n",
       "4                                                                            wear mask   \n",
       "\n",
       "   text_len  \n",
       "0        14  \n",
       "1         2  \n",
       "2        12  \n",
       "3        11  \n",
       "4         2  "
      ]
     },
     "execution_count": 17,
     "metadata": {},
     "output_type": "execute_result"
    }
   ],
   "source": [
    "data.head()"
   ]
  },
  {
   "cell_type": "code",
   "execution_count": 18,
   "id": "aa2c1f93-72da-4408-b084-d80b860f21db",
   "metadata": {},
   "outputs": [
    {
     "data": {
      "image/png": "[encoded data removed]",
      "text/plain": [
       "<Figure size 504x360 with 1 Axes>"
      ]
     },
     "metadata": {
      "needs_background": "light"
     },
     "output_type": "display_data"
    }
   ],
   "source": [
    "plt.figure(figsize=(7,5))\n",
    "ax = sns.countplot(x='text_len', data=data[data['text_len']<10], palette='mako')\n",
    "plt.title('Count of tweets with less than 10 words', fontsize=20)\n",
    "plt.yticks([])\n",
    "ax.bar_label(ax.containers[0])\n",
    "plt.ylabel('count')\n",
    "plt.xlabel('')\n",
    "plt.show()"
   ]
  },
  {
   "cell_type": "code",
   "execution_count": 19,
   "id": "59714da4-27e6-44da-8a4a-bed84a5503ad",
   "metadata": {},
   "outputs": [],
   "source": [
    "data = data[data['text_len'] > 3]"
   ]
  },
  {
   "cell_type": "code",
   "execution_count": 20,
   "id": "46ea266e-5bd0-4513-9578-66d1bb686a7f",
   "metadata": {
    "tags": []
   },
   "outputs": [],
   "source": [
    "#data.sort_values(by=['text_len'], ascending=False)"
   ]
  },
  {
   "cell_type": "code",
   "execution_count": 21,
   "id": "6f940b57-df6d-4d55-a2d7-27503e3aa8a5",
   "metadata": {},
   "outputs": [
    {
     "data": {
      "image/png": "[encoded data removed]",
      "text/plain": [
       "<Figure size 1152x360 with 1 Axes>"
      ]
     },
     "metadata": {
      "needs_background": "light"
     },
     "output_type": "display_data"
    }
   ],
   "source": [
    "\n",
    "plt.figure(figsize=(16,5))\n",
    "ax = sns.countplot(x='text_len', data=data[(data['text_len']<=1000) & (data['text_len']>10)], palette='Blues_r')\n",
    "plt.title('Count of tweets with high number of words', fontsize=25)\n",
    "plt.yticks([])\n",
    "ax.bar_label(ax.containers[0])\n",
    "plt.ylabel('count')\n",
    "plt.xlabel('')\n",
    "plt.show()"
   ]
  },
  {
   "cell_type": "code",
   "execution_count": 22,
   "id": "036abe3b-c0cc-4c77-a49a-502792cbaca0",
   "metadata": {},
   "outputs": [
    {
     "data": {
      "text/plain": [
       "51"
      ]
     },
     "execution_count": 22,
     "metadata": {},
     "output_type": "execute_result"
    }
   ],
   "source": [
    "max_len = np.max(data['text_len'])\n",
    "max_len "
   ]
  },
  {
   "cell_type": "code",
   "execution_count": 23,
   "id": "b0bb986a-6bc7-4150-a2c8-5cab7675d093",
   "metadata": {},
   "outputs": [
    {
     "data": {
      "text/plain": [
       "111047"
      ]
     },
     "execution_count": 23,
     "metadata": {},
     "output_type": "execute_result"
    }
   ],
   "source": [
    "len(data)"
   ]
  },
  {
   "cell_type": "code",
   "execution_count": 24,
   "id": "4bff1759-c261-4ea6-bce6-a2d02a897c05",
   "metadata": {},
   "outputs": [],
   "source": [
    "data.to_csv('merged_len_and_cleaned_130000.csv')"
   ]
  },
  {
   "cell_type": "markdown",
   "id": "0156e8aa-2618-4d6a-915c-2ec8ce873b57",
   "metadata": {
    "jp-MarkdownHeadingCollapsed": true,
    "tags": []
   },
   "source": [
    "# Categoric labels\n",
    "\n",
    "Ha senso farne 3 perchè tanto di tweet molto positivi o molto negativi ne avrei pochi comunque"
   ]
  },
  {
   "cell_type": "code",
   "execution_count": 9,
   "id": "3af6e80e-9be6-492e-a3fb-ee04779d4752",
   "metadata": {},
   "outputs": [],
   "source": [
    "labels = []\n",
    "for sent in data.sentiment:\n",
    "    if sent == 0:\n",
    "        label = '0'\n",
    "    elif sent > 0 and sent <= 1:\n",
    "        label = '1'\n",
    "    elif sent >= -1 and sent <0:\n",
    "        label = '-1'\n",
    "    labels.append(label)"
   ]
  },
  {
   "cell_type": "code",
   "execution_count": 10,
   "id": "d45e3f15-5cfe-4b3c-bb7c-6b004940a11a",
   "metadata": {},
   "outputs": [
    {
     "data": {
      "text/html": [
       "<div>\n",
       "<style scoped>\n",
       "    .dataframe tbody tr th:only-of-type {\n",
       "        vertical-align: middle;\n",
       "    }\n",
       "\n",
       "    .dataframe tbody tr th {\n",
       "        vertical-align: top;\n",
       "    }\n",
       "\n",
       "    .dataframe thead th {\n",
       "        text-align: right;\n",
       "    }\n",
       "</style>\n",
       "<table border=\"1\" class=\"dataframe\">\n",
       "  <thead>\n",
       "    <tr style=\"text-align: right;\">\n",
       "      <th></th>\n",
       "      <th>ID</th>\n",
       "      <th>text</th>\n",
       "      <th>sentiment</th>\n",
       "      <th>text_cleaned</th>\n",
       "      <th>text_len</th>\n",
       "      <th>labels</th>\n",
       "    </tr>\n",
       "  </thead>\n",
       "  <tbody>\n",
       "    <tr>\n",
       "      <th>0</th>\n",
       "      <td>1629275091325583362</td>\n",
       "      <td>RT @PoliticalMoons2: These two recent articles...</td>\n",
       "      <td>0.18750</td>\n",
       "      <td>two recent articl discuss h5n1 bird flu detail...</td>\n",
       "      <td>14</td>\n",
       "      <td>1</td>\n",
       "    </tr>\n",
       "    <tr>\n",
       "      <th>2</th>\n",
       "      <td>1629275094294884352</td>\n",
       "      <td>RT @hcasan0va: These people have lost their mi...</td>\n",
       "      <td>-0.15625</td>\n",
       "      <td>peopl lost mind bc there global org perspect d...</td>\n",
       "      <td>12</td>\n",
       "      <td>-1</td>\n",
       "    </tr>\n",
       "    <tr>\n",
       "      <th>3</th>\n",
       "      <td>1629275094735372289</td>\n",
       "      <td>RT @VigilantFox: Shedding Concerns: \"It Looks ...</td>\n",
       "      <td>0.00000</td>\n",
       "      <td>shed concern look like mrna transfer vaccin un...</td>\n",
       "      <td>11</td>\n",
       "      <td>0</td>\n",
       "    </tr>\n",
       "    <tr>\n",
       "      <th>5</th>\n",
       "      <td>1629275098308902912</td>\n",
       "      <td>RT @VigilantFox: Ed Dowd: \"This Has Been a War...</td>\n",
       "      <td>0.10000</td>\n",
       "      <td>ed dowd war peopl die covid vaccin death earli...</td>\n",
       "      <td>12</td>\n",
       "      <td>1</td>\n",
       "    </tr>\n",
       "    <tr>\n",
       "      <th>6</th>\n",
       "      <td>1629275098451509250</td>\n",
       "      <td>RT @porta_janet: @VigilantFox @DrKStillwagon T...</td>\n",
       "      <td>0.00000</td>\n",
       "      <td>vaccin brought covid covid brought vaccin</td>\n",
       "      <td>6</td>\n",
       "      <td>0</td>\n",
       "    </tr>\n",
       "  </tbody>\n",
       "</table>\n",
       "</div>"
      ],
      "text/plain": [
       "                    ID                                               text  \\\n",
       "0  1629275091325583362  RT @PoliticalMoons2: These two recent articles...   \n",
       "2  1629275094294884352  RT @hcasan0va: These people have lost their mi...   \n",
       "3  1629275094735372289  RT @VigilantFox: Shedding Concerns: \"It Looks ...   \n",
       "5  1629275098308902912  RT @VigilantFox: Ed Dowd: \"This Has Been a War...   \n",
       "6  1629275098451509250  RT @porta_janet: @VigilantFox @DrKStillwagon T...   \n",
       "\n",
       "   sentiment                                       text_cleaned  text_len  \\\n",
       "0    0.18750  two recent articl discuss h5n1 bird flu detail...        14   \n",
       "2   -0.15625  peopl lost mind bc there global org perspect d...        12   \n",
       "3    0.00000  shed concern look like mrna transfer vaccin un...        11   \n",
       "5    0.10000  ed dowd war peopl die covid vaccin death earli...        12   \n",
       "6    0.00000          vaccin brought covid covid brought vaccin         6   \n",
       "\n",
       "  labels  \n",
       "0      1  \n",
       "2     -1  \n",
       "3      0  \n",
       "5      1  \n",
       "6      0  "
      ]
     },
     "execution_count": 10,
     "metadata": {},
     "output_type": "execute_result"
    }
   ],
   "source": [
    "data['labels'] = labels\n",
    "data.head()"
   ]
  },
  {
   "cell_type": "markdown",
   "id": "af9bd6d5-1c43-40d3-900f-359af4c12d67",
   "metadata": {
    "tags": []
   },
   "source": [
    "# Machine Learning models"
   ]
  },
  {
   "cell_type": "code",
   "execution_count": 2,
   "id": "d5036be6-1e64-4688-b0f1-ae623d0d3d91",
   "metadata": {},
   "outputs": [
    {
     "data": {
      "text/html": [
       "<div>\n",
       "<style scoped>\n",
       "    .dataframe tbody tr th:only-of-type {\n",
       "        vertical-align: middle;\n",
       "    }\n",
       "\n",
       "    .dataframe tbody tr th {\n",
       "        vertical-align: top;\n",
       "    }\n",
       "\n",
       "    .dataframe thead th {\n",
       "        text-align: right;\n",
       "    }\n",
       "</style>\n",
       "<table border=\"1\" class=\"dataframe\">\n",
       "  <thead>\n",
       "    <tr style=\"text-align: right;\">\n",
       "      <th></th>\n",
       "      <th>ID</th>\n",
       "      <th>text</th>\n",
       "      <th>sentiment</th>\n",
       "      <th>text_cleaned</th>\n",
       "      <th>text_len</th>\n",
       "      <th>labels</th>\n",
       "      <th>text_bert</th>\n",
       "      <th>text_len_bert</th>\n",
       "    </tr>\n",
       "  </thead>\n",
       "  <tbody>\n",
       "    <tr>\n",
       "      <th>0</th>\n",
       "      <td>1629275091325583362</td>\n",
       "      <td>RT @PoliticalMoons2: These two recent articles...</td>\n",
       "      <td>0.18750</td>\n",
       "      <td>two recent articl discuss h5n1 bird flu detail...</td>\n",
       "      <td>14</td>\n",
       "      <td>1</td>\n",
       "      <td>RT These two recent articles discuss H5N1 \"bir...</td>\n",
       "      <td>19</td>\n",
       "    </tr>\n",
       "    <tr>\n",
       "      <th>1</th>\n",
       "      <td>1629275094294884352</td>\n",
       "      <td>RT @hcasan0va: These people have lost their mi...</td>\n",
       "      <td>-0.15625</td>\n",
       "      <td>peopl lost mind bc there global org perspect d...</td>\n",
       "      <td>12</td>\n",
       "      <td>-1</td>\n",
       "      <td>RT These people have lost their minds. Just bc...</td>\n",
       "      <td>24</td>\n",
       "    </tr>\n",
       "    <tr>\n",
       "      <th>2</th>\n",
       "      <td>1629275094735372289</td>\n",
       "      <td>RT @VigilantFox: Shedding Concerns: \"It Looks ...</td>\n",
       "      <td>0.00000</td>\n",
       "      <td>shed concern look like mrna transfer vaccin un...</td>\n",
       "      <td>11</td>\n",
       "      <td>0</td>\n",
       "      <td>RT Shedding Concerns: \"It Looks Like the mRNA ...</td>\n",
       "      <td>20</td>\n",
       "    </tr>\n",
       "    <tr>\n",
       "      <th>3</th>\n",
       "      <td>1629275098308902912</td>\n",
       "      <td>RT @VigilantFox: Ed Dowd: \"This Has Been a War...</td>\n",
       "      <td>0.10000</td>\n",
       "      <td>ed dowd war peopl die covid vaccin death earli...</td>\n",
       "      <td>12</td>\n",
       "      <td>1</td>\n",
       "      <td>RT Ed Dowd: \"This Has Been a War\" \"The people ...</td>\n",
       "      <td>23</td>\n",
       "    </tr>\n",
       "    <tr>\n",
       "      <th>4</th>\n",
       "      <td>1629275098451509250</td>\n",
       "      <td>RT @porta_janet: @VigilantFox @DrKStillwagon T...</td>\n",
       "      <td>0.00000</td>\n",
       "      <td>vaccin brought covid covid brought vaccin</td>\n",
       "      <td>6</td>\n",
       "      <td>0</td>\n",
       "      <td>RT The vaccine was not brought in for Covid… C...</td>\n",
       "      <td>17</td>\n",
       "    </tr>\n",
       "  </tbody>\n",
       "</table>\n",
       "</div>"
      ],
      "text/plain": [
       "                    ID                                               text  \\\n",
       "0  1629275091325583362  RT @PoliticalMoons2: These two recent articles...   \n",
       "1  1629275094294884352  RT @hcasan0va: These people have lost their mi...   \n",
       "2  1629275094735372289  RT @VigilantFox: Shedding Concerns: \"It Looks ...   \n",
       "3  1629275098308902912  RT @VigilantFox: Ed Dowd: \"This Has Been a War...   \n",
       "4  1629275098451509250  RT @porta_janet: @VigilantFox @DrKStillwagon T...   \n",
       "\n",
       "   sentiment                                       text_cleaned  text_len  \\\n",
       "0    0.18750  two recent articl discuss h5n1 bird flu detail...        14   \n",
       "1   -0.15625  peopl lost mind bc there global org perspect d...        12   \n",
       "2    0.00000  shed concern look like mrna transfer vaccin un...        11   \n",
       "3    0.10000  ed dowd war peopl die covid vaccin death earli...        12   \n",
       "4    0.00000          vaccin brought covid covid brought vaccin         6   \n",
       "\n",
       "   labels                                          text_bert  text_len_bert  \n",
       "0       1  RT These two recent articles discuss H5N1 \"bir...             19  \n",
       "1      -1  RT These people have lost their minds. Just bc...             24  \n",
       "2       0  RT Shedding Concerns: \"It Looks Like the mRNA ...             20  \n",
       "3       1  RT Ed Dowd: \"This Has Been a War\" \"The people ...             23  \n",
       "4       0  RT The vaccine was not brought in for Covid… C...             17  "
      ]
     },
     "execution_count": 2,
     "metadata": {},
     "output_type": "execute_result"
    }
   ],
   "source": [
    "data = pd.read_csv('C:\\\\Users\\\\mamai\\\\Desktop\\\\Tesi\\\\Code\\\\BERT\\\\bert_tweets_130000.csv')\n",
    "data.head()"
   ]
  },
  {
   "cell_type": "code",
   "execution_count": 3,
   "id": "b6bfb950-3fe9-44a6-89ba-d696c0f2dc64",
   "metadata": {},
   "outputs": [
    {
     "data": {
      "text/plain": [
       "51"
      ]
     },
     "execution_count": 3,
     "metadata": {},
     "output_type": "execute_result"
    }
   ],
   "source": [
    "max_len=np.max(data.text_len)\n",
    "max_len"
   ]
  },
  {
   "cell_type": "code",
   "execution_count": 4,
   "id": "2f8d2aa5-e931-4e7c-97f6-182bda87feab",
   "metadata": {},
   "outputs": [],
   "source": [
    "X = data['text_cleaned']\n",
    "y = data['labels']"
   ]
  },
  {
   "cell_type": "code",
   "execution_count": 5,
   "id": "7f50e06f-a8ff-496a-976f-ed73b6bc8130",
   "metadata": {},
   "outputs": [],
   "source": [
    "X_train, X_test, y_train, y_test = train_test_split(X, y, test_size=0.2, stratify=y, random_state=seed_value)"
   ]
  },
  {
   "cell_type": "code",
   "execution_count": 6,
   "id": "88439a95-0a2f-428b-b40e-edc9db03f4ba",
   "metadata": {},
   "outputs": [],
   "source": [
    "X_train, X_valid, y_train, y_valid = train_test_split(X_train, y_train, test_size=0.2, stratify=y_train, random_state=seed_value)"
   ]
  },
  {
   "cell_type": "code",
   "execution_count": 7,
   "id": "d542976e-4c11-45ea-a693-017bed12399d",
   "metadata": {},
   "outputs": [
    {
     "data": {
      "text/plain": [
       "353      child labor back doubt gain accept way around ...\n",
       "55216    like use realli gaf ppl thought ugli kinda sto...\n",
       "53129            guess could vaccin next go sure seem care\n",
       "15324    social media user fals claim maker covid19 vac...\n",
       "53862                          covid thing care bit anymor\n",
       "Name: text_cleaned, dtype: object"
      ]
     },
     "execution_count": 7,
     "metadata": {},
     "output_type": "execute_result"
    }
   ],
   "source": [
    "X_train.head()"
   ]
  },
  {
   "cell_type": "code",
   "execution_count": 8,
   "id": "fda00432-16b8-451a-94e5-6a59f244068c",
   "metadata": {},
   "outputs": [],
   "source": [
    "clf = CountVectorizer()\n",
    "X_train_cv =  clf.fit_transform(X_train)\n",
    "X_test_cv = clf.transform(X_test)"
   ]
  },
  {
   "cell_type": "code",
   "execution_count": 9,
   "id": "fbba358a-3a49-49d2-9349-48f9a37abe36",
   "metadata": {},
   "outputs": [],
   "source": [
    "#sparse matrix, ogni colonna è una parola e ogni riga un tweet, nei valuea abbiamo quante volte compare la parola nl tweet"
   ]
  },
  {
   "cell_type": "code",
   "execution_count": 10,
   "id": "2e262c1a-1f4f-448f-8961-e0c4507d7cfb",
   "metadata": {},
   "outputs": [],
   "source": [
    "tf_transformer = TfidfTransformer(use_idf=True).fit(X_train_cv)\n",
    "X_train_tf = tf_transformer.transform(X_train_cv)\n",
    "X_test_tf = tf_transformer.transform(X_test_cv)"
   ]
  },
  {
   "cell_type": "code",
   "execution_count": 11,
   "id": "1f423eed-fac1-427a-abc7-72e26e607edf",
   "metadata": {},
   "outputs": [],
   "source": [
    "# sparse matrix (dovrebbe essere riaggiustata con la frequenza delle parole o boh)"
   ]
  },
  {
   "cell_type": "markdown",
   "id": "a885a1a0-30c3-46a8-98bc-d7bd1d626a1b",
   "metadata": {
    "tags": []
   },
   "source": [
    "# Naive Bayes"
   ]
  },
  {
   "cell_type": "code",
   "execution_count": 12,
   "id": "7b11faed-aef0-4e75-b71d-fdac29cbf47f",
   "metadata": {},
   "outputs": [
    {
     "data": {
      "text/html": [
       "<style>#sk-container-id-1 {color: black;background-color: white;}#sk-container-id-1 pre{padding: 0;}#sk-container-id-1 div.sk-toggleable {background-color: white;}#sk-container-id-1 label.sk-toggleable__label {cursor: pointer;display: block;width: 100%;margin-bottom: 0;padding: 0.3em;box-sizing: border-box;text-align: center;}#sk-container-id-1 label.sk-toggleable__label-arrow:before {content: \"▸\";float: left;margin-right: 0.25em;color: #696969;}#sk-container-id-1 label.sk-toggleable__label-arrow:hover:before {color: black;}#sk-container-id-1 div.sk-estimator:hover label.sk-toggleable__label-arrow:before {color: black;}#sk-container-id-1 div.sk-toggleable__content {max-height: 0;max-width: 0;overflow: hidden;text-align: left;background-color: #f0f8ff;}#sk-container-id-1 div.sk-toggleable__content pre {margin: 0.2em;color: black;border-radius: 0.25em;background-color: #f0f8ff;}#sk-container-id-1 input.sk-toggleable__control:checked~div.sk-toggleable__content {max-height: 200px;max-width: 100%;overflow: auto;}#sk-container-id-1 input.sk-toggleable__control:checked~label.sk-toggleable__label-arrow:before {content: \"▾\";}#sk-container-id-1 div.sk-estimator input.sk-toggleable__control:checked~label.sk-toggleable__label {background-color: #d4ebff;}#sk-container-id-1 div.sk-label input.sk-toggleable__control:checked~label.sk-toggleable__label {background-color: #d4ebff;}#sk-container-id-1 input.sk-hidden--visually {border: 0;clip: rect(1px 1px 1px 1px);clip: rect(1px, 1px, 1px, 1px);height: 1px;margin: -1px;overflow: hidden;padding: 0;position: absolute;width: 1px;}#sk-container-id-1 div.sk-estimator {font-family: monospace;background-color: #f0f8ff;border: 1px dotted black;border-radius: 0.25em;box-sizing: border-box;margin-bottom: 0.5em;}#sk-container-id-1 div.sk-estimator:hover {background-color: #d4ebff;}#sk-container-id-1 div.sk-parallel-item::after {content: \"\";width: 100%;border-bottom: 1px solid gray;flex-grow: 1;}#sk-container-id-1 div.sk-label:hover label.sk-toggleable__label {background-color: #d4ebff;}#sk-container-id-1 div.sk-serial::before {content: \"\";position: absolute;border-left: 1px solid gray;box-sizing: border-box;top: 0;bottom: 0;left: 50%;z-index: 0;}#sk-container-id-1 div.sk-serial {display: flex;flex-direction: column;align-items: center;background-color: white;padding-right: 0.2em;padding-left: 0.2em;position: relative;}#sk-container-id-1 div.sk-item {position: relative;z-index: 1;}#sk-container-id-1 div.sk-parallel {display: flex;align-items: stretch;justify-content: center;background-color: white;position: relative;}#sk-container-id-1 div.sk-item::before, #sk-container-id-1 div.sk-parallel-item::before {content: \"\";position: absolute;border-left: 1px solid gray;box-sizing: border-box;top: 0;bottom: 0;left: 50%;z-index: -1;}#sk-container-id-1 div.sk-parallel-item {display: flex;flex-direction: column;z-index: 1;position: relative;background-color: white;}#sk-container-id-1 div.sk-parallel-item:first-child::after {align-self: flex-end;width: 50%;}#sk-container-id-1 div.sk-parallel-item:last-child::after {align-self: flex-start;width: 50%;}#sk-container-id-1 div.sk-parallel-item:only-child::after {width: 0;}#sk-container-id-1 div.sk-dashed-wrapped {border: 1px dashed gray;margin: 0 0.4em 0.5em 0.4em;box-sizing: border-box;padding-bottom: 0.4em;background-color: white;}#sk-container-id-1 div.sk-label label {font-family: monospace;font-weight: bold;display: inline-block;line-height: 1.2em;}#sk-container-id-1 div.sk-label-container {text-align: center;}#sk-container-id-1 div.sk-container {/* jupyter's `normalize.less` sets `[hidden] { display: none; }` but bootstrap.min.css set `[hidden] { display: none !important; }` so we also need the `!important` here to be able to override the default hidden behavior on the sphinx rendered scikit-learn.org. See: https://github.com/scikit-learn/scikit-learn/issues/21755 */display: inline-block !important;position: relative;}#sk-container-id-1 div.sk-text-repr-fallback {display: none;}</style><div id=\"sk-container-id-1\" class=\"sk-top-container\"><div class=\"sk-text-repr-fallback\"><pre>MultinomialNB()</pre><b>In a Jupyter environment, please rerun this cell to show the HTML representation or trust the notebook. <br />On GitHub, the HTML representation is unable to render, please try loading this page with nbviewer.org.</b></div><div class=\"sk-container\" hidden><div class=\"sk-item\"><div class=\"sk-estimator sk-toggleable\"><input class=\"sk-toggleable__control sk-hidden--visually\" id=\"sk-estimator-id-1\" type=\"checkbox\" checked><label for=\"sk-estimator-id-1\" class=\"sk-toggleable__label sk-toggleable__label-arrow\">MultinomialNB</label><div class=\"sk-toggleable__content\"><pre>MultinomialNB()</pre></div></div></div></div></div>"
      ],
      "text/plain": [
       "MultinomialNB()"
      ]
     },
     "execution_count": 12,
     "metadata": {},
     "output_type": "execute_result"
    }
   ],
   "source": [
    "nb_clf = MultinomialNB()\n",
    "nb_clf.fit(X_train_tf, y_train)"
   ]
  },
  {
   "cell_type": "code",
   "execution_count": 13,
   "id": "1045d205-4704-44fd-a751-1c49486871c7",
   "metadata": {},
   "outputs": [
    {
     "data": {
      "text/plain": [
       "array([ 1,  0, -1, ...,  1,  1,  1], dtype=int64)"
      ]
     },
     "execution_count": 13,
     "metadata": {},
     "output_type": "execute_result"
    }
   ],
   "source": [
    "nb_pred = nb_clf.predict(X_test_tf)\n",
    "nb_pred"
   ]
  },
  {
   "cell_type": "code",
   "execution_count": 14,
   "id": "ceab485a-c23f-4a9f-af89-f88b087269ef",
   "metadata": {},
   "outputs": [
    {
     "name": "stdout",
     "output_type": "stream",
     "text": [
      "Classification Report for Naive Bayes:\n",
      "               precision    recall  f1-score   support\n",
      "\n",
      "          -1       0.90      0.73      0.81      6447\n",
      "           0       0.90      0.76      0.82      7206\n",
      "           1       0.74      0.94      0.83      8557\n",
      "\n",
      "    accuracy                           0.82     22210\n",
      "   macro avg       0.85      0.81      0.82     22210\n",
      "weighted avg       0.84      0.82      0.82     22210\n",
      "\n"
     ]
    }
   ],
   "source": [
    "from sklearn.metrics import classification_report, confusion_matrix\n",
    "print('Classification Report for Naive Bayes:\\n',classification_report(y_test, nb_pred))"
   ]
  },
  {
   "cell_type": "code",
   "execution_count": 15,
   "id": "980a5bb7-ddde-4f06-9108-a72b5fd8ed56",
   "metadata": {},
   "outputs": [
    {
     "name": "stdout",
     "output_type": "stream",
     "text": [
      "[[4723  329 1395]\n",
      " [ 294 5489 1423]\n",
      " [ 218  313 8026]]\n"
     ]
    }
   ],
   "source": [
    "conf = confusion_matrix(y_test,nb_pred)\n",
    "print(conf)"
   ]
  },
  {
   "cell_type": "code",
   "execution_count": 16,
   "id": "5393ddb1-cdc6-4216-943c-bb1378042da1",
   "metadata": {},
   "outputs": [],
   "source": [
    "conf_df = pd.DataFrame(data=conf, columns=['Actual Negative:-1', 'Actual Neutral:0', 'Actual Positive:1'], \n",
    "                                 index=['Predict Negative:-1', 'Predict Neutral:0', 'Predict Positive:1'])"
   ]
  },
  {
   "cell_type": "code",
   "execution_count": 17,
   "id": "f3f28973-5bd3-47d2-a084-1fe62cbeb788",
   "metadata": {},
   "outputs": [
    {
     "data": {
      "text/plain": [
       "<AxesSubplot:>"
      ]
     },
     "execution_count": 17,
     "metadata": {},
     "output_type": "execute_result"
    },
    {
     "data": {
      "image/png": "[encoded data removed]",
      "text/plain": [
       "<Figure size 432x288 with 2 Axes>"
      ]
     },
     "metadata": {
      "needs_background": "light"
     },
     "output_type": "display_data"
    }
   ],
   "source": [
    "sns.heatmap(conf_df, annot = True, fmt = '', cmap = 'Blues')"
   ]
  },
  {
   "cell_type": "code",
   "execution_count": 18,
   "id": "9289d1e3-7dfc-481e-961c-399246844705",
   "metadata": {
    "tags": []
   },
   "outputs": [],
   "source": [
    "#y_test"
   ]
  },
  {
   "cell_type": "code",
   "execution_count": 19,
   "id": "f94747eb-6935-4f9d-9a83-2f8e682e1c1f",
   "metadata": {},
   "outputs": [
    {
     "name": "stdout",
     "output_type": "stream",
     "text": [
      "Counter({1: 8557, 0: 7206, -1: 6447})\n"
     ]
    }
   ],
   "source": [
    "import collections\n",
    "c = collections.Counter(y_test)\n",
    "print(c)"
   ]
  },
  {
   "cell_type": "markdown",
   "id": "6c158015-cfd0-403c-9a75-55383f89b0c3",
   "metadata": {
    "tags": []
   },
   "source": [
    "# Logistic regression"
   ]
  },
  {
   "cell_type": "code",
   "execution_count": 20,
   "id": "a4301eb9-93c8-49fb-a569-46b7ca63cd01",
   "metadata": {},
   "outputs": [],
   "source": [
    "#Initial Bag of Words\n",
    "bow_counts = CountVectorizer(\n",
    "    tokenizer=word_tokenize\n",
    ")\n",
    "X_train_bow =  bow_counts.fit_transform(X_train)\n",
    "X_test_bow = bow_counts.transform(X_test)"
   ]
  },
  {
   "cell_type": "code",
   "execution_count": 21,
   "id": "39a34a2f-6527-4ae4-8dd9-84b8f5c635b9",
   "metadata": {},
   "outputs": [],
   "source": [
    "y_train_bow = y_train\n",
    "y_test_bow = y_test"
   ]
  },
  {
   "cell_type": "code",
   "execution_count": 22,
   "id": "c349dbeb-52f9-4b80-bfa0-5e7aafc491c9",
   "metadata": {},
   "outputs": [
    {
     "name": "stdout",
     "output_type": "stream",
     "text": [
      "Accuracy:  92.96713192255741\n"
     ]
    }
   ],
   "source": [
    "# Logistic regression\n",
    "model1 = LogisticRegression(C=1, solver=\"liblinear\",max_iter=200)\n",
    "model1.fit(X_train_bow, y_train_bow)\n",
    "# Prediction\n",
    "test_pred = model1.predict(X_test_bow)\n",
    "print(\"Accuracy: \", accuracy_score(y_test_bow, test_pred) * 100)"
   ]
  },
  {
   "cell_type": "code",
   "execution_count": 23,
   "id": "d84178d1-dc84-4eb1-b9f7-b2f248bedb33",
   "metadata": {},
   "outputs": [
    {
     "name": "stdout",
     "output_type": "stream",
     "text": [
      "Classification Report for Logistic Regression:\n",
      "               precision    recall  f1-score   support\n",
      "\n",
      "          -1       0.93      0.90      0.92      6447\n",
      "           0       0.92      0.96      0.94      7206\n",
      "           1       0.94      0.93      0.93      8557\n",
      "\n",
      "    accuracy                           0.93     22210\n",
      "   macro avg       0.93      0.93      0.93     22210\n",
      "weighted avg       0.93      0.93      0.93     22210\n",
      "\n"
     ]
    }
   ],
   "source": [
    "print('Classification Report for Logistic Regression:\\n',classification_report(y_test, test_pred))"
   ]
  },
  {
   "cell_type": "code",
   "execution_count": 24,
   "id": "59a7cf75-7f22-4ad7-bd21-d2a307686a13",
   "metadata": {},
   "outputs": [
    {
     "name": "stdout",
     "output_type": "stream",
     "text": [
      "[[5817  304  326]\n",
      " [ 143 6883  180]\n",
      " [ 306  303 7948]]\n"
     ]
    }
   ],
   "source": [
    "conf_log = confusion_matrix(y_test,test_pred)\n",
    "print(conf_log)"
   ]
  },
  {
   "cell_type": "code",
   "execution_count": 25,
   "id": "dd378af4-e17a-4a5b-bfb4-5d484fe85f60",
   "metadata": {},
   "outputs": [],
   "source": [
    "conf_df_log = pd.DataFrame(data=conf_log, columns=['Actual Negative:-1', 'Actual Neutral:0', 'Actual Positive:1'], \n",
    "                                 index=['Predict Negative:-1', 'Predict Neutral:0', 'Predict Positive:1'])"
   ]
  },
  {
   "cell_type": "code",
   "execution_count": 26,
   "id": "a4c59ad9-73ec-4855-9c9f-252406e93788",
   "metadata": {},
   "outputs": [
    {
     "data": {
      "text/plain": [
       "<AxesSubplot:>"
      ]
     },
     "execution_count": 26,
     "metadata": {},
     "output_type": "execute_result"
    },
    {
     "data": {
      "image/png": "[encoded data removed]",
      "text/plain": [
       "<Figure size 432x288 with 2 Axes>"
      ]
     },
     "metadata": {
      "needs_background": "light"
     },
     "output_type": "display_data"
    }
   ],
   "source": [
    "sns.heatmap(conf_df_log, annot = True, fmt = '', cmap = 'Blues')"
   ]
  },
  {
   "cell_type": "markdown",
   "id": "a4b96490-8496-4c3e-81f8-8c8e95b24631",
   "metadata": {
    "tags": []
   },
   "source": [
    "# Random Forest"
   ]
  },
  {
   "cell_type": "code",
   "execution_count": 27,
   "id": "7f6ec9fa-8e32-49d0-bdff-f118da08e45a",
   "metadata": {},
   "outputs": [
    {
     "data": {
      "text/html": [
       "<style>#sk-container-id-2 {color: black;background-color: white;}#sk-container-id-2 pre{padding: 0;}#sk-container-id-2 div.sk-toggleable {background-color: white;}#sk-container-id-2 label.sk-toggleable__label {cursor: pointer;display: block;width: 100%;margin-bottom: 0;padding: 0.3em;box-sizing: border-box;text-align: center;}#sk-container-id-2 label.sk-toggleable__label-arrow:before {content: \"▸\";float: left;margin-right: 0.25em;color: #696969;}#sk-container-id-2 label.sk-toggleable__label-arrow:hover:before {color: black;}#sk-container-id-2 div.sk-estimator:hover label.sk-toggleable__label-arrow:before {color: black;}#sk-container-id-2 div.sk-toggleable__content {max-height: 0;max-width: 0;overflow: hidden;text-align: left;background-color: #f0f8ff;}#sk-container-id-2 div.sk-toggleable__content pre {margin: 0.2em;color: black;border-radius: 0.25em;background-color: #f0f8ff;}#sk-container-id-2 input.sk-toggleable__control:checked~div.sk-toggleable__content {max-height: 200px;max-width: 100%;overflow: auto;}#sk-container-id-2 input.sk-toggleable__control:checked~label.sk-toggleable__label-arrow:before {content: \"▾\";}#sk-container-id-2 div.sk-estimator input.sk-toggleable__control:checked~label.sk-toggleable__label {background-color: #d4ebff;}#sk-container-id-2 div.sk-label input.sk-toggleable__control:checked~label.sk-toggleable__label {background-color: #d4ebff;}#sk-container-id-2 input.sk-hidden--visually {border: 0;clip: rect(1px 1px 1px 1px);clip: rect(1px, 1px, 1px, 1px);height: 1px;margin: -1px;overflow: hidden;padding: 0;position: absolute;width: 1px;}#sk-container-id-2 div.sk-estimator {font-family: monospace;background-color: #f0f8ff;border: 1px dotted black;border-radius: 0.25em;box-sizing: border-box;margin-bottom: 0.5em;}#sk-container-id-2 div.sk-estimator:hover {background-color: #d4ebff;}#sk-container-id-2 div.sk-parallel-item::after {content: \"\";width: 100%;border-bottom: 1px solid gray;flex-grow: 1;}#sk-container-id-2 div.sk-label:hover label.sk-toggleable__label {background-color: #d4ebff;}#sk-container-id-2 div.sk-serial::before {content: \"\";position: absolute;border-left: 1px solid gray;box-sizing: border-box;top: 0;bottom: 0;left: 50%;z-index: 0;}#sk-container-id-2 div.sk-serial {display: flex;flex-direction: column;align-items: center;background-color: white;padding-right: 0.2em;padding-left: 0.2em;position: relative;}#sk-container-id-2 div.sk-item {position: relative;z-index: 1;}#sk-container-id-2 div.sk-parallel {display: flex;align-items: stretch;justify-content: center;background-color: white;position: relative;}#sk-container-id-2 div.sk-item::before, #sk-container-id-2 div.sk-parallel-item::before {content: \"\";position: absolute;border-left: 1px solid gray;box-sizing: border-box;top: 0;bottom: 0;left: 50%;z-index: -1;}#sk-container-id-2 div.sk-parallel-item {display: flex;flex-direction: column;z-index: 1;position: relative;background-color: white;}#sk-container-id-2 div.sk-parallel-item:first-child::after {align-self: flex-end;width: 50%;}#sk-container-id-2 div.sk-parallel-item:last-child::after {align-self: flex-start;width: 50%;}#sk-container-id-2 div.sk-parallel-item:only-child::after {width: 0;}#sk-container-id-2 div.sk-dashed-wrapped {border: 1px dashed gray;margin: 0 0.4em 0.5em 0.4em;box-sizing: border-box;padding-bottom: 0.4em;background-color: white;}#sk-container-id-2 div.sk-label label {font-family: monospace;font-weight: bold;display: inline-block;line-height: 1.2em;}#sk-container-id-2 div.sk-label-container {text-align: center;}#sk-container-id-2 div.sk-container {/* jupyter's `normalize.less` sets `[hidden] { display: none; }` but bootstrap.min.css set `[hidden] { display: none !important; }` so we also need the `!important` here to be able to override the default hidden behavior on the sphinx rendered scikit-learn.org. See: https://github.com/scikit-learn/scikit-learn/issues/21755 */display: inline-block !important;position: relative;}#sk-container-id-2 div.sk-text-repr-fallback {display: none;}</style><div id=\"sk-container-id-2\" class=\"sk-top-container\"><div class=\"sk-text-repr-fallback\"><pre>RandomForestClassifier()</pre><b>In a Jupyter environment, please rerun this cell to show the HTML representation or trust the notebook. <br />On GitHub, the HTML representation is unable to render, please try loading this page with nbviewer.org.</b></div><div class=\"sk-container\" hidden><div class=\"sk-item\"><div class=\"sk-estimator sk-toggleable\"><input class=\"sk-toggleable__control sk-hidden--visually\" id=\"sk-estimator-id-2\" type=\"checkbox\" checked><label for=\"sk-estimator-id-2\" class=\"sk-toggleable__label sk-toggleable__label-arrow\">RandomForestClassifier</label><div class=\"sk-toggleable__content\"><pre>RandomForestClassifier()</pre></div></div></div></div></div>"
      ],
      "text/plain": [
       "RandomForestClassifier()"
      ]
     },
     "execution_count": 27,
     "metadata": {},
     "output_type": "execute_result"
    }
   ],
   "source": [
    "rf_clf = RandomForestClassifier()\n",
    "rf_clf.fit(X_train_tf,y_train)"
   ]
  },
  {
   "cell_type": "code",
   "execution_count": 28,
   "id": "951a1866-ae3a-4803-9342-a9e2e48b550f",
   "metadata": {},
   "outputs": [
    {
     "data": {
      "text/plain": [
       "array([ 0,  0, -1, ...,  1,  1,  0], dtype=int64)"
      ]
     },
     "execution_count": 28,
     "metadata": {},
     "output_type": "execute_result"
    }
   ],
   "source": [
    "rf_pred = rf_clf.predict(X_test_tf)\n",
    "rf_pred"
   ]
  },
  {
   "cell_type": "code",
   "execution_count": 29,
   "id": "5eacf15f-f405-491b-ab32-2a0408ea107c",
   "metadata": {},
   "outputs": [
    {
     "name": "stdout",
     "output_type": "stream",
     "text": [
      "Classification Report for Random Forest:\n",
      "               precision    recall  f1-score   support\n",
      "\n",
      "          -1       0.96      0.87      0.91      6447\n",
      "           0       0.90      0.97      0.94      7206\n",
      "           1       0.93      0.93      0.93      8557\n",
      "\n",
      "    accuracy                           0.93     22210\n",
      "   macro avg       0.93      0.93      0.93     22210\n",
      "weighted avg       0.93      0.93      0.93     22210\n",
      "\n"
     ]
    }
   ],
   "source": [
    "print('Classification Report for Random Forest:\\n',classification_report(y_test, rf_pred))"
   ]
  },
  {
   "cell_type": "code",
   "execution_count": 30,
   "id": "1241250f-3fe7-4b81-9a88-e8346070d771",
   "metadata": {},
   "outputs": [
    {
     "name": "stdout",
     "output_type": "stream",
     "text": [
      "[[5611  362  474]\n",
      " [  46 7009  151]\n",
      " [ 190  378 7989]]\n"
     ]
    }
   ],
   "source": [
    "conf_rf = confusion_matrix(y_test,rf_pred)\n",
    "print(conf_rf)"
   ]
  },
  {
   "cell_type": "code",
   "execution_count": 31,
   "id": "29e091b1-8a48-4e48-85ef-399c568bef1d",
   "metadata": {},
   "outputs": [],
   "source": [
    "conf_df_rf = pd.DataFrame(data=conf_rf, columns=['Actual Negative:-1', 'Actual Neutral:0', 'Actual Positive:1'], \n",
    "                                 index=['Predict Negative:-1', 'Predict Neutral:0', 'Predict Positive:1'])"
   ]
  },
  {
   "cell_type": "code",
   "execution_count": 32,
   "id": "107717c0-9909-4e74-8752-2c96c5eec431",
   "metadata": {},
   "outputs": [
    {
     "data": {
      "text/plain": [
       "<AxesSubplot:>"
      ]
     },
     "execution_count": 32,
     "metadata": {},
     "output_type": "execute_result"
    },
    {
     "data": {
      "image/png": "[encoded data removed]",
      "text/plain": [
       "<Figure size 432x288 with 2 Axes>"
      ]
     },
     "metadata": {
      "needs_background": "light"
     },
     "output_type": "display_data"
    }
   ],
   "source": [
    "sns.heatmap(conf_df_rf, annot = True, fmt = '', cmap = 'Blues')"
   ]
  },
  {
   "cell_type": "markdown",
   "id": "a69d8ede-4bf2-45f9-978d-c7ae351d4588",
   "metadata": {
    "tags": []
   },
   "source": [
    "# SVM"
   ]
  },
  {
   "cell_type": "code",
   "execution_count": 33,
   "id": "055ef2ee-0925-4904-bf19-0588e13c870e",
   "metadata": {},
   "outputs": [],
   "source": [
    "#long time to train!"
   ]
  },
  {
   "cell_type": "code",
   "execution_count": 34,
   "id": "d810aab3-d4ef-44d9-8342-70b5ed15f050",
   "metadata": {},
   "outputs": [
    {
     "data": {
      "text/html": [
       "<style>#sk-container-id-3 {color: black;background-color: white;}#sk-container-id-3 pre{padding: 0;}#sk-container-id-3 div.sk-toggleable {background-color: white;}#sk-container-id-3 label.sk-toggleable__label {cursor: pointer;display: block;width: 100%;margin-bottom: 0;padding: 0.3em;box-sizing: border-box;text-align: center;}#sk-container-id-3 label.sk-toggleable__label-arrow:before {content: \"▸\";float: left;margin-right: 0.25em;color: #696969;}#sk-container-id-3 label.sk-toggleable__label-arrow:hover:before {color: black;}#sk-container-id-3 div.sk-estimator:hover label.sk-toggleable__label-arrow:before {color: black;}#sk-container-id-3 div.sk-toggleable__content {max-height: 0;max-width: 0;overflow: hidden;text-align: left;background-color: #f0f8ff;}#sk-container-id-3 div.sk-toggleable__content pre {margin: 0.2em;color: black;border-radius: 0.25em;background-color: #f0f8ff;}#sk-container-id-3 input.sk-toggleable__control:checked~div.sk-toggleable__content {max-height: 200px;max-width: 100%;overflow: auto;}#sk-container-id-3 input.sk-toggleable__control:checked~label.sk-toggleable__label-arrow:before {content: \"▾\";}#sk-container-id-3 div.sk-estimator input.sk-toggleable__control:checked~label.sk-toggleable__label {background-color: #d4ebff;}#sk-container-id-3 div.sk-label input.sk-toggleable__control:checked~label.sk-toggleable__label {background-color: #d4ebff;}#sk-container-id-3 input.sk-hidden--visually {border: 0;clip: rect(1px 1px 1px 1px);clip: rect(1px, 1px, 1px, 1px);height: 1px;margin: -1px;overflow: hidden;padding: 0;position: absolute;width: 1px;}#sk-container-id-3 div.sk-estimator {font-family: monospace;background-color: #f0f8ff;border: 1px dotted black;border-radius: 0.25em;box-sizing: border-box;margin-bottom: 0.5em;}#sk-container-id-3 div.sk-estimator:hover {background-color: #d4ebff;}#sk-container-id-3 div.sk-parallel-item::after {content: \"\";width: 100%;border-bottom: 1px solid gray;flex-grow: 1;}#sk-container-id-3 div.sk-label:hover label.sk-toggleable__label {background-color: #d4ebff;}#sk-container-id-3 div.sk-serial::before {content: \"\";position: absolute;border-left: 1px solid gray;box-sizing: border-box;top: 0;bottom: 0;left: 50%;z-index: 0;}#sk-container-id-3 div.sk-serial {display: flex;flex-direction: column;align-items: center;background-color: white;padding-right: 0.2em;padding-left: 0.2em;position: relative;}#sk-container-id-3 div.sk-item {position: relative;z-index: 1;}#sk-container-id-3 div.sk-parallel {display: flex;align-items: stretch;justify-content: center;background-color: white;position: relative;}#sk-container-id-3 div.sk-item::before, #sk-container-id-3 div.sk-parallel-item::before {content: \"\";position: absolute;border-left: 1px solid gray;box-sizing: border-box;top: 0;bottom: 0;left: 50%;z-index: -1;}#sk-container-id-3 div.sk-parallel-item {display: flex;flex-direction: column;z-index: 1;position: relative;background-color: white;}#sk-container-id-3 div.sk-parallel-item:first-child::after {align-self: flex-end;width: 50%;}#sk-container-id-3 div.sk-parallel-item:last-child::after {align-self: flex-start;width: 50%;}#sk-container-id-3 div.sk-parallel-item:only-child::after {width: 0;}#sk-container-id-3 div.sk-dashed-wrapped {border: 1px dashed gray;margin: 0 0.4em 0.5em 0.4em;box-sizing: border-box;padding-bottom: 0.4em;background-color: white;}#sk-container-id-3 div.sk-label label {font-family: monospace;font-weight: bold;display: inline-block;line-height: 1.2em;}#sk-container-id-3 div.sk-label-container {text-align: center;}#sk-container-id-3 div.sk-container {/* jupyter's `normalize.less` sets `[hidden] { display: none; }` but bootstrap.min.css set `[hidden] { display: none !important; }` so we also need the `!important` here to be able to override the default hidden behavior on the sphinx rendered scikit-learn.org. See: https://github.com/scikit-learn/scikit-learn/issues/21755 */display: inline-block !important;position: relative;}#sk-container-id-3 div.sk-text-repr-fallback {display: none;}</style><div id=\"sk-container-id-3\" class=\"sk-top-container\"><div class=\"sk-text-repr-fallback\"><pre>SVC()</pre><b>In a Jupyter environment, please rerun this cell to show the HTML representation or trust the notebook. <br />On GitHub, the HTML representation is unable to render, please try loading this page with nbviewer.org.</b></div><div class=\"sk-container\" hidden><div class=\"sk-item\"><div class=\"sk-estimator sk-toggleable\"><input class=\"sk-toggleable__control sk-hidden--visually\" id=\"sk-estimator-id-3\" type=\"checkbox\" checked><label for=\"sk-estimator-id-3\" class=\"sk-toggleable__label sk-toggleable__label-arrow\">SVC</label><div class=\"sk-toggleable__content\"><pre>SVC()</pre></div></div></div></div></div>"
      ],
      "text/plain": [
       "SVC()"
      ]
     },
     "execution_count": 34,
     "metadata": {},
     "output_type": "execute_result"
    }
   ],
   "source": [
    "svm_clf=SVC()\n",
    "svm_clf.fit(X_train_tf,y_train)"
   ]
  },
  {
   "cell_type": "code",
   "execution_count": 35,
   "id": "b45043b3-5263-419c-978f-ebb1a6bf9a48",
   "metadata": {},
   "outputs": [
    {
     "data": {
      "text/plain": [
       "array([ 1,  0, -1, ...,  1,  1,  0], dtype=int64)"
      ]
     },
     "execution_count": 35,
     "metadata": {},
     "output_type": "execute_result"
    }
   ],
   "source": [
    "svm_pred=svm_clf.predict(X_test_tf)\n",
    "svm_pred"
   ]
  },
  {
   "cell_type": "code",
   "execution_count": 36,
   "id": "0f3756e4-44fc-469f-aa6e-bbb01d28eb43",
   "metadata": {},
   "outputs": [
    {
     "name": "stdout",
     "output_type": "stream",
     "text": [
      "Classification Report for SVM:\n",
      "               precision    recall  f1-score   support\n",
      "\n",
      "          -1       0.95      0.89      0.92      6447\n",
      "           0       0.92      0.96      0.94      7206\n",
      "           1       0.93      0.94      0.94      8557\n",
      "\n",
      "    accuracy                           0.93     22210\n",
      "   macro avg       0.93      0.93      0.93     22210\n",
      "weighted avg       0.93      0.93      0.93     22210\n",
      "\n"
     ]
    }
   ],
   "source": [
    "print('Classification Report for SVM:\\n',classification_report(y_test, svm_pred))"
   ]
  },
  {
   "cell_type": "code",
   "execution_count": 37,
   "id": "7a70d852-bc2e-46ff-8baf-b78eb426144f",
   "metadata": {},
   "outputs": [
    {
     "name": "stdout",
     "output_type": "stream",
     "text": [
      "[[5734  328  385]\n",
      " [  72 6922  212]\n",
      " [ 214  287 8056]]\n"
     ]
    }
   ],
   "source": [
    "conf_svm = confusion_matrix(y_test,svm_pred)\n",
    "print(conf_svm)"
   ]
  },
  {
   "cell_type": "code",
   "execution_count": 38,
   "id": "51e25bf3-3ec8-4326-8807-36cdcb7f670f",
   "metadata": {},
   "outputs": [],
   "source": [
    "conf_df_svm = pd.DataFrame(data=conf_svm, columns=['Actual Negative:-1', 'Actual Neutral:0', 'Actual Positive:1'], \n",
    "                                 index=['Predict Negative:-1', 'Predict Neutral:0', 'Predict Positive:1'])"
   ]
  },
  {
   "cell_type": "code",
   "execution_count": 39,
   "id": "430dd483-f028-47e4-b58a-4e78a07b0543",
   "metadata": {},
   "outputs": [
    {
     "data": {
      "text/plain": [
       "<AxesSubplot:>"
      ]
     },
     "execution_count": 39,
     "metadata": {},
     "output_type": "execute_result"
    },
    {
     "data": {
      "image/png": "[encoded data removed]",
      "text/plain": [
       "<Figure size 432x288 with 2 Axes>"
      ]
     },
     "metadata": {
      "needs_background": "light"
     },
     "output_type": "display_data"
    }
   ],
   "source": [
    "sns.heatmap(conf_df_svm, annot = True, fmt = '', cmap = 'Blues')"
   ]
  },
  {
   "cell_type": "markdown",
   "id": "f815f820-47d8-4035-9811-7cf1cd01cb1d",
   "metadata": {},
   "source": [
    "# Conclusion ML models"
   ]
  },
  {
   "cell_type": "markdown",
   "id": "87c09308-df59-4ec8-abbb-71d457ed8275",
   "metadata": {},
   "source": [
    "As expected, Naive Bayes was the model with the worst performances.\n",
    "Regarding the other metrics, precision, recall and f1-score, SVM and Random Forest performed better than LR."
   ]
  },
  {
   "cell_type": "markdown",
   "id": "629ffd3e-a76b-432e-8043-2f36662a9675",
   "metadata": {},
   "source": [
    "# Deep learning"
   ]
  },
  {
   "cell_type": "markdown",
   "id": "2acdab78-214f-47b2-8bee-34d907237793",
   "metadata": {},
   "source": [
    "Partiamo dall' inizio, prendiamo i dati e rifacciamo lo splitting del dataset dopo averli tokenizzati.\n",
    "Per semplicità (dobbiamo creare un vocabolario quindi dobbiamo tokenizzare train e test insieme)"
   ]
  },
  {
   "cell_type": "code",
   "execution_count": 40,
   "id": "4ef1de3b-0ce9-4ee3-b7e8-34e70a01a0d8",
   "metadata": {},
   "outputs": [],
   "source": [
    "X = data['text_cleaned']\n",
    "y = data['labels'].values"
   ]
  },
  {
   "cell_type": "code",
   "execution_count": 41,
   "id": "a799e849-7194-4934-9f9a-f01502249916",
   "metadata": {},
   "outputs": [
    {
     "name": "stdout",
     "output_type": "stream",
     "text": [
      "two recent articl discuss h5n1 bird flu detail first delin accur 8month old project\n",
      "1\n",
      "[ 1 -1  0 ...  1 -1  1]\n"
     ]
    }
   ],
   "source": [
    "print(X[0])\n",
    "print(y[0])\n",
    "print(y)"
   ]
  },
  {
   "cell_type": "code",
   "execution_count": 42,
   "id": "f3ac7b29-6f4d-4d72-ace0-f44ea340bf06",
   "metadata": {},
   "outputs": [],
   "source": [
    "from collections import Counter\n",
    "\n",
    "def Tokenize(column, seq_len):\n",
    "    \n",
    "    ##Create vocabulary of words from column\n",
    "    corpus = [word for text in column for word in text.split()]\n",
    "    count_words = Counter(corpus) #Counter method counts all the words in the corpus, dictionary with word and number of times \n",
    "    sorted_words = count_words.most_common()  #list\n",
    "    vocab_to_int = {w:i+1 for i, (w,c) in enumerate(sorted_words)}  #Transform the words into numbers enumerating: first word is the one that occurs most time. \n",
    "\n",
    "    ##Tokenize the columns text using the vocabulary\n",
    "    text_int = []\n",
    "    for text in column:\n",
    "        r = [vocab_to_int[word] for word in text.split()]\n",
    "        text_int.append(r)\n",
    "        \n",
    "    ##Add padding to tokens\n",
    "    features = np.zeros((len(text_int), seq_len), dtype = int)\n",
    "    for i, review in enumerate(text_int):\n",
    "        if len(review) <= seq_len:\n",
    "            zeros = list(np.zeros(seq_len - len(review)))\n",
    "            new = zeros + review\n",
    "        else:\n",
    "            new = review[: seq_len]\n",
    "        features[i, :] = np.array(new)\n",
    "\n",
    "    return sorted_words, features"
   ]
  },
  {
   "cell_type": "code",
   "execution_count": 43,
   "id": "fbd3ad22-1dde-4e66-b22b-44ad8b3811d8",
   "metadata": {},
   "outputs": [],
   "source": [
    "vocabulary, tokenized_column = Tokenize(X, max_len)"
   ]
  },
  {
   "cell_type": "code",
   "execution_count": 44,
   "id": "7c40ec6a-e7ae-4b84-9c28-6c12bc56d0de",
   "metadata": {},
   "outputs": [
    {
     "data": {
      "text/plain": [
       "[('covid', 35279),\n",
       " ('vaccin', 28336),\n",
       " ('pandem', 12706),\n",
       " ('amp', 12463),\n",
       " ('peopl', 11250),\n",
       " ('new', 9653),\n",
       " ('covid19', 8928),\n",
       " ('death', 8115),\n",
       " ('increas', 6896),\n",
       " ('like', 6517),\n",
       " ('still', 6280),\n",
       " ('work', 6220),\n",
       " ('get', 6205),\n",
       " ('biden', 5662),\n",
       " ('caus', 5480)]"
      ]
     },
     "execution_count": 44,
     "metadata": {},
     "output_type": "execute_result"
    }
   ],
   "source": [
    "vocabulary[:15]"
   ]
  },
  {
   "cell_type": "code",
   "execution_count": 45,
   "id": "d1f2740a-14d9-4902-88c0-a6a26e4665a3",
   "metadata": {},
   "outputs": [
    {
     "name": "stdout",
     "output_type": "stream",
     "text": [
      "two recent articl discuss h5n1 bird flu detail first delin accur 8month old project\n",
      "[   0    0    0    0    0    0    0    0    0    0    0    0    0    0\n",
      "    0    0    0    0    0    0    0    0    0    0    0    0    0    0\n",
      "    0    0    0    0    0    0    0    0    0  160  694  632  460 1065\n",
      "  787  154  674  106 9741 2240 8868  329 1025]\n",
      "1\n"
     ]
    }
   ],
   "source": [
    "print(X[0])\n",
    "print(tokenized_column[0])\n",
    "print(y[0])"
   ]
  },
  {
   "cell_type": "code",
   "execution_count": 46,
   "id": "99d316d0-4952-4dd4-b7ce-4b6dc2987643",
   "metadata": {},
   "outputs": [
    {
     "name": "stdout",
     "output_type": "stream",
     "text": [
      "[[0. 1. 0.]\n",
      " [0. 0. 1.]\n",
      " [1. 0. 0.]\n",
      " [0. 1. 0.]\n",
      " [1. 0. 0.]\n",
      " [0. 1. 0.]\n",
      " [0. 0. 1.]\n",
      " [1. 0. 0.]\n",
      " [1. 0. 0.]\n",
      " [0. 0. 1.]]\n"
     ]
    }
   ],
   "source": [
    "# https://tomaxent.com/2017/11/21/A-Simple-Multi-Class-Classification-Task-Keras-and-Scikit-Learn/\n",
    "# \n",
    "\n",
    "from keras.utils import to_categorical\n",
    "one_hot_encode_y = to_categorical(y, num_classes = 3)\n",
    "print(one_hot_encode_y[:10])\n",
    "#print(y[:10])"
   ]
  },
  {
   "cell_type": "code",
   "execution_count": 47,
   "id": "0661eff3-814d-4ee5-9188-570214b16605",
   "metadata": {},
   "outputs": [],
   "source": [
    "X_train_dl, X_test_dl, y_train_dl, y_test_dl = train_test_split(tokenized_column, one_hot_encode_y, test_size=0.2, stratify=one_hot_encode_y, random_state=seed_value)\n",
    "X_train_dl, X_valid_dl, y_train_dl, y_valid_dl = train_test_split(X_train_dl, y_train_dl, test_size=0.2, stratify=y_train_dl, random_state=seed_value)"
   ]
  },
  {
   "cell_type": "code",
   "execution_count": 48,
   "id": "2a3513cf-c691-414f-b05b-0ebba5e0d8cb",
   "metadata": {},
   "outputs": [
    {
     "data": {
      "text/plain": [
       "array([[1., 0., 0.],\n",
       "       [0., 1., 0.],\n",
       "       [1., 0., 0.],\n",
       "       ...,\n",
       "       [1., 0., 0.],\n",
       "       [0., 0., 1.],\n",
       "       [0., 1., 0.]], dtype=float32)"
      ]
     },
     "execution_count": 48,
     "metadata": {},
     "output_type": "execute_result"
    }
   ],
   "source": [
    "y_train_dl"
   ]
  },
  {
   "cell_type": "code",
   "execution_count": 49,
   "id": "81fd8bc5-d69d-4a13-94d9-2adff80cd96f",
   "metadata": {},
   "outputs": [
    {
     "data": {
      "text/plain": [
       "array([[1., 0., 0.],\n",
       "       [0., 1., 0.],\n",
       "       [0., 0., 1.],\n",
       "       ...,\n",
       "       [1., 0., 0.],\n",
       "       [1., 0., 0.],\n",
       "       [0., 1., 0.]], dtype=float32)"
      ]
     },
     "execution_count": 49,
     "metadata": {},
     "output_type": "execute_result"
    }
   ],
   "source": [
    "y_test_dl"
   ]
  },
  {
   "cell_type": "code",
   "execution_count": 50,
   "id": "20e39d47-bf4b-4f82-a059-d1a0ff29ec4c",
   "metadata": {},
   "outputs": [
    {
     "data": {
      "text/plain": [
       "array([[0., 1., 0.],\n",
       "       [0., 0., 1.],\n",
       "       [0., 1., 0.],\n",
       "       ...,\n",
       "       [0., 1., 0.],\n",
       "       [1., 0., 0.],\n",
       "       [0., 1., 0.]], dtype=float32)"
      ]
     },
     "execution_count": 50,
     "metadata": {},
     "output_type": "execute_result"
    }
   ],
   "source": [
    "y_valid_dl"
   ]
  },
  {
   "cell_type": "code",
   "execution_count": 51,
   "id": "c8e21da6-783c-4465-8a73-1ee9915d1602",
   "metadata": {},
   "outputs": [],
   "source": [
    "# Parameters\n",
    "\n",
    "input_dim = len(vocabulary)+1 # +1 is for the padding\n",
    "\n",
    "# Hyperparameters\n",
    "\n",
    "embedding_dim = 64\n",
    "hidden_dim = 32\n",
    "drop_prob = 0.3\n",
    "lr = 0.05\n",
    "clipnorm_value = 1."
   ]
  },
  {
   "cell_type": "markdown",
   "id": "79bc5b97-d7f4-4d98-9337-2154d0a3cf6c",
   "metadata": {},
   "source": [
    "## RNN"
   ]
  },
  {
   "cell_type": "code",
   "execution_count": 52,
   "id": "70b42bdc-6e2a-438a-a687-caf490103f32",
   "metadata": {},
   "outputs": [],
   "source": [
    "# Keras Model\n",
    "\n",
    "from tensorflow.keras.layers import SimpleRNN, Dense, Embedding, Dropout\n",
    "from tensorflow.keras.models import Sequential\n",
    "from tensorflow.keras.optimizers import SGD\n",
    "\n",
    "import tensorflow.keras.metrics\n",
    "\n",
    "from tensorflow.keras.callbacks import ModelCheckpoint\n"
   ]
  },
  {
   "cell_type": "code",
   "execution_count": 53,
   "id": "149388a3-fd81-48a2-93dd-21e981c30036",
   "metadata": {},
   "outputs": [
    {
     "name": "stdout",
     "output_type": "stream",
     "text": [
      "Model: \"sequential\"\n",
      "_________________________________________________________________\n",
      " Layer (type)                Output Shape              Param #   \n",
      "=================================================================\n",
      " embedding (Embedding)       (None, None, 64)          2169600   \n",
      "                                                                 \n",
      " simple_rnn (SimpleRNN)      (None, 32)                3104      \n",
      "                                                                 \n",
      " dropout (Dropout)           (None, 32)                0         \n",
      "                                                                 \n",
      " dense (Dense)               (None, 3)                 99        \n",
      "                                                                 \n",
      "=================================================================\n",
      "Total params: 2,172,803\n",
      "Trainable params: 2,172,803\n",
      "Non-trainable params: 0\n",
      "_________________________________________________________________\n"
     ]
    }
   ],
   "source": [
    "\n",
    "model_keras_rnn = Sequential([\n",
    "  Embedding(input_dim, embedding_dim),\n",
    "  SimpleRNN(hidden_dim, recurrent_dropout = 0.2, dropout = 0.2),\n",
    "  Dropout(drop_prob),\n",
    "  Dense(3, activation=\"sigmoid\")  # 3 outputs, since we have 3 categories\n",
    "])\n",
    "\n",
    "#opt_adam = Adam(clipnorm=1, learning_rate = 0.05)\n",
    "\n",
    "opt_sgd = SGD(learning_rate=lr, clipnorm=clipnorm_value)\n",
    "\n",
    "model_keras_rnn.compile(optimizer=opt_sgd, loss='categorical_crossentropy', metrics=[\"accuracy\", \"Precision\", \"Recall\"])  #categorical (not binary)\n",
    "model_keras_rnn.summary()"
   ]
  },
  {
   "cell_type": "markdown",
   "id": "e18c5a1b-6c54-466d-9393-bd3067c9aace",
   "metadata": {},
   "source": [
    "### Training"
   ]
  },
  {
   "cell_type": "code",
   "execution_count": 54,
   "id": "cf38166f-d3a6-4a88-8da4-874b277d9f58",
   "metadata": {
    "jupyter": {
     "source_hidden": true
    },
    "tags": []
   },
   "outputs": [],
   "source": [
    "epochs = 60\n",
    "batch_size = 32"
   ]
  },
  {
   "cell_type": "code",
   "execution_count": 55,
   "id": "1cdfbe43-cefc-443f-b0d4-68f39243937d",
   "metadata": {
    "tags": []
   },
   "outputs": [
    {
     "name": "stdout",
     "output_type": "stream",
     "text": [
      "Epoch 1/60\n",
      "2221/2221 [==============================] - 31s 13ms/step - loss: 0.7700 - accuracy: 0.6443 - precision: 0.5468 - recall: 0.7601 - val_loss: 0.5445 - val_accuracy: 0.7740 - val_precision: 0.6641 - val_recall: 0.8641\n",
      "Epoch 2/60\n",
      "2221/2221 [==============================] - 29s 13ms/step - loss: 0.5011 - accuracy: 0.7959 - precision: 0.6775 - recall: 0.8763 - val_loss: 0.4150 - val_accuracy: 0.8352 - val_precision: 0.7420 - val_recall: 0.8964\n",
      "Epoch 3/60\n",
      "2221/2221 [==============================] - 30s 14ms/step - loss: 0.4043 - accuracy: 0.8450 - precision: 0.7158 - recall: 0.9146 - val_loss: 0.3824 - val_accuracy: 0.8493 - val_precision: 0.7760 - val_recall: 0.9066\n",
      "Epoch 4/60\n",
      "2221/2221 [==============================] - 33s 15ms/step - loss: 0.3452 - accuracy: 0.8715 - precision: 0.7470 - recall: 0.9327 - val_loss: 0.2952 - val_accuracy: 0.8887 - val_precision: 0.8012 - val_recall: 0.9397\n",
      "Epoch 5/60\n",
      "2221/2221 [==============================] - 30s 14ms/step - loss: 0.3040 - accuracy: 0.8903 - precision: 0.7658 - recall: 0.9444 - val_loss: 0.2958 - val_accuracy: 0.8915 - val_precision: 0.8017 - val_recall: 0.9390\n",
      "Epoch 6/60\n",
      "2221/2221 [==============================] - 31s 14ms/step - loss: 0.2765 - accuracy: 0.9025 - precision: 0.7769 - recall: 0.9526 - val_loss: 0.2757 - val_accuracy: 0.9017 - val_precision: 0.8238 - val_recall: 0.9448\n",
      "Epoch 7/60\n",
      "2221/2221 [==============================] - 31s 14ms/step - loss: 0.2533 - accuracy: 0.9125 - precision: 0.7912 - recall: 0.9575 - val_loss: 0.2951 - val_accuracy: 0.8931 - val_precision: 0.7993 - val_recall: 0.9407\n",
      "Epoch 8/60\n",
      "2221/2221 [==============================] - 33s 15ms/step - loss: 0.2360 - accuracy: 0.9204 - precision: 0.7979 - recall: 0.9613 - val_loss: 0.2729 - val_accuracy: 0.9039 - val_precision: 0.8158 - val_recall: 0.9473\n",
      "Epoch 9/60\n",
      "2221/2221 [==============================] - 39s 17ms/step - loss: 0.2167 - accuracy: 0.9273 - precision: 0.8100 - recall: 0.9652 - val_loss: 0.2433 - val_accuracy: 0.9186 - val_precision: 0.8415 - val_recall: 0.9541\n",
      "Epoch 10/60\n",
      "2221/2221 [==============================] - 32s 14ms/step - loss: 0.2042 - accuracy: 0.9312 - precision: 0.8172 - recall: 0.9678 - val_loss: 0.2540 - val_accuracy: 0.9169 - val_precision: 0.8411 - val_recall: 0.9522\n",
      "Epoch 11/60\n",
      "2221/2221 [==============================] - 34s 15ms/step - loss: 0.1949 - accuracy: 0.9355 - precision: 0.8179 - recall: 0.9710 - val_loss: 0.2457 - val_accuracy: 0.9222 - val_precision: 0.8546 - val_recall: 0.9536\n",
      "Epoch 12/60\n",
      "2221/2221 [==============================] - 42s 19ms/step - loss: 0.1820 - accuracy: 0.9395 - precision: 0.8259 - recall: 0.9725 - val_loss: 0.2578 - val_accuracy: 0.9170 - val_precision: 0.8356 - val_recall: 0.9524\n",
      "Epoch 13/60\n",
      "2221/2221 [==============================] - 40s 18ms/step - loss: 0.1770 - accuracy: 0.9411 - precision: 0.8266 - recall: 0.9744 - val_loss: 0.2487 - val_accuracy: 0.9252 - val_precision: 0.8672 - val_recall: 0.9522\n",
      "Epoch 14/60\n",
      "2221/2221 [==============================] - 34s 15ms/step - loss: 0.1675 - accuracy: 0.9452 - precision: 0.8347 - recall: 0.9757 - val_loss: 0.2488 - val_accuracy: 0.9235 - val_precision: 0.8603 - val_recall: 0.9529\n",
      "Epoch 15/60\n",
      "2221/2221 [==============================] - 35s 16ms/step - loss: 0.1598 - accuracy: 0.9481 - precision: 0.8342 - recall: 0.9770 - val_loss: 0.2673 - val_accuracy: 0.9196 - val_precision: 0.8442 - val_recall: 0.9505\n",
      "Epoch 16/60\n",
      "2221/2221 [==============================] - 40s 18ms/step - loss: 0.1537 - accuracy: 0.9501 - precision: 0.8434 - recall: 0.9780 - val_loss: 0.2876 - val_accuracy: 0.9166 - val_precision: 0.8547 - val_recall: 0.9484\n",
      "Epoch 17/60\n",
      "2221/2221 [==============================] - 52s 23ms/step - loss: 0.1468 - accuracy: 0.9525 - precision: 0.8427 - recall: 0.9794 - val_loss: 0.2591 - val_accuracy: 0.9274 - val_precision: 0.8622 - val_recall: 0.9559\n",
      "Epoch 18/60\n",
      "2221/2221 [==============================] - 40s 18ms/step - loss: 0.1405 - accuracy: 0.9554 - precision: 0.8416 - recall: 0.9811 - val_loss: 0.2741 - val_accuracy: 0.9248 - val_precision: 0.8630 - val_recall: 0.9519\n",
      "Epoch 19/60\n",
      "2221/2221 [==============================] - 39s 17ms/step - loss: 0.1373 - accuracy: 0.9560 - precision: 0.8448 - recall: 0.9813 - val_loss: 0.2798 - val_accuracy: 0.9191 - val_precision: 0.8565 - val_recall: 0.9482\n",
      "Epoch 20/60\n",
      "2221/2221 [==============================] - 59s 27ms/step - loss: 0.1327 - accuracy: 0.9583 - precision: 0.8478 - recall: 0.9820 - val_loss: 0.2633 - val_accuracy: 0.9273 - val_precision: 0.8672 - val_recall: 0.9541\n",
      "Epoch 21/60\n",
      "2221/2221 [==============================] - 48s 21ms/step - loss: 0.1286 - accuracy: 0.9591 - precision: 0.8513 - recall: 0.9830 - val_loss: 0.2572 - val_accuracy: 0.9257 - val_precision: 0.8629 - val_recall: 0.9508\n",
      "Epoch 22/60\n",
      "2221/2221 [==============================] - 38s 17ms/step - loss: 0.1230 - accuracy: 0.9606 - precision: 0.8524 - recall: 0.9837 - val_loss: 0.2778 - val_accuracy: 0.9254 - val_precision: 0.8613 - val_recall: 0.9529\n",
      "Epoch 23/60\n",
      "2221/2221 [==============================] - 35s 16ms/step - loss: 0.1225 - accuracy: 0.9612 - precision: 0.8545 - recall: 0.9839 - val_loss: 0.2554 - val_accuracy: 0.9278 - val_precision: 0.8689 - val_recall: 0.9527\n",
      "Epoch 24/60\n",
      "2221/2221 [==============================] - 45s 20ms/step - loss: 0.1181 - accuracy: 0.9627 - precision: 0.8523 - recall: 0.9846 - val_loss: 0.2739 - val_accuracy: 0.9246 - val_precision: 0.8686 - val_recall: 0.9510\n",
      "Epoch 25/60\n",
      "2221/2221 [==============================] - 53s 24ms/step - loss: 0.1137 - accuracy: 0.9634 - precision: 0.8541 - recall: 0.9860 - val_loss: 0.2818 - val_accuracy: 0.9270 - val_precision: 0.8702 - val_recall: 0.9542\n",
      "Epoch 26/60\n",
      "2221/2221 [==============================] - 35s 16ms/step - loss: 0.1102 - accuracy: 0.9655 - precision: 0.8575 - recall: 0.9853 - val_loss: 0.2924 - val_accuracy: 0.9269 - val_precision: 0.8747 - val_recall: 0.9522\n",
      "Epoch 27/60\n",
      "2221/2221 [==============================] - 47s 21ms/step - loss: 0.1112 - accuracy: 0.9645 - precision: 0.8591 - recall: 0.9862 - val_loss: 0.2868 - val_accuracy: 0.9289 - val_precision: 0.8696 - val_recall: 0.9551\n",
      "Epoch 28/60\n",
      "2221/2221 [==============================] - 44s 20ms/step - loss: 0.1081 - accuracy: 0.9658 - precision: 0.8615 - recall: 0.9860 - val_loss: 0.2715 - val_accuracy: 0.9273 - val_precision: 0.8666 - val_recall: 0.9544\n",
      "Epoch 29/60\n",
      "2221/2221 [==============================] - 42s 19ms/step - loss: 0.1061 - accuracy: 0.9663 - precision: 0.8592 - recall: 0.9867 - val_loss: 0.2907 - val_accuracy: 0.9247 - val_precision: 0.8683 - val_recall: 0.9511\n",
      "Epoch 30/60\n",
      "2221/2221 [==============================] - 44s 20ms/step - loss: 0.1025 - accuracy: 0.9679 - precision: 0.8655 - recall: 0.9876 - val_loss: 0.2829 - val_accuracy: 0.9270 - val_precision: 0.8622 - val_recall: 0.9536\n",
      "Epoch 31/60\n",
      "2221/2221 [==============================] - 35s 16ms/step - loss: 0.1002 - accuracy: 0.9697 - precision: 0.8677 - recall: 0.9876 - val_loss: 0.3077 - val_accuracy: 0.9247 - val_precision: 0.8682 - val_recall: 0.9516\n",
      "Epoch 32/60\n",
      "2221/2221 [==============================] - 34s 15ms/step - loss: 0.1008 - accuracy: 0.9689 - precision: 0.8636 - recall: 0.9877 - val_loss: 0.2877 - val_accuracy: 0.9281 - val_precision: 0.8781 - val_recall: 0.9522\n",
      "Epoch 33/60\n",
      "2221/2221 [==============================] - 46s 21ms/step - loss: 0.0977 - accuracy: 0.9696 - precision: 0.8613 - recall: 0.9882 - val_loss: 0.2915 - val_accuracy: 0.9260 - val_precision: 0.8710 - val_recall: 0.9526\n",
      "Epoch 34/60\n",
      "2221/2221 [==============================] - 45s 20ms/step - loss: 0.0968 - accuracy: 0.9696 - precision: 0.8648 - recall: 0.9888 - val_loss: 0.2954 - val_accuracy: 0.9287 - val_precision: 0.8796 - val_recall: 0.9512\n",
      "Epoch 35/60\n",
      "2221/2221 [==============================] - 35s 16ms/step - loss: 0.0957 - accuracy: 0.9706 - precision: 0.8708 - recall: 0.9881 - val_loss: 0.2938 - val_accuracy: 0.9263 - val_precision: 0.8720 - val_recall: 0.9516\n",
      "Epoch 36/60\n",
      "2221/2221 [==============================] - 35s 16ms/step - loss: 0.0921 - accuracy: 0.9713 - precision: 0.8734 - recall: 0.9889 - val_loss: 0.2996 - val_accuracy: 0.9285 - val_precision: 0.8798 - val_recall: 0.9514\n",
      "Epoch 37/60\n",
      "2221/2221 [==============================] - 45s 20ms/step - loss: 0.0932 - accuracy: 0.9710 - precision: 0.8694 - recall: 0.9886 - val_loss: 0.2892 - val_accuracy: 0.9235 - val_precision: 0.8631 - val_recall: 0.9515\n",
      "Epoch 38/60\n",
      "2221/2221 [==============================] - 47s 21ms/step - loss: 0.0888 - accuracy: 0.9727 - precision: 0.8749 - recall: 0.9890 - val_loss: 0.3180 - val_accuracy: 0.9186 - val_precision: 0.8512 - val_recall: 0.9492\n",
      "Epoch 39/60\n",
      "2221/2221 [==============================] - 35s 16ms/step - loss: 0.0895 - accuracy: 0.9726 - precision: 0.8733 - recall: 0.9892 - val_loss: 0.3071 - val_accuracy: 0.9248 - val_precision: 0.8667 - val_recall: 0.9512\n",
      "Epoch 40/60\n",
      "2221/2221 [==============================] - 38s 17ms/step - loss: 0.0865 - accuracy: 0.9736 - precision: 0.8746 - recall: 0.9897 - val_loss: 0.3492 - val_accuracy: 0.9163 - val_precision: 0.8531 - val_recall: 0.9443\n",
      "Epoch 41/60\n",
      "2221/2221 [==============================] - 46s 21ms/step - loss: 0.0864 - accuracy: 0.9735 - precision: 0.8760 - recall: 0.9896 - val_loss: 0.2961 - val_accuracy: 0.9277 - val_precision: 0.8737 - val_recall: 0.9526\n",
      "Epoch 42/60\n",
      "2221/2221 [==============================] - 46s 21ms/step - loss: 0.0867 - accuracy: 0.9740 - precision: 0.8751 - recall: 0.9898 - val_loss: 0.2985 - val_accuracy: 0.9269 - val_precision: 0.8725 - val_recall: 0.9530\n",
      "Epoch 43/60\n",
      "2221/2221 [==============================] - 33s 15ms/step - loss: 0.0867 - accuracy: 0.9741 - precision: 0.8724 - recall: 0.9900 - val_loss: 0.2998 - val_accuracy: 0.9297 - val_precision: 0.8805 - val_recall: 0.9522\n",
      "Epoch 44/60\n",
      "2221/2221 [==============================] - 38s 17ms/step - loss: 0.0822 - accuracy: 0.9753 - precision: 0.8741 - recall: 0.9903 - val_loss: 0.2920 - val_accuracy: 0.9289 - val_precision: 0.8710 - val_recall: 0.9522\n",
      "Epoch 45/60\n",
      "2221/2221 [==============================] - 46s 21ms/step - loss: 0.0838 - accuracy: 0.9740 - precision: 0.8734 - recall: 0.9903 - val_loss: 0.3055 - val_accuracy: 0.9300 - val_precision: 0.8795 - val_recall: 0.9522\n",
      "Epoch 46/60\n",
      "2221/2221 [==============================] - 36s 16ms/step - loss: 0.0775 - accuracy: 0.9766 - precision: 0.8770 - recall: 0.9911 - val_loss: 0.3232 - val_accuracy: 0.9236 - val_precision: 0.8617 - val_recall: 0.9511\n",
      "Epoch 47/60\n",
      "2221/2221 [==============================] - 33s 15ms/step - loss: 0.0824 - accuracy: 0.9761 - precision: 0.8781 - recall: 0.9902 - val_loss: 0.3134 - val_accuracy: 0.9249 - val_precision: 0.8741 - val_recall: 0.9498\n",
      "Epoch 48/60\n",
      "2221/2221 [==============================] - 36s 16ms/step - loss: 0.0801 - accuracy: 0.9758 - precision: 0.8776 - recall: 0.9906 - val_loss: 0.3311 - val_accuracy: 0.9267 - val_precision: 0.8804 - val_recall: 0.9484\n",
      "Epoch 49/60\n",
      "2221/2221 [==============================] - 47s 21ms/step - loss: 0.0790 - accuracy: 0.9762 - precision: 0.8777 - recall: 0.9905 - val_loss: 0.3170 - val_accuracy: 0.9247 - val_precision: 0.8731 - val_recall: 0.9490\n",
      "Epoch 50/60\n",
      "2221/2221 [==============================] - 39s 18ms/step - loss: 0.0795 - accuracy: 0.9762 - precision: 0.8753 - recall: 0.9911 - val_loss: 0.2983 - val_accuracy: 0.9280 - val_precision: 0.8766 - val_recall: 0.9522\n",
      "Epoch 51/60\n",
      "2221/2221 [==============================] - 33s 15ms/step - loss: 0.0757 - accuracy: 0.9776 - precision: 0.8768 - recall: 0.9915 - val_loss: 0.3151 - val_accuracy: 0.9273 - val_precision: 0.8777 - val_recall: 0.9504\n",
      "Epoch 52/60\n",
      "2221/2221 [==============================] - 41s 18ms/step - loss: 0.0745 - accuracy: 0.9775 - precision: 0.8790 - recall: 0.9916 - val_loss: 0.3293 - val_accuracy: 0.9272 - val_precision: 0.8770 - val_recall: 0.9513\n",
      "Epoch 53/60\n",
      "2221/2221 [==============================] - 45s 20ms/step - loss: 0.0749 - accuracy: 0.9778 - precision: 0.8850 - recall: 0.9911 - val_loss: 0.3246 - val_accuracy: 0.9284 - val_precision: 0.8844 - val_recall: 0.9499\n",
      "Epoch 54/60\n",
      "2221/2221 [==============================] - 35s 16ms/step - loss: 0.0742 - accuracy: 0.9781 - precision: 0.8821 - recall: 0.9914 - val_loss: 0.3343 - val_accuracy: 0.9248 - val_precision: 0.8763 - val_recall: 0.9478\n",
      "Epoch 55/60\n",
      "2221/2221 [==============================] - 33s 15ms/step - loss: 0.0730 - accuracy: 0.9775 - precision: 0.8811 - recall: 0.9920 - val_loss: 0.3210 - val_accuracy: 0.9283 - val_precision: 0.8843 - val_recall: 0.9526\n",
      "Epoch 56/60\n",
      "2221/2221 [==============================] - 39s 18ms/step - loss: 0.0713 - accuracy: 0.9782 - precision: 0.8824 - recall: 0.9920 - val_loss: 0.3332 - val_accuracy: 0.9202 - val_precision: 0.8597 - val_recall: 0.9499\n",
      "Epoch 57/60\n",
      "2221/2221 [==============================] - 48s 22ms/step - loss: 0.0716 - accuracy: 0.9784 - precision: 0.8825 - recall: 0.9921 - val_loss: 0.3278 - val_accuracy: 0.9253 - val_precision: 0.8763 - val_recall: 0.9505\n",
      "Epoch 58/60\n",
      "2221/2221 [==============================] - 39s 18ms/step - loss: 0.0702 - accuracy: 0.9788 - precision: 0.8833 - recall: 0.9923 - val_loss: 0.3306 - val_accuracy: 0.9303 - val_precision: 0.8834 - val_recall: 0.9545\n",
      "Epoch 59/60\n",
      "2221/2221 [==============================] - 33s 15ms/step - loss: 0.0706 - accuracy: 0.9795 - precision: 0.8783 - recall: 0.9924 - val_loss: 0.3457 - val_accuracy: 0.9242 - val_precision: 0.8730 - val_recall: 0.9488\n",
      "Epoch 60/60\n",
      "2221/2221 [==============================] - 37s 17ms/step - loss: 0.0696 - accuracy: 0.9789 - precision: 0.8850 - recall: 0.9926 - val_loss: 0.3444 - val_accuracy: 0.9212 - val_precision: 0.8625 - val_recall: 0.9498\n"
     ]
    },
    {
     "data": {
      "text/plain": [
       "<keras.callbacks.History at 0x13d0d555e20>"
      ]
     },
     "execution_count": 55,
     "metadata": {},
     "output_type": "execute_result"
    }
   ],
   "source": [
    "\n",
    "PATH_KERAS_RNN = 'C:\\\\Users\\\\mamai\\\\Desktop\\\\Tesi\\\\Code\\\\Models\\\\Keras\\\\RNN\\\\Final\\\\'\n",
    "\n",
    "# Model weights are saved at the end of every epoch, if it's the best seen so far.\n",
    "model_checkpoint_callback = ModelCheckpoint(\n",
    "    filepath=PATH_KERAS_RNN,\n",
    "    save_weights_only=True,\n",
    "    monitor='val_accuracy',\n",
    "    mode='max',\n",
    "    save_best_only=True)\n",
    "\n",
    "history = model_keras_rnn.fit(x=X_train_dl, y=y_train_dl,\n",
    "        batch_size=batch_size, epochs=epochs,\n",
    "        validation_data=(X_valid_dl, y_valid_dl),\n",
    "        callbacks=[model_checkpoint_callback])\n",
    "\n",
    "history"
   ]
  },
  {
   "cell_type": "code",
   "execution_count": 56,
   "id": "ca38ead6-796e-425c-8d73-411626fceb02",
   "metadata": {},
   "outputs": [
    {
     "data": {
      "text/plain": [
       "<tensorflow.python.checkpoint.checkpoint.CheckpointLoadStatus at 0x13d0d866d30>"
      ]
     },
     "execution_count": 56,
     "metadata": {},
     "output_type": "execute_result"
    }
   ],
   "source": [
    "# The model weights (that are considered the best) are loaded into the model.\n",
    "model_keras_rnn.load_weights(PATH_KERAS_RNN)"
   ]
  },
  {
   "cell_type": "code",
   "execution_count": 57,
   "id": "dcae8779-3146-4b60-9af4-73c70a9352c7",
   "metadata": {},
   "outputs": [
    {
     "data": {
      "image/png": "[encoded data removed]",
      "text/plain": [
       "<Figure size 1440x432 with 2 Axes>"
      ]
     },
     "metadata": {
      "needs_background": "light"
     },
     "output_type": "display_data"
    }
   ],
   "source": [
    "# Visualize results of Keras model\n",
    "\n",
    "fig = plt.figure(figsize = (20, 6))\n",
    "plt.subplot(1, 2, 1)\n",
    "plt.plot(history.history['accuracy'], label='Train Keras')\n",
    "plt.plot(history.history['val_accuracy'], label='Validation Keras')\n",
    "plt.title(\"Accuracy\")\n",
    "plt.ylabel('accuracy')\n",
    "plt.xlabel('epoch')\n",
    "plt.legend()\n",
    "plt.grid()\n",
    "    \n",
    "plt.subplot(1, 2, 2)\n",
    "plt.plot(history.history['loss'], label='Train Keras')\n",
    "plt.plot(history.history['val_loss'], label='Validation Keras')\n",
    "plt.title(\"Loss\")\n",
    "plt.ylabel('loss')\n",
    "plt.xlabel('epoch')\n",
    "plt.legend()\n",
    "plt.grid()\n",
    "\n",
    "plt.show()"
   ]
  },
  {
   "cell_type": "code",
   "execution_count": 58,
   "id": "85e14c6c-8396-44fe-b313-8f6e8b4883eb",
   "metadata": {},
   "outputs": [
    {
     "name": "stdout",
     "output_type": "stream",
     "text": [
      "695/695 - 2s - loss: 0.3433 - accuracy: 0.9301 - precision: 0.8818 - recall: 0.9520 - 2s/epoch - 3ms/step\n"
     ]
    },
    {
     "data": {
      "text/plain": [
       "[0.3432881236076355, 0.9301215410232544, 0.881808340549469, 0.9520035982131958]"
      ]
     },
     "execution_count": 58,
     "metadata": {},
     "output_type": "execute_result"
    }
   ],
   "source": [
    "model_keras_rnn.evaluate(X_test_dl, y_test_dl, verbose=2)"
   ]
  },
  {
   "cell_type": "code",
   "execution_count": 59,
   "id": "6a36f31c-bd6a-4f0f-92b0-6deb907811ae",
   "metadata": {},
   "outputs": [
    {
     "name": "stdout",
     "output_type": "stream",
     "text": [
      "695/695 [==============================] - 2s 3ms/step\n"
     ]
    }
   ],
   "source": [
    "y_pred = model_keras_rnn.predict(X_test_dl)"
   ]
  },
  {
   "cell_type": "code",
   "execution_count": 60,
   "id": "0a8e2e9f-0492-43a9-8be4-aa6ff387ca5d",
   "metadata": {},
   "outputs": [],
   "source": [
    "rnn_pred = [np.argmax(pred) for pred in y_pred]\n",
    "true_pred = [np.argmax(pred) for pred in y_test_dl]"
   ]
  },
  {
   "cell_type": "code",
   "execution_count": 61,
   "id": "7c95347f-e441-42dd-ac43-2099cf7fc293",
   "metadata": {},
   "outputs": [
    {
     "name": "stdout",
     "output_type": "stream",
     "text": [
      "Classification Report for Bert Base Uncased:\n",
      "               precision    recall  f1-score   support\n",
      "\n",
      "           0       0.92      0.96      0.94      7206\n",
      "           1       0.93      0.93      0.93      8557\n",
      "           2       0.94      0.90      0.92      6447\n",
      "\n",
      "    accuracy                           0.93     22210\n",
      "   macro avg       0.93      0.93      0.93     22210\n",
      "weighted avg       0.93      0.93      0.93     22210\n",
      "\n"
     ]
    }
   ],
   "source": [
    "from sklearn.metrics import classification_report, confusion_matrix\n",
    "\n",
    "print('Classification Report for Bert Base Uncased:\\n',classification_report(true_pred, rnn_pred))"
   ]
  },
  {
   "cell_type": "code",
   "execution_count": 62,
   "id": "25ecf5db-7705-47d3-b8dd-e8e3d43374d5",
   "metadata": {},
   "outputs": [
    {
     "name": "stdout",
     "output_type": "stream",
     "text": [
      "[[6915  178  113]\n",
      " [ 332 7954  271]\n",
      " [ 248  410 5789]]\n"
     ]
    }
   ],
   "source": [
    "conf_bert = confusion_matrix(true_pred, rnn_pred)\n",
    "print(conf_bert)\n"
   ]
  },
  {
   "cell_type": "code",
   "execution_count": 63,
   "id": "04a140ba-de99-4575-a74e-e90064dac120",
   "metadata": {},
   "outputs": [],
   "source": [
    "conf_df_rnn = pd.DataFrame(data=conf_bert, columns=['Actual Negative:-1', 'Actual Neutral:0', 'Actual Positive:1'], \n",
    "                                 index=['Predict Negative:-1', 'Predict Neutral:0', 'Predict Positive:1'])"
   ]
  },
  {
   "cell_type": "code",
   "execution_count": 64,
   "id": "fee407a7-5e27-4b25-830a-547893b5b31a",
   "metadata": {},
   "outputs": [
    {
     "data": {
      "text/plain": [
       "<AxesSubplot:>"
      ]
     },
     "execution_count": 64,
     "metadata": {},
     "output_type": "execute_result"
    },
    {
     "data": {
      "image/png": "[encoded data removed]",
      "text/plain": [
       "<Figure size 432x288 with 2 Axes>"
      ]
     },
     "metadata": {
      "needs_background": "light"
     },
     "output_type": "display_data"
    }
   ],
   "source": [
    "import seaborn as sns\n",
    "\n",
    "sns.heatmap(conf_df_rnn, annot = True, fmt = '', cmap = 'Blues')"
   ]
  },
  {
   "cell_type": "markdown",
   "id": "f72b40ef-88e5-4bd5-a3ea-63c73c83b47d",
   "metadata": {},
   "source": [
    "## LSTM"
   ]
  },
  {
   "cell_type": "code",
   "execution_count": 65,
   "id": "fc2d9f54-7e27-4821-ab0c-514f20b26889",
   "metadata": {},
   "outputs": [],
   "source": [
    "# Hyperparameters\n",
    "batch_size=32\n",
    "epochs=60\n",
    "\n",
    "embedding_dim = 64\n",
    "hidden_dim = 32\n",
    "drop_prob = 0.3\n",
    "lr = 0.05\n",
    "clipnorm_value = 1."
   ]
  },
  {
   "cell_type": "code",
   "execution_count": 66,
   "id": "8fac5b16-146b-4b7d-b433-38c3e8affcef",
   "metadata": {},
   "outputs": [
    {
     "name": "stdout",
     "output_type": "stream",
     "text": [
      "Model: \"sequential_1\"\n",
      "_________________________________________________________________\n",
      " Layer (type)                Output Shape              Param #   \n",
      "=================================================================\n",
      " embedding_1 (Embedding)     (None, None, 64)          2169600   \n",
      "                                                                 \n",
      " lstm (LSTM)                 (None, 32)                12416     \n",
      "                                                                 \n",
      " dropout_1 (Dropout)         (None, 32)                0         \n",
      "                                                                 \n",
      " dense_1 (Dense)             (None, 3)                 99        \n",
      "                                                                 \n",
      "=================================================================\n",
      "Total params: 2,182,115\n",
      "Trainable params: 2,182,115\n",
      "Non-trainable params: 0\n",
      "_________________________________________________________________\n"
     ]
    }
   ],
   "source": [
    "from tensorflow.keras.layers import Bidirectional, LSTM\n",
    "\n",
    "model_keras_lstm = Sequential([\n",
    "  Embedding(input_dim, embedding_dim),\n",
    "  LSTM(hidden_dim, recurrent_dropout = 0.2, dropout = 0.2),   \n",
    "  Dropout(drop_prob),\n",
    "  Dense(3, activation=\"sigmoid\")\n",
    "])\n",
    "\n",
    "#opt_adam = Adam(clipnorm=1, learning_rate = 0.05)\n",
    "\n",
    "opt_sgd = SGD(learning_rate=lr, clipnorm=clipnorm_value)\n",
    "\n",
    "model_keras_lstm.compile(optimizer=opt_sgd, loss='categorical_crossentropy', metrics=[\"accuracy\", \"Precision\", \"Recall\" ])\n",
    "model_keras_lstm.summary()"
   ]
  },
  {
   "cell_type": "code",
   "execution_count": 67,
   "id": "d0c640fc-1b4d-4a03-8034-54092118d903",
   "metadata": {
    "tags": []
   },
   "outputs": [
    {
     "name": "stdout",
     "output_type": "stream",
     "text": [
      "Epoch 1/60\n",
      "2221/2221 [==============================] - 79s 34ms/step - loss: 0.9572 - accuracy: 0.5232 - precision: 0.4741 - recall: 0.6347 - val_loss: 0.6381 - val_accuracy: 0.7306 - val_precision: 0.6300 - val_recall: 0.8464\n",
      "Epoch 2/60\n",
      "2221/2221 [==============================] - 81s 37ms/step - loss: 0.5140 - accuracy: 0.7949 - precision: 0.6831 - recall: 0.8767 - val_loss: 0.3908 - val_accuracy: 0.8496 - val_precision: 0.7580 - val_recall: 0.9082\n",
      "Epoch 3/60\n",
      "2221/2221 [==============================] - 96s 43ms/step - loss: 0.3587 - accuracy: 0.8674 - precision: 0.7564 - recall: 0.9254 - val_loss: 0.3120 - val_accuracy: 0.8841 - val_precision: 0.7982 - val_recall: 0.9305\n",
      "Epoch 4/60\n",
      "2221/2221 [==============================] - 85s 38ms/step - loss: 0.2888 - accuracy: 0.8977 - precision: 0.7903 - recall: 0.9446 - val_loss: 0.2929 - val_accuracy: 0.8916 - val_precision: 0.8209 - val_recall: 0.9373\n",
      "Epoch 5/60\n",
      "2221/2221 [==============================] - 97s 44ms/step - loss: 0.2497 - accuracy: 0.9142 - precision: 0.8090 - recall: 0.9554 - val_loss: 0.2776 - val_accuracy: 0.9039 - val_precision: 0.8194 - val_recall: 0.9466\n",
      "Epoch 6/60\n",
      "2221/2221 [==============================] - 87s 39ms/step - loss: 0.2220 - accuracy: 0.9255 - precision: 0.8234 - recall: 0.9624 - val_loss: 0.2467 - val_accuracy: 0.9159 - val_precision: 0.8357 - val_recall: 0.9526\n",
      "Epoch 7/60\n",
      "2221/2221 [==============================] - 95s 43ms/step - loss: 0.2037 - accuracy: 0.9325 - precision: 0.8370 - recall: 0.9666 - val_loss: 0.2456 - val_accuracy: 0.9185 - val_precision: 0.8505 - val_recall: 0.9528\n",
      "Epoch 8/60\n",
      "2221/2221 [==============================] - 95s 43ms/step - loss: 0.1887 - accuracy: 0.9379 - precision: 0.8459 - recall: 0.9696 - val_loss: 0.2414 - val_accuracy: 0.9211 - val_precision: 0.8531 - val_recall: 0.9528\n",
      "Epoch 9/60\n",
      "2221/2221 [==============================] - 87s 39ms/step - loss: 0.1729 - accuracy: 0.9443 - precision: 0.8566 - recall: 0.9730 - val_loss: 0.2398 - val_accuracy: 0.9227 - val_precision: 0.8515 - val_recall: 0.9526\n",
      "Epoch 10/60\n",
      "2221/2221 [==============================] - 101s 45ms/step - loss: 0.1645 - accuracy: 0.9474 - precision: 0.8611 - recall: 0.9748 - val_loss: 0.2365 - val_accuracy: 0.9254 - val_precision: 0.8581 - val_recall: 0.9557\n",
      "Epoch 11/60\n",
      "2221/2221 [==============================] - 84s 38ms/step - loss: 0.1555 - accuracy: 0.9512 - precision: 0.8691 - recall: 0.9763 - val_loss: 0.2406 - val_accuracy: 0.9242 - val_precision: 0.8568 - val_recall: 0.9536\n",
      "Epoch 12/60\n",
      "2221/2221 [==============================] - 108s 49ms/step - loss: 0.1482 - accuracy: 0.9534 - precision: 0.8754 - recall: 0.9776 - val_loss: 0.2341 - val_accuracy: 0.9287 - val_precision: 0.8644 - val_recall: 0.9560\n",
      "Epoch 13/60\n",
      "2221/2221 [==============================] - 89s 40ms/step - loss: 0.1396 - accuracy: 0.9569 - precision: 0.8784 - recall: 0.9796 - val_loss: 0.2468 - val_accuracy: 0.9277 - val_precision: 0.8699 - val_recall: 0.9548\n",
      "Epoch 14/60\n",
      "2221/2221 [==============================] - 95s 43ms/step - loss: 0.1331 - accuracy: 0.9589 - precision: 0.8807 - recall: 0.9805 - val_loss: 0.2403 - val_accuracy: 0.9285 - val_precision: 0.8675 - val_recall: 0.9541\n",
      "Epoch 15/60\n",
      "2221/2221 [==============================] - 99s 44ms/step - loss: 0.1295 - accuracy: 0.9605 - precision: 0.8869 - recall: 0.9817 - val_loss: 0.2359 - val_accuracy: 0.9290 - val_precision: 0.8723 - val_recall: 0.9556\n",
      "Epoch 16/60\n",
      "2221/2221 [==============================] - 86s 39ms/step - loss: 0.1243 - accuracy: 0.9613 - precision: 0.8896 - recall: 0.9819 - val_loss: 0.2757 - val_accuracy: 0.9238 - val_precision: 0.8638 - val_recall: 0.9499\n",
      "Epoch 17/60\n",
      "2221/2221 [==============================] - 122s 55ms/step - loss: 0.1195 - accuracy: 0.9646 - precision: 0.8945 - recall: 0.9825 - val_loss: 0.2402 - val_accuracy: 0.9329 - val_precision: 0.8770 - val_recall: 0.9557\n",
      "Epoch 18/60\n",
      "2221/2221 [==============================] - 132s 59ms/step - loss: 0.1195 - accuracy: 0.9643 - precision: 0.8963 - recall: 0.9825 - val_loss: 0.2483 - val_accuracy: 0.9238 - val_precision: 0.8617 - val_recall: 0.9497\n",
      "Epoch 19/60\n",
      "2221/2221 [==============================] - 133s 60ms/step - loss: 0.1101 - accuracy: 0.9668 - precision: 0.9009 - recall: 0.9841 - val_loss: 0.2464 - val_accuracy: 0.9308 - val_precision: 0.8767 - val_recall: 0.9550\n",
      "Epoch 20/60\n",
      "2221/2221 [==============================] - 133s 60ms/step - loss: 0.1079 - accuracy: 0.9681 - precision: 0.9013 - recall: 0.9852 - val_loss: 0.2480 - val_accuracy: 0.9274 - val_precision: 0.8713 - val_recall: 0.9535\n",
      "Epoch 21/60\n",
      "2221/2221 [==============================] - 134s 60ms/step - loss: 0.1046 - accuracy: 0.9683 - precision: 0.9049 - recall: 0.9853 - val_loss: 0.2463 - val_accuracy: 0.9281 - val_precision: 0.8775 - val_recall: 0.9527\n",
      "Epoch 22/60\n",
      "2221/2221 [==============================] - 135s 61ms/step - loss: 0.1001 - accuracy: 0.9702 - precision: 0.9082 - recall: 0.9859 - val_loss: 0.2628 - val_accuracy: 0.9285 - val_precision: 0.8767 - val_recall: 0.9510\n",
      "Epoch 23/60\n",
      "2221/2221 [==============================] - 134s 60ms/step - loss: 0.0967 - accuracy: 0.9715 - precision: 0.9108 - recall: 0.9867 - val_loss: 0.2652 - val_accuracy: 0.9305 - val_precision: 0.8845 - val_recall: 0.9528\n",
      "Epoch 24/60\n",
      "2221/2221 [==============================] - 150s 67ms/step - loss: 0.0952 - accuracy: 0.9716 - precision: 0.9124 - recall: 0.9866 - val_loss: 0.2788 - val_accuracy: 0.9311 - val_precision: 0.8886 - val_recall: 0.9514\n",
      "Epoch 25/60\n",
      "2221/2221 [==============================] - 234s 105ms/step - loss: 0.0926 - accuracy: 0.9726 - precision: 0.9140 - recall: 0.9868 - val_loss: 0.2682 - val_accuracy: 0.9263 - val_precision: 0.8794 - val_recall: 0.9503\n",
      "Epoch 26/60\n",
      "2221/2221 [==============================] - 237s 107ms/step - loss: 0.0889 - accuracy: 0.9739 - precision: 0.9140 - recall: 0.9878 - val_loss: 0.2870 - val_accuracy: 0.9241 - val_precision: 0.8698 - val_recall: 0.9494\n",
      "Epoch 27/60\n",
      "2221/2221 [==============================] - 237s 107ms/step - loss: 0.0870 - accuracy: 0.9745 - precision: 0.9149 - recall: 0.9881 - val_loss: 0.2986 - val_accuracy: 0.9294 - val_precision: 0.8866 - val_recall: 0.9478\n",
      "Epoch 28/60\n",
      "2221/2221 [==============================] - 235s 106ms/step - loss: 0.0853 - accuracy: 0.9754 - precision: 0.9171 - recall: 0.9884 - val_loss: 0.2624 - val_accuracy: 0.9289 - val_precision: 0.8807 - val_recall: 0.9506\n",
      "Epoch 29/60\n",
      "2221/2221 [==============================] - 233s 105ms/step - loss: 0.0825 - accuracy: 0.9761 - precision: 0.9192 - recall: 0.9887 - val_loss: 0.2812 - val_accuracy: 0.9303 - val_precision: 0.8882 - val_recall: 0.9510\n",
      "Epoch 30/60\n",
      "2221/2221 [==============================] - 255s 115ms/step - loss: 0.0796 - accuracy: 0.9771 - precision: 0.9211 - recall: 0.9892 - val_loss: 0.2727 - val_accuracy: 0.9275 - val_precision: 0.8832 - val_recall: 0.9482\n",
      "Epoch 31/60\n",
      "2221/2221 [==============================] - 237s 107ms/step - loss: 0.0791 - accuracy: 0.9763 - precision: 0.9232 - recall: 0.9892 - val_loss: 0.2778 - val_accuracy: 0.9273 - val_precision: 0.8819 - val_recall: 0.9494\n",
      "Epoch 32/60\n",
      "2221/2221 [==============================] - 234s 105ms/step - loss: 0.0757 - accuracy: 0.9781 - precision: 0.9262 - recall: 0.9897 - val_loss: 0.2949 - val_accuracy: 0.9251 - val_precision: 0.8775 - val_recall: 0.9477\n",
      "Epoch 33/60\n",
      "2221/2221 [==============================] - 246s 111ms/step - loss: 0.0733 - accuracy: 0.9789 - precision: 0.9235 - recall: 0.9904 - val_loss: 0.2977 - val_accuracy: 0.9282 - val_precision: 0.8868 - val_recall: 0.9490\n",
      "Epoch 34/60\n",
      "2221/2221 [==============================] - 243s 109ms/step - loss: 0.0729 - accuracy: 0.9790 - precision: 0.9280 - recall: 0.9900 - val_loss: 0.2926 - val_accuracy: 0.9284 - val_precision: 0.8889 - val_recall: 0.9482\n",
      "Epoch 35/60\n",
      "2221/2221 [==============================] - 238s 107ms/step - loss: 0.0704 - accuracy: 0.9797 - precision: 0.9298 - recall: 0.9904 - val_loss: 0.2993 - val_accuracy: 0.9304 - val_precision: 0.8896 - val_recall: 0.9494\n",
      "Epoch 36/60\n",
      "2221/2221 [==============================] - 245s 110ms/step - loss: 0.0723 - accuracy: 0.9791 - precision: 0.9301 - recall: 0.9901 - val_loss: 0.2897 - val_accuracy: 0.9269 - val_precision: 0.8854 - val_recall: 0.9454\n",
      "Epoch 37/60\n",
      "2221/2221 [==============================] - 240s 108ms/step - loss: 0.0691 - accuracy: 0.9806 - precision: 0.9318 - recall: 0.9908 - val_loss: 0.3114 - val_accuracy: 0.9285 - val_precision: 0.8904 - val_recall: 0.9489\n",
      "Epoch 38/60\n",
      "2221/2221 [==============================] - 240s 108ms/step - loss: 0.0663 - accuracy: 0.9814 - precision: 0.9317 - recall: 0.9911 - val_loss: 0.3014 - val_accuracy: 0.9250 - val_precision: 0.8846 - val_recall: 0.9466\n",
      "Epoch 39/60\n",
      "2221/2221 [==============================] - 244s 110ms/step - loss: 0.0656 - accuracy: 0.9810 - precision: 0.9317 - recall: 0.9916 - val_loss: 0.3112 - val_accuracy: 0.9276 - val_precision: 0.8915 - val_recall: 0.9469\n",
      "Epoch 40/60\n",
      "2221/2221 [==============================] - 239s 108ms/step - loss: 0.0629 - accuracy: 0.9827 - precision: 0.9347 - recall: 0.9918 - val_loss: 0.3141 - val_accuracy: 0.9284 - val_precision: 0.8894 - val_recall: 0.9475\n",
      "Epoch 41/60\n",
      "2221/2221 [==============================] - 246s 111ms/step - loss: 0.0663 - accuracy: 0.9813 - precision: 0.9334 - recall: 0.9910 - val_loss: 0.3067 - val_accuracy: 0.9300 - val_precision: 0.8921 - val_recall: 0.9487\n",
      "Epoch 42/60\n",
      "2221/2221 [==============================] - 238s 107ms/step - loss: 0.0620 - accuracy: 0.9824 - precision: 0.9360 - recall: 0.9915 - val_loss: 0.3124 - val_accuracy: 0.9266 - val_precision: 0.8878 - val_recall: 0.9463\n",
      "Epoch 43/60\n",
      "2221/2221 [==============================] - 235s 106ms/step - loss: 0.0586 - accuracy: 0.9834 - precision: 0.9368 - recall: 0.9925 - val_loss: 0.3088 - val_accuracy: 0.9250 - val_precision: 0.8837 - val_recall: 0.9477\n",
      "Epoch 44/60\n",
      "2221/2221 [==============================] - 234s 105ms/step - loss: 0.0589 - accuracy: 0.9830 - precision: 0.9376 - recall: 0.9922 - val_loss: 0.3257 - val_accuracy: 0.9288 - val_precision: 0.8924 - val_recall: 0.9466\n",
      "Epoch 45/60\n",
      "2221/2221 [==============================] - 238s 107ms/step - loss: 0.0566 - accuracy: 0.9847 - precision: 0.9406 - recall: 0.9927 - val_loss: 0.3254 - val_accuracy: 0.9286 - val_precision: 0.8919 - val_recall: 0.9472\n",
      "Epoch 46/60\n",
      "2221/2221 [==============================] - 238s 107ms/step - loss: 0.0564 - accuracy: 0.9843 - precision: 0.9393 - recall: 0.9929 - val_loss: 0.3142 - val_accuracy: 0.9267 - val_precision: 0.8867 - val_recall: 0.9466\n",
      "Epoch 47/60\n",
      "2221/2221 [==============================] - 239s 108ms/step - loss: 0.0552 - accuracy: 0.9845 - precision: 0.9408 - recall: 0.9926 - val_loss: 0.3174 - val_accuracy: 0.9262 - val_precision: 0.8885 - val_recall: 0.9467\n",
      "Epoch 48/60\n",
      "2221/2221 [==============================] - 242s 109ms/step - loss: 0.0520 - accuracy: 0.9853 - precision: 0.9434 - recall: 0.9932 - val_loss: 0.3378 - val_accuracy: 0.9276 - val_precision: 0.8926 - val_recall: 0.9468\n",
      "Epoch 49/60\n",
      "2221/2221 [==============================] - 241s 109ms/step - loss: 0.0510 - accuracy: 0.9853 - precision: 0.9451 - recall: 0.9933 - val_loss: 0.3366 - val_accuracy: 0.9238 - val_precision: 0.8866 - val_recall: 0.9428\n",
      "Epoch 50/60\n",
      "2221/2221 [==============================] - 242s 109ms/step - loss: 0.0486 - accuracy: 0.9864 - precision: 0.9455 - recall: 0.9939 - val_loss: 0.3406 - val_accuracy: 0.9275 - val_precision: 0.8925 - val_recall: 0.9465\n",
      "Epoch 51/60\n",
      "2221/2221 [==============================] - 246s 111ms/step - loss: 0.0507 - accuracy: 0.9856 - precision: 0.9450 - recall: 0.9937 - val_loss: 0.3432 - val_accuracy: 0.9271 - val_precision: 0.8900 - val_recall: 0.9460\n",
      "Epoch 52/60\n",
      "2221/2221 [==============================] - 244s 110ms/step - loss: 0.0484 - accuracy: 0.9861 - precision: 0.9455 - recall: 0.9938 - val_loss: 0.3481 - val_accuracy: 0.9226 - val_precision: 0.8844 - val_recall: 0.9416\n",
      "Epoch 53/60\n",
      "2221/2221 [==============================] - 241s 109ms/step - loss: 0.0474 - accuracy: 0.9867 - precision: 0.9464 - recall: 0.9940 - val_loss: 0.3485 - val_accuracy: 0.9272 - val_precision: 0.8936 - val_recall: 0.9467\n",
      "Epoch 54/60\n",
      "2221/2221 [==============================] - 245s 110ms/step - loss: 0.0451 - accuracy: 0.9872 - precision: 0.9474 - recall: 0.9944 - val_loss: 0.3422 - val_accuracy: 0.9242 - val_precision: 0.8901 - val_recall: 0.9443\n",
      "Epoch 55/60\n",
      "2221/2221 [==============================] - 241s 108ms/step - loss: 0.0440 - accuracy: 0.9878 - precision: 0.9490 - recall: 0.9944 - val_loss: 0.3466 - val_accuracy: 0.9229 - val_precision: 0.8821 - val_recall: 0.9417\n",
      "Epoch 56/60\n",
      "2221/2221 [==============================] - 242s 109ms/step - loss: 0.0458 - accuracy: 0.9876 - precision: 0.9479 - recall: 0.9943 - val_loss: 0.3690 - val_accuracy: 0.9244 - val_precision: 0.8869 - val_recall: 0.9428\n",
      "Epoch 57/60\n",
      "2221/2221 [==============================] - 243s 109ms/step - loss: 0.0433 - accuracy: 0.9877 - precision: 0.9484 - recall: 0.9946 - val_loss: 0.3534 - val_accuracy: 0.9269 - val_precision: 0.8907 - val_recall: 0.9472\n",
      "Epoch 58/60\n",
      "2221/2221 [==============================] - 243s 110ms/step - loss: 0.0414 - accuracy: 0.9885 - precision: 0.9494 - recall: 0.9950 - val_loss: 0.3649 - val_accuracy: 0.9248 - val_precision: 0.8903 - val_recall: 0.9437\n",
      "Epoch 59/60\n",
      "2221/2221 [==============================] - 240s 108ms/step - loss: 0.0426 - accuracy: 0.9879 - precision: 0.9490 - recall: 0.9946 - val_loss: 0.3633 - val_accuracy: 0.9259 - val_precision: 0.8926 - val_recall: 0.9458\n",
      "Epoch 60/60\n",
      "2221/2221 [==============================] - 235s 106ms/step - loss: 0.0422 - accuracy: 0.9882 - precision: 0.9496 - recall: 0.9948 - val_loss: 0.3758 - val_accuracy: 0.9255 - val_precision: 0.8919 - val_recall: 0.9458\n"
     ]
    },
    {
     "data": {
      "text/plain": [
       "<keras.callbacks.History at 0x13d0f9a1d60>"
      ]
     },
     "execution_count": 67,
     "metadata": {},
     "output_type": "execute_result"
    }
   ],
   "source": [
    "PATH_KERAS_LSTM = 'C:\\\\Users\\\\mamai\\\\Desktop\\\\Tesi\\\\Code\\\\Models\\\\Keras\\\\LSTM\\\\Simplified_Train60Test40Valid20\\\\'\n",
    "\n",
    "# Model weights are saved at the end of every epoch, if it's the best seen so far.\n",
    "model_checkpoint_callback = ModelCheckpoint(\n",
    "    filepath=PATH_KERAS_LSTM,\n",
    "    save_weights_only=True,\n",
    "    monitor='val_accuracy',\n",
    "    mode='max',\n",
    "    save_best_only=True)\n",
    "\n",
    "history = model_keras_lstm.fit(x=X_train_dl, y=y_train_dl,\n",
    "        batch_size=batch_size, epochs=epochs,\n",
    "        validation_data=(X_valid_dl, y_valid_dl),\n",
    "        callbacks=[model_checkpoint_callback])\n",
    "\n",
    "history"
   ]
  },
  {
   "cell_type": "code",
   "execution_count": 68,
   "id": "5c2e621a-fcbc-46da-98a0-27fbe1cbd7b5",
   "metadata": {},
   "outputs": [
    {
     "data": {
      "text/plain": [
       "<tensorflow.python.checkpoint.checkpoint.CheckpointLoadStatus at 0x13d0fd8b970>"
      ]
     },
     "execution_count": 68,
     "metadata": {},
     "output_type": "execute_result"
    }
   ],
   "source": [
    "# The model weights (that are considered the best) are loaded into the model.\n",
    "# The best model is the one that achieves the smaller loss on the validation set.\n",
    "model_keras_lstm.load_weights(PATH_KERAS_LSTM)"
   ]
  },
  {
   "cell_type": "code",
   "execution_count": 69,
   "id": "17b2f2f4-165d-4c07-b390-53f8026b5696",
   "metadata": {},
   "outputs": [
    {
     "data": {
      "image/png": "[encoded data removed]",
      "text/plain": [
       "<Figure size 1440x432 with 2 Axes>"
      ]
     },
     "metadata": {
      "needs_background": "light"
     },
     "output_type": "display_data"
    }
   ],
   "source": [
    "# Visualize results of Keras model\n",
    "\n",
    "fig = plt.figure(figsize = (20, 6))\n",
    "plt.subplot(1, 2, 1)\n",
    "plt.plot(history.history['accuracy'], label='Train Keras')\n",
    "plt.plot(history.history['val_accuracy'], label='Validation Keras')\n",
    "plt.title(\"Accuracy\")\n",
    "plt.ylabel('accuracy')\n",
    "plt.xlabel('epoch')\n",
    "plt.legend()\n",
    "plt.grid()\n",
    "    \n",
    "plt.subplot(1, 2, 2)\n",
    "plt.plot(history.history['loss'], label='Train Keras')\n",
    "plt.plot(history.history['val_loss'], label='Validation Keras')\n",
    "plt.title(\"Loss\")\n",
    "plt.ylabel('loss')\n",
    "plt.xlabel('epoch')\n",
    "plt.legend()\n",
    "plt.grid()\n",
    "\n",
    "plt.show()"
   ]
  },
  {
   "cell_type": "code",
   "execution_count": 70,
   "id": "21e834d8-c085-41ad-8947-1f0a9dc80857",
   "metadata": {},
   "outputs": [
    {
     "name": "stdout",
     "output_type": "stream",
     "text": [
      "695/695 - 3s - loss: 0.2502 - accuracy: 0.9296 - precision: 0.8757 - recall: 0.9538 - 3s/epoch - 5ms/step\n"
     ]
    },
    {
     "data": {
      "text/plain": [
       "[0.25022178888320923,\n",
       " 0.9295812845230103,\n",
       " 0.8756664991378784,\n",
       " 0.9538496136665344]"
      ]
     },
     "execution_count": 70,
     "metadata": {},
     "output_type": "execute_result"
    }
   ],
   "source": [
    "model_keras_lstm.evaluate(X_test_dl, y_test_dl, verbose=2)"
   ]
  },
  {
   "cell_type": "code",
   "execution_count": 71,
   "id": "f38945de-b46b-43ea-903a-396714f7a005",
   "metadata": {},
   "outputs": [
    {
     "name": "stdout",
     "output_type": "stream",
     "text": [
      "695/695 [==============================] - 4s 5ms/step\n"
     ]
    }
   ],
   "source": [
    "y_pred = model_keras_lstm.predict(X_test_dl)"
   ]
  },
  {
   "cell_type": "code",
   "execution_count": 72,
   "id": "2feb735e-8dd1-46b8-bdd9-d87a60257688",
   "metadata": {},
   "outputs": [],
   "source": [
    "lstm_pred = [np.argmax(pred) for pred in y_pred]\n",
    "true_pred = [np.argmax(pred) for pred in y_test_dl]"
   ]
  },
  {
   "cell_type": "code",
   "execution_count": 73,
   "id": "d0a911e9-476d-414b-a69f-143d503c9181",
   "metadata": {},
   "outputs": [
    {
     "name": "stdout",
     "output_type": "stream",
     "text": [
      "Classification Report for Bert Base Uncased:\n",
      "               precision    recall  f1-score   support\n",
      "\n",
      "           0       0.94      0.94      0.94      7206\n",
      "           1       0.94      0.93      0.93      8557\n",
      "           2       0.91      0.92      0.92      6447\n",
      "\n",
      "    accuracy                           0.93     22210\n",
      "   macro avg       0.93      0.93      0.93     22210\n",
      "weighted avg       0.93      0.93      0.93     22210\n",
      "\n"
     ]
    }
   ],
   "source": [
    "from sklearn.metrics import classification_report, confusion_matrix\n",
    "\n",
    "print('Classification Report for Bert Base Uncased:\\n',classification_report(true_pred, lstm_pred))"
   ]
  },
  {
   "cell_type": "code",
   "execution_count": 74,
   "id": "d09029cf-678f-4bac-a192-512f1efc5f07",
   "metadata": {},
   "outputs": [
    {
     "name": "stdout",
     "output_type": "stream",
     "text": [
      "[[6738  247  221]\n",
      " [ 246 7955  356]\n",
      " [ 191  303 5953]]\n"
     ]
    }
   ],
   "source": [
    "conf_bert = confusion_matrix(true_pred, lstm_pred)\n",
    "print(conf_bert)\n"
   ]
  },
  {
   "cell_type": "code",
   "execution_count": 75,
   "id": "58d04bd2-e98a-495a-bfed-f132930dc179",
   "metadata": {},
   "outputs": [],
   "source": [
    "conf_df_rnn = pd.DataFrame(data=conf_bert, columns=['Actual Negative:-1', 'Actual Neutral:0', 'Actual Positive:1'], \n",
    "                                 index=['Predict Negative:-1', 'Predict Neutral:0', 'Predict Positive:1'])"
   ]
  },
  {
   "cell_type": "code",
   "execution_count": 76,
   "id": "1878e028-f73a-462c-9dc1-15b67fc73926",
   "metadata": {},
   "outputs": [
    {
     "data": {
      "text/plain": [
       "<AxesSubplot:>"
      ]
     },
     "execution_count": 76,
     "metadata": {},
     "output_type": "execute_result"
    },
    {
     "data": {
      "image/png": "[encoded data removed]",
      "text/plain": [
       "<Figure size 432x288 with 2 Axes>"
      ]
     },
     "metadata": {
      "needs_background": "light"
     },
     "output_type": "display_data"
    }
   ],
   "source": [
    "import seaborn as sns\n",
    "\n",
    "sns.heatmap(conf_df_rnn, annot = True, fmt = '', cmap = 'Blues')"
   ]
  },
  {
   "cell_type": "markdown",
   "id": "237f1870-d6b0-4ddc-ace3-ae9d6706ad71",
   "metadata": {},
   "source": [
    "# Conclusion Neural Networks"
   ]
  },
  {
   "cell_type": "markdown",
   "id": "4c588dea-9b9d-4a21-a44e-9635e3596409",
   "metadata": {},
   "source": [
    "\n",
    "0.3519522547721863, 0.92118239402771, 0.8563084602355957, 0.9505391716957092"
   ]
  }
 ],
 "metadata": {
  "kernelspec": {
   "display_name": "Python 3 (ipykernel)",
   "language": "python",
   "name": "python3"
  },
  "language_info": {
   "codemirror_mode": {
    "name": "ipython",
    "version": 3
   },
   "file_extension": ".py",
   "mimetype": "text/x-python",
   "name": "python",
   "nbconvert_exporter": "python",
   "pygments_lexer": "ipython3",
   "version": "3.9.6"
  }
 },
 "nbformat": 4,
 "nbformat_minor": 5
}
